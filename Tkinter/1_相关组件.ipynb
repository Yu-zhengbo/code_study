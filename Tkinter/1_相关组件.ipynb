{
 "cells": [
  {
   "cell_type": "code",
   "execution_count": 1,
   "id": "8e393814",
   "metadata": {},
   "outputs": [],
   "source": [
    "from IPython.core.interactiveshell import InteractiveShell\n",
    "\n",
    "InteractiveShell.ast_node_interactivity = 'all'"
   ]
  },
  {
   "cell_type": "code",
   "execution_count": 5,
   "id": "fe18cd82",
   "metadata": {},
   "outputs": [
    {
     "data": {
      "text/plain": [
       "''"
      ]
     },
     "execution_count": 5,
     "metadata": {},
     "output_type": "execute_result"
    },
    {
     "data": {
      "text/plain": [
       "''"
      ]
     },
     "execution_count": 5,
     "metadata": {},
     "output_type": "execute_result"
    }
   ],
   "source": [
    "#label、button\n",
    "\n",
    "import tkinter as tk\n",
    "\n",
    "window = tk.Tk()\n",
    "window.title('Window')\n",
    "window.geometry('200x100')\n",
    "\n",
    "var = tk.StringVar()\n",
    "l = tk.Label(window,textvariable=var,bg='green',font=('Arial',12),width=15,height=2)\n",
    "l.pack()\n",
    "\n",
    "on_hit = False\n",
    "def hit_me():\n",
    "    global on_hit\n",
    "    if on_hit==False:\n",
    "        var.set('you hit me!')\n",
    "        on_hit = True\n",
    "    else:\n",
    "        var.set('')\n",
    "        on_hit = False\n",
    "        \n",
    "b = tk.Button(window,text='hit me',width=15,height=2,command=hit_me)\n",
    "b.pack()\n",
    "window.mainloop()"
   ]
  },
  {
   "cell_type": "code",
   "execution_count": 7,
   "id": "55954c06",
   "metadata": {},
   "outputs": [
    {
     "data": {
      "text/plain": [
       "''"
      ]
     },
     "execution_count": 7,
     "metadata": {},
     "output_type": "execute_result"
    },
    {
     "data": {
      "text/plain": [
       "''"
      ]
     },
     "execution_count": 7,
     "metadata": {},
     "output_type": "execute_result"
    }
   ],
   "source": [
    "#Entry、text\n",
    "\n",
    "import tkinter as tk\n",
    "\n",
    "window = tk.Tk()\n",
    "window.title('window')\n",
    "window.geometry('600x300')\n",
    "\n",
    "e = tk.Entry(window,show='*')\n",
    "e.pack()\n",
    "\n",
    "def insert_point():\n",
    "    var = e.get()\n",
    "    t.insert('insert',var)\n",
    "    \n",
    "def insert_end():\n",
    "    var = e.get()\n",
    "    t.insert(2.2,var)\n",
    "#     t.insert('end',var)\n",
    "\n",
    "\n",
    "\n",
    "b1 = tk.Button(window,text='insert_point',width=15,height=2,command=insert_point)\n",
    "b1.pack()\n",
    "\n",
    "b2 = tk.Button(window,text='insert_end',width=15,height=2,command=insert_end)\n",
    "b2.pack()\n",
    "\n",
    "t = tk.Text(window,height=2)\n",
    "t.pack()\n",
    "window.mainloop()"
   ]
  },
  {
   "cell_type": "code",
   "execution_count": 14,
   "id": "19695bfd",
   "metadata": {},
   "outputs": [
    {
     "data": {
      "text/plain": [
       "''"
      ]
     },
     "execution_count": 14,
     "metadata": {},
     "output_type": "execute_result"
    },
    {
     "data": {
      "text/plain": [
       "''"
      ]
     },
     "execution_count": 14,
     "metadata": {},
     "output_type": "execute_result"
    }
   ],
   "source": [
    "#listbox列表组件\n",
    "\n",
    "import tkinter as tk\n",
    "window = tk.Tk()\n",
    "window.title('window')\n",
    "window.geometry('400x400')\n",
    "\n",
    "var = tk.StringVar()\n",
    "l = tk.Label(window,bg='yellow',width=4,textvariable=var)\n",
    "l.pack()\n",
    "\n",
    "def print_num():\n",
    "    value = lb.get(lb.curselection())\n",
    "    var.set(value)\n",
    "\n",
    "b = tk.Button(window,text='button',height=4,width=6,command=print_num)\n",
    "b.pack()\n",
    "\n",
    "var_ = tk.StringVar()\n",
    "var_.set((11,22,33,44))\n",
    "lb = tk.Listbox(window,listvariable=var_)\n",
    "list_items = (1,2,3,4)\n",
    "for item in list_items:\n",
    "    lb.insert('end',item)\n",
    "    \n",
    "lb.insert(0,'first')\n",
    "lb.insert(1,'second')\n",
    "lb.delete(1)\n",
    "lb.pack()\n",
    "\n",
    "window.mainloop()"
   ]
  },
  {
   "cell_type": "code",
   "execution_count": 21,
   "id": "d11708c6",
   "metadata": {},
   "outputs": [
    {
     "data": {
      "text/plain": [
       "''"
      ]
     },
     "execution_count": 21,
     "metadata": {},
     "output_type": "execute_result"
    },
    {
     "data": {
      "text/plain": [
       "''"
      ]
     },
     "execution_count": 21,
     "metadata": {},
     "output_type": "execute_result"
    }
   ],
   "source": [
    "#radiobutton\n",
    "import tkinter as tk\n",
    "\n",
    "window = tk.Tk()\n",
    "window.title('window')\n",
    "window.geometry('400x400')\n",
    "\n",
    "var = tk.StringVar()\n",
    "l = tk.Label(window,bg='yellow',width=18,text='empty')\n",
    "l.pack()\n",
    "\n",
    "def print_selection():\n",
    "    l.config(text='You select%s'%var.get())\n",
    "\n",
    "r1 = tk.Radiobutton(window,text='Option A',variable=var,value='A',command=print_selection)\n",
    "r1.pack()\n",
    "r2 = tk.Radiobutton(window,text='Option B',variable=var,value='B',command=print_selection)\n",
    "r2.pack()\n",
    "r3 = tk.Radiobutton(window,text='Option C',variable=var,value='C',command=print_selection)\n",
    "r3.pack()\n",
    "\n",
    "window.mainloop()"
   ]
  },
  {
   "cell_type": "code",
   "execution_count": 25,
   "id": "2e1eb70f",
   "metadata": {},
   "outputs": [
    {
     "data": {
      "text/plain": [
       "''"
      ]
     },
     "execution_count": 25,
     "metadata": {},
     "output_type": "execute_result"
    },
    {
     "data": {
      "text/plain": [
       "''"
      ]
     },
     "execution_count": 25,
     "metadata": {},
     "output_type": "execute_result"
    }
   ],
   "source": [
    "#Scale部件\n",
    "import tkinter as tk\n",
    "\n",
    "window = tk.Tk()\n",
    "window.title('window')\n",
    "window.geometry('400x400')\n",
    "\n",
    "l = tk.Label(window,bg='yellow',width=18,text='empty')\n",
    "l.pack()\n",
    "\n",
    "def print_selection(v):\n",
    "    l.config(text='You select %s'%v)\n",
    "    \n",
    "s = tk.Scale(window,from_=5,to=11,orient=tk.HORIZONTAL,length=200,showvalue=0,tickinterval=2,resolution=0.01,\n",
    "            command=print_selection)\n",
    "s.pack()\n",
    "window.mainloop()"
   ]
  },
  {
   "cell_type": "code",
   "execution_count": 31,
   "id": "9c6d8b87",
   "metadata": {},
   "outputs": [
    {
     "data": {
      "text/plain": [
       "''"
      ]
     },
     "execution_count": 31,
     "metadata": {},
     "output_type": "execute_result"
    },
    {
     "data": {
      "text/plain": [
       "''"
      ]
     },
     "execution_count": 31,
     "metadata": {},
     "output_type": "execute_result"
    }
   ],
   "source": [
    "#Checkbutton\n",
    "import tkinter as tk\n",
    "\n",
    "window = tk.Tk()\n",
    "window.title('window')\n",
    "window.geometry('400x400')\n",
    "\n",
    "l = tk.Label(window,text='empty',bg='yellow',width=20)\n",
    "l.pack()\n",
    "\n",
    "var1 = tk.IntVar()\n",
    "var2 = tk.IntVar()\n",
    "\n",
    "def print_selection():\n",
    "    if var1.get()==1 and var2.get()==0:\n",
    "        l.config(text='I love Python')\n",
    "    elif var1.get()==0 and var2.get()==1:\n",
    "        l.config(text='I love C++')\n",
    "    elif var1.get()==1 and var2.get()==1:\n",
    "        l.config(text='I love both of above')\n",
    "    else:\n",
    "        l.config(text='empty')\n",
    "        \n",
    "\n",
    "c1 = tk.Checkbutton(window,text='Python',variable=var1,offvalue=0,onvalue=1,command=print_selection)\n",
    "c2 = tk.Checkbutton(window,text='C++',variable=var2,offvalue=0,onvalue=1,command=print_selection)\n",
    "c1.pack()\n",
    "c2.pack()\n",
    "\n",
    "window.mainloop()"
   ]
  },
  {
   "cell_type": "code",
   "execution_count": 2,
   "id": "2f6bcd98",
   "metadata": {},
   "outputs": [],
   "source": [
    "#convas画布\n",
    "from PIL import ImageTk\n",
    "import tkinter as tk\n",
    "\n",
    "window = tk.Tk()\n",
    "window.title('window')\n",
    "window.geometry('400x400')\n",
    "\n",
    "convas = tk.Canvas(window,bg='yellow',height=300,width=200)\n",
    "img_file = ImageTk.PhotoImage(file=r'C:\\Users\\24132\\Desktop\\gyy.jpg')\n",
    "img = convas.create_image(0,0,anchor='nw',image=img_file)\n",
    "x0,y0,x1,y1 = 50,50,80,80\n",
    "line = convas.create_line(x0,y0,x1,y1)\n",
    "oval = convas.create_oval(x0,y0,x1+50,y1,fill='yellow')     #原点坐标，横轴和纵轴的半径\n",
    "arc = convas.create_arc(x0+30,y0+30,x1+30,y1+30,start=0,extent=120)\n",
    "rect = convas.create_rectangle(100,30,100+20,30+20)\n",
    "convas.pack()\n",
    "\n",
    "def moveit():\n",
    "    convas.move(img,0,2)\n",
    "\n",
    "button = tk.Button(window,text='move',command=moveit).pack()\n",
    "\n",
    "window.mainloop()"
   ]
  },
  {
   "cell_type": "code",
   "execution_count": 5,
   "id": "282c44a7",
   "metadata": {},
   "outputs": [
    {
     "data": {
      "text/plain": [
       "''"
      ]
     },
     "execution_count": 5,
     "metadata": {},
     "output_type": "execute_result"
    },
    {
     "data": {
      "text/plain": [
       "''"
      ]
     },
     "execution_count": 5,
     "metadata": {},
     "output_type": "execute_result"
    }
   ],
   "source": [
    "#Menu\n",
    "import tkinter as tk\n",
    "\n",
    "window = tk.Tk()\n",
    "window.title('window')\n",
    "window.geometry('400x400')\n",
    "\n",
    "label = tk.Label(window,text = '',bg='yellow',width=18)\n",
    "label.pack()\n",
    "\n",
    "q = 0\n",
    "def do_job():\n",
    "    global q\n",
    "    label.config(text = 'get'+str(q))\n",
    "    q += 1\n",
    "    \n",
    "\n",
    "menubar = tk.Menu(window)\n",
    "filemenu = tk.Menu(menubar,tearoff=0)\n",
    "menubar.add_cascade(label='File',menu=filemenu)\n",
    "filemenu.add_command(label='New',command=do_job)\n",
    "filemenu.add_command(label='Open',command=do_job)\n",
    "\n",
    "opmenu = tk.Menu(menubar,tearoff=0)\n",
    "menubar.add_cascade(label='Operate',menu=opmenu)\n",
    "opmenu.add_command(label='New',command=do_job)\n",
    "opmenu.add_command(label='Open',command=do_job)\n",
    "\n",
    "submenu = tk.Menu(opmenu)\n",
    "opmenu.add_cascade(label='sub',menu=submenu)\n",
    "submenu.add_command(label='sub_',command=do_job)\n",
    "\n",
    "window.config(menu=menubar)\n",
    "window.mainloop()"
   ]
  },
  {
   "cell_type": "code",
   "execution_count": 8,
   "id": "25dc59b0",
   "metadata": {},
   "outputs": [
    {
     "data": {
      "text/plain": [
       "''"
      ]
     },
     "execution_count": 8,
     "metadata": {},
     "output_type": "execute_result"
    },
    {
     "data": {
      "text/plain": [
       "''"
      ]
     },
     "execution_count": 8,
     "metadata": {},
     "output_type": "execute_result"
    }
   ],
   "source": [
    "#Frame\n",
    "import tkinter as tk\n",
    "\n",
    "window = tk.Tk()\n",
    "window.title('window')\n",
    "window.geometry('400x400')\n",
    "\n",
    "tk.Label(window,text='on the window').pack()\n",
    "\n",
    "frm = tk.Frame(window)\n",
    "frm.pack()\n",
    "frm_l = tk.Frame(frm)\n",
    "frm_r = tk.Frame(frm)\n",
    "frm_l.pack(side='left')\n",
    "frm_r.pack(side='right')\n",
    "\n",
    "tk.Label(frm_l,text='on the frm_l1').pack()\n",
    "tk.Label(frm_l,text='on the frm_l2').pack()\n",
    "\n",
    "tk.Label(frm_r,text='on the frm_r1').pack()\n",
    "\n",
    "window.mainloop()"
   ]
  },
  {
   "cell_type": "code",
   "execution_count": 20,
   "id": "d66f5e52",
   "metadata": {},
   "outputs": [
    {
     "data": {
      "text/plain": [
       "''"
      ]
     },
     "execution_count": 20,
     "metadata": {},
     "output_type": "execute_result"
    },
    {
     "data": {
      "text/plain": [
       "''"
      ]
     },
     "execution_count": 20,
     "metadata": {},
     "output_type": "execute_result"
    },
    {
     "name": "stdout",
     "output_type": "stream",
     "text": [
      "True\n",
      "True\n"
     ]
    }
   ],
   "source": [
    "#messagebox\n",
    "\n",
    "import tkinter as tk\n",
    "import tkinter.messagebox \n",
    "\n",
    "window = tk.Tk()\n",
    "window.title('window')\n",
    "window.geometry('400x400')\n",
    "\n",
    "def hit_me():\n",
    "#     tk.messagebox.showinfo(title='Hi',message='hahahaha')\n",
    "#     tk.messagebox.showwarning(title='Hi',message='hahahaha')\n",
    "#     tk.messagebox.showerror(title='Hi',message='nononono')\n",
    "#     print(tk.messagebox.askquestion(title='Hi',message='hahahaha'))\n",
    "    print(tk.messagebox.askyesno(title='Hi',message='hahahaha'))\n",
    "    \n",
    "tk.Button(window,bg='green',text='hit me',command=hit_me).pack()\n",
    "\n",
    "window.mainloop()"
   ]
  },
  {
   "cell_type": "code",
   "execution_count": 2,
   "id": "ba660a7b",
   "metadata": {},
   "outputs": [],
   "source": [
    "#网页登录 \n",
    "import tkinter as tk\n",
    "from PIL import ImageTk\n",
    "import tkinter.messagebox \n",
    "\n",
    "user_file = './userinfo.txt'\n",
    "\n",
    "window = tk.Tk()\n",
    "window.title('Hello python!')\n",
    "window.geometry('800x800')\n",
    "\n",
    "convas = tk.Canvas(window)\n",
    "convas = tk.Canvas(window,bg='yellow',height=300,width=200)\n",
    "img_file = ImageTk.PhotoImage(file=r'C:\\Users\\24132\\Desktop\\gyy.jpg')\n",
    "img = convas.create_image(0,0,anchor='nw',image=img_file)\n",
    "\n",
    "label_name = tk.Label(window,text='User name:',width=10)\n",
    "label_word = tk.Label(window,text='Password:',width=10)\n",
    "user = tk.Entry(window,width=10)\n",
    "word = tk.Entry(window,width=10,show=None)\n",
    "\n",
    "label_name.place(x=200,y=400,anchor='s')\n",
    "label_word.place(x=200,y=450,anchor='s')\n",
    "user.place(x=350,y=400,anchor='e')\n",
    "word.place(x=350,y=450,anchor='e')\n",
    "convas.pack()\n",
    "\n",
    "def in_():\n",
    "    with open(user_file,'r')as f:\n",
    "        u = user.get()\n",
    "        p = word.get()\n",
    "        a = f.readlines()\n",
    "        a = [i.split('\\n')[0] for i in a]\n",
    "        str_ = u+' '+p\n",
    "        try:\n",
    "            a.index(str_)\n",
    "            tk.messagebox.showinfo(title='Hi:'+u,message='登录成功')\n",
    "        except:\n",
    "            tk.messagebox.showerror(title='Error',message='账号或者密码错误')\n",
    "                \n",
    "\n",
    "def up_():\n",
    "    with open(user_file,'a+')as f:\n",
    "        u = user.get()\n",
    "        p = word.get()\n",
    "        f.write(u+' '+p)\n",
    "        f.write('\\n')\n",
    "        \n",
    "        \n",
    "login = tk.Button(window,text='login',width=10,command=in_)\n",
    "logup = tk.Button(window,text='logup',width=10,command=up_)\n",
    "\n",
    "login.place(x=600,y=400,anchor='s')\n",
    "logup.place(x=600,y=450,anchor='e')\n",
    "\n",
    "window.mainloop()"
   ]
  },
  {
   "cell_type": "code",
   "execution_count": 17,
   "id": "6c0821cb",
   "metadata": {},
   "outputs": [],
   "source": [
    "\n"
   ]
  },
  {
   "cell_type": "code",
   "execution_count": null,
   "id": "1ecef2a6",
   "metadata": {},
   "outputs": [],
   "source": []
  }
 ],
 "metadata": {
  "kernelspec": {
   "display_name": "Python 3",
   "language": "python",
   "name": "python3"
  },
  "language_info": {
   "codemirror_mode": {
    "name": "ipython",
    "version": 3
   },
   "file_extension": ".py",
   "mimetype": "text/x-python",
   "name": "python",
   "nbconvert_exporter": "python",
   "pygments_lexer": "ipython3",
   "version": "3.8.5"
  }
 },
 "nbformat": 4,
 "nbformat_minor": 5
}

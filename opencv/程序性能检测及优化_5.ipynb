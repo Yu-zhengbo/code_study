{
 "cells": [
  {
   "cell_type": "code",
   "execution_count": 11,
   "metadata": {},
   "outputs": [
    {
     "name": "stdout",
     "output_type": "stream",
     "text": [
      "运行时间为： 2.5865934\n",
      "time打印的时间为： 2.5865962505340576\n"
     ]
    }
   ],
   "source": [
    "#使用窗口大小为(5,7,9)的和函数做中值滤波\n",
    "import cv2 \n",
    "import numpy as np\n",
    "import time\n",
    "img1 = cv2.imread('2.png')\n",
    "e1 = cv2.getTickCount()\n",
    "t1 = time.time()\n",
    "for i in range(5,49,2):\n",
    "    img1 = cv2.medianBlur(img1,i)     #中值滤波,滤波版大小为(i,i)\n",
    "    cv2.imshow('image',img1)\n",
    "    cv2.waitKey(0)\n",
    "cv2.destroyAllWindows()\n",
    "e2 = cv2.getTickCount()\n",
    "t2 = time.time()\n",
    "t = (e2-e1)/cv2.getTickFrequency()\n",
    "print('运行时间为：',t)\n",
    "t_ = t2-t1\n",
    "print('time打印的时间为：',t_)"
   ]
  },
  {
   "cell_type": "code",
   "execution_count": null,
   "metadata": {},
   "outputs": [],
   "source": []
  },
  {
   "cell_type": "code",
   "execution_count": null,
   "metadata": {},
   "outputs": [],
   "source": []
  }
 ],
 "metadata": {
  "kernelspec": {
   "display_name": "Python 3",
   "language": "python",
   "name": "python3"
  },
  "language_info": {
   "codemirror_mode": {
    "name": "ipython",
    "version": 3
   },
   "file_extension": ".py",
   "mimetype": "text/x-python",
   "name": "python",
   "nbconvert_exporter": "python",
   "pygments_lexer": "ipython3",
   "version": "3.8.5"
  }
 },
 "nbformat": 4,
 "nbformat_minor": 4
}

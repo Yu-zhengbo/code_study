{
 "cells": [
  {
   "cell_type": "code",
   "execution_count": 7,
   "metadata": {
    "scrolled": true
   },
   "outputs": [
    {
     "name": "stdout",
     "output_type": "stream",
     "text": [
      "不 要 温 顺 的 走 进 那 个 良 夜\n",
      "\n",
      "\n"
     ]
    }
   ],
   "source": [
    "import pytesseract\n",
    "from PIL import Image\n",
    "# 读取图片\n",
    "file = r'C:\\Users\\24132\\Desktop\\8A40DC1CBA7A6A4DCAFC165E80201A81.png'\n",
    "im = Image.open('chinese_sentence.png')\n",
    "# im = Image.open(file)\n",
    "# 识别文字\n",
    "string = pytesseract.image_to_string(im,lang='chi_sim')\n",
    "# string = pytesseract.image_to_string(im)\n",
    "print(string)\n"
   ]
  },
  {
   "cell_type": "code",
   "execution_count": null,
   "metadata": {},
   "outputs": [],
   "source": []
  }
 ],
 "metadata": {
  "kernelspec": {
   "display_name": "Python 3",
   "language": "python",
   "name": "python3"
  },
  "language_info": {
   "codemirror_mode": {
    "name": "ipython",
    "version": 3
   },
   "file_extension": ".py",
   "mimetype": "text/x-python",
   "name": "python",
   "nbconvert_exporter": "python",
   "pygments_lexer": "ipython3",
   "version": "3.8.5"
  }
 },
 "nbformat": 4,
 "nbformat_minor": 4
}

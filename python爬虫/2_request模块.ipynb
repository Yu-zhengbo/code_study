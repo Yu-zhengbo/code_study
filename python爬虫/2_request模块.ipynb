{
 "cells": [
  {
   "cell_type": "code",
   "execution_count": 2,
   "id": "0c3425fb",
   "metadata": {},
   "outputs": [],
   "source": [
    "from IPython.core.interactiveshell import InteractiveShell\n",
    "\n",
    "InteractiveShell.ast_node_interactivity = 'all'"
   ]
  },
  {
   "cell_type": "code",
   "execution_count": 7,
   "id": "12e04078",
   "metadata": {},
   "outputs": [
    {
     "data": {
      "text/plain": [
       "200"
      ]
     },
     "execution_count": 7,
     "metadata": {},
     "output_type": "execute_result"
    }
   ],
   "source": [
    "import requests\n",
    "\n",
    "#指定url\n",
    "url = 'https://www.sogou.com//'\n",
    "#发起请求\n",
    "response = requests.get(url = url)\n",
    "#获取相应数据\n",
    "page_text = response.text\n",
    "\n",
    "#page_text\n",
    "response.status_code"
   ]
  },
  {
   "cell_type": "code",
   "execution_count": 18,
   "id": "d82d3553",
   "metadata": {},
   "outputs": [
    {
     "name": "stdout",
     "output_type": "stream",
     "text": [
      "please enter a keywordgithub\n"
     ]
    },
    {
     "data": {
      "text/plain": [
       "208659"
      ]
     },
     "execution_count": 18,
     "metadata": {},
     "output_type": "execute_result"
    },
    {
     "name": "stdout",
     "output_type": "stream",
     "text": [
      "github保存成功\n"
     ]
    }
   ],
   "source": [
    "import requests\n",
    "\n",
    "url = 'https://www.sogou.com/web'\n",
    "keyword = input('please enter a keyword')\n",
    "\n",
    "headers = {\n",
    "    'User-Agent':'Mozilla/5.0 (Windows NT 10.0; Win64; x64) AppleWebKit/537.36 (KHTML, like Gecko) Chrome/92.0.4515.107 Safari/537.36'\n",
    "}\n",
    "param = {\n",
    "    'query':keyword\n",
    "}\n",
    "\n",
    "response = requests.get(url=url,params=param,headers=headers)\n",
    "text = response.text\n",
    "\n",
    "with open('./爬虫数据/{0}.html'.format(keyword),'w',encoding = 'utf-8')as f:\n",
    "    f.write(text)\n",
    "    print(\"{0}保存成功\".format(keyword))\n"
   ]
  },
  {
   "cell_type": "code",
   "execution_count": 22,
   "id": "bf3b79fc",
   "metadata": {},
   "outputs": [
    {
     "name": "stdout",
     "output_type": "stream",
     "text": [
      "please enter a wordcat\n",
      "{'errno': 0, 'data': [{'k': 'cat', 'v': 'n. 猫; 猫科动物; 狠毒的女人; 爵士乐爱好者 vt. 把（锚）吊放在锚架上; 〈俚〉寻欢，宿娼'}, {'k': 'CAT', 'v': 'abbr. Carburetor Air Temperature 汽化器空气温度'}, {'k': 'Cat', 'v': '[人名] 卡特'}, {'k': 'CaT', 'v': 'abbr. calcium tartrate tetrahydrate 酒石酸钙四水合物'}, {'k': 'cata', 'v': '[机] 渺位; 依照'}]}\n",
      "保存成功\n"
     ]
    }
   ],
   "source": [
    "#百度翻译\n",
    "import json\n",
    "\n",
    "url = 'https://fanyi.baidu.com/sug'\n",
    "\n",
    "word = input(\"please enter a word\")\n",
    "\n",
    "data = {\n",
    "    'kw': word\n",
    "}\n",
    "\n",
    "headers = {\n",
    "    'User-Agent':'Mozilla/5.0 (Windows NT 10.0; Win64; x64) AppleWebKit/537.36 (KHTML, like Gecko) Chrome/92.0.4515.107 Safari/537.36'\n",
    "}\n",
    "\n",
    "response = requests.post(url = url,data = data,headers = headers)\n",
    "text = response.json()\n",
    "\n",
    "f = open('./爬虫数据/{0}.json'.format(word),'w',encoding = 'utf-8')\n",
    "json.dump(text,fp = f,ensure_ascii=False)\n",
    "print(text)\n",
    "print('保存成功')"
   ]
  },
  {
   "cell_type": "code",
   "execution_count": 41,
   "id": "df635877",
   "metadata": {},
   "outputs": [
    {
     "name": "stdout",
     "output_type": "stream",
     "text": [
      "保存成功\n",
      "dict_keys(['rating', 'rank', 'cover_url', 'is_playable', 'id', 'types', 'regions', 'title', 'url', 'release_date', 'actor_count', 'vote_count', 'score', 'actors', 'is_watched'])\n"
     ]
    }
   ],
   "source": [
    "#豆瓣电影爬取\n",
    "\n",
    "url = 'https://movie.douban.com/j/chart/top_list'\n",
    "\n",
    "headers = {\n",
    "    'User-Agent':'Mozilla/5.0 (Windows NT 10.0; Win64; x64) AppleWebKit/537.36 (KHTML, like Gecko) Chrome/92.0.4515.107 Safari/537.36'\n",
    "}\n",
    "\n",
    "param = {\n",
    "    'type': '24',\n",
    "'interval_id': '100:90',\n",
    "'action': '',\n",
    "'start': '0',\n",
    "'limit': '100'\n",
    "}\n",
    "\n",
    "response = requests.get(url=url,params=param,headers=headers)\n",
    "data = response.json()\n",
    "\n",
    "fp = open('./爬虫数据/豆瓣戏剧排行.json','w',encoding='utf-8')\n",
    "json.dump(data,fp,ensure_ascii=False)\n",
    "print('保存成功')\n",
    "\n",
    "fp = open('./爬虫数据/豆瓣戏剧排行.json','r',encoding='utf-8')\n",
    "dict_ = json.load(fp=fp)\n",
    "print(dict_[0].keys())"
   ]
  },
  {
   "cell_type": "code",
   "execution_count": 54,
   "id": "457130da",
   "metadata": {},
   "outputs": [
    {
     "data": {
      "text/plain": [
       "{'Table': [{'rowcount': 5}],\n",
       " 'Table1': [{'rownum': 1,\n",
       "   'storeName': '滁州',\n",
       "   'addressDetail': '南谯北路和天长东路交叉口东南角水石广场一层',\n",
       "   'pro': '24小时,Wi-Fi,礼品卡',\n",
       "   'provinceName': '安徽省',\n",
       "   'cityName': '滁州市'},\n",
       "  {'rownum': 2,\n",
       "   'storeName': '滁州新百餐厅',\n",
       "   'addressDetail': '南僬北路与琅琊大道交口西南角乐彩城一层',\n",
       "   'pro': 'Wi-Fi,店内参观,生日餐会',\n",
       "   'provinceName': '安徽省',\n",
       "   'cityName': '滁州市'}]}"
      ]
     },
     "execution_count": 54,
     "metadata": {},
     "output_type": "execute_result"
    }
   ],
   "source": [
    "#肯德基地址查询\n",
    "\n",
    "url = 'http://www.kfc.com.cn/kfccda/ashx/GetStoreList.ashx?op=keyword'\n",
    "\n",
    "param = {\n",
    "    'cname': '',\n",
    "'pid': '',\n",
    "'keyword': '滁州',\n",
    "'pageIndex': '1',\n",
    "'pageSize': '2'\n",
    "}\n",
    "headers = {\n",
    "    'User-Agent':'Mozilla/5.0 (Windows NT 10.0; Win64; x64) AppleWebKit/537.36 (KHTML, like Gecko) Chrome/92.0.4515.107 Safari/537.36'\n",
    "}\n",
    "response = requests.post(url = url,data = param,headers = headers)\n",
    "dict  = json.loads(response.text)\n",
    "dict"
   ]
  },
  {
   "cell_type": "code",
   "execution_count": 77,
   "id": "fbe29421",
   "metadata": {},
   "outputs": [
    {
     "data": {
      "text/plain": [
       "-1000"
      ]
     },
     "execution_count": 77,
     "metadata": {},
     "output_type": "execute_result"
    }
   ],
   "source": [
    "#药品局相关数据爬虫 \n",
    "headers = {\n",
    "    'User-Agent':'Mozilla/5.0 (Windows NT 10.0; Win64; x64) AppleWebKit/537.36 (KHTML, like Gecko) Chrome/92.0.4515.107 Safari/537.36'\n",
    "}\n",
    "url1 = 'http://scxk.nmpa.gov.cn:81/xk/itownet/portalAction.do?method=getXkzsList'\n",
    "data1 = {\n",
    "    'on': 'true',\n",
    "'page': '2',\n",
    "'pageSize': '15',\n",
    "'productName': '',\n",
    "'conditionType': '1',\n",
    "'applyname': '',\n",
    "'applysn': '',\n",
    "}\n",
    "\n",
    "response1 = requests.post(url=url,headers=headers,data=data1)\n",
    "response1.json()"
   ]
  },
  {
   "cell_type": "code",
   "execution_count": null,
   "id": "a26ace80",
   "metadata": {},
   "outputs": [],
   "source": []
  }
 ],
 "metadata": {
  "kernelspec": {
   "display_name": "Python 3",
   "language": "python",
   "name": "python3"
  },
  "language_info": {
   "codemirror_mode": {
    "name": "ipython",
    "version": 3
   },
   "file_extension": ".py",
   "mimetype": "text/x-python",
   "name": "python",
   "nbconvert_exporter": "python",
   "pygments_lexer": "ipython3",
   "version": "3.8.5"
  }
 },
 "nbformat": 4,
 "nbformat_minor": 5
}

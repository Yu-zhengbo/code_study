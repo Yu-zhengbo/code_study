{
 "cells": [
  {
   "cell_type": "code",
   "execution_count": 5,
   "id": "464b5398",
   "metadata": {},
   "outputs": [],
   "source": [
    "from IPython.core.interactiveshell import InteractiveShell\n",
    "\n",
    "InteractiveShell.ast_node_interactivity = 'all'"
   ]
  },
  {
   "cell_type": "code",
   "execution_count": 6,
   "id": "23de9a1f",
   "metadata": {},
   "outputs": [],
   "source": [
    "#!/usr/bin/env python\n",
    "# coding:utf-8\n",
    "\n",
    "import requests\n",
    "from hashlib import md5\n",
    "\n",
    "class Chaojiying_Client(object):\n",
    "\n",
    "    def __init__(self, username, password, soft_id):\n",
    "        self.username = username\n",
    "        password =  password.encode('utf8')\n",
    "        self.password = md5(password).hexdigest()\n",
    "        self.soft_id = soft_id\n",
    "        self.base_params = {\n",
    "            'user': self.username,\n",
    "            'pass2': self.password,\n",
    "            'softid': self.soft_id,\n",
    "        }\n",
    "        self.headers = {\n",
    "            'Connection': 'Keep-Alive',\n",
    "            'User-Agent': 'Mozilla/4.0 (compatible; MSIE 8.0; Windows NT 5.1; Trident/4.0)',\n",
    "        }\n",
    "\n",
    "    def PostPic(self, im, codetype):\n",
    "        \"\"\"\n",
    "        im: 图片字节\n",
    "        codetype: 题目类型 参考 http://www.chaojiying.com/price.html\n",
    "        \"\"\"\n",
    "        params = {\n",
    "            'codetype': codetype,\n",
    "        }\n",
    "        params.update(self.base_params)\n",
    "        files = {'userfile': ('ccc.jpg', im)}\n",
    "        r = requests.post('http://upload.chaojiying.net/Upload/Processing.php', data=params, files=files, headers=self.headers)\n",
    "        return r.json()\n",
    "\n",
    "    def ReportError(self, im_id):\n",
    "        \"\"\"\n",
    "        im_id:报错题目的图片ID\n",
    "        \"\"\"\n",
    "        params = {\n",
    "            'id': im_id,\n",
    "        }\n",
    "        params.update(self.base_params)\n",
    "        r = requests.post('http://upload.chaojiying.net/Upload/ReportError.php', data=params, headers=self.headers)\n",
    "        return r.json()\n",
    "\n",
    "\n"
   ]
  },
  {
   "cell_type": "code",
   "execution_count": 7,
   "id": "d0a74696",
   "metadata": {},
   "outputs": [],
   "source": [
    "def check_img(img_path,code_type):\n",
    "    chaojiying = Chaojiying_Client('2690486436', '12345678a', '920328')#用户中心>>软件ID 生成一个替换 96001\n",
    "    im = open(img_path, 'rb').read()#本地图片文件路径 来替换 a.jpg 有时WIN系统须要//\n",
    "    return chaojiying.PostPic(im, code_type)['pic_str']#1902 验证码类型  官方网站>>价格体系 3.4+版 print 后要加()\n",
    "    \n",
    "# check_img('a.jpg','1902')"
   ]
  },
  {
   "cell_type": "code",
   "execution_count": 19,
   "id": "242198cd",
   "metadata": {},
   "outputs": [
    {
     "data": {
      "text/plain": [
       "1443"
      ]
     },
     "execution_count": 19,
     "metadata": {},
     "output_type": "execute_result"
    },
    {
     "name": "stdout",
     "output_type": "stream",
     "text": [
      "解码出来的结果为： pkm1\n"
     ]
    }
   ],
   "source": [
    "#识别得到验证码\n",
    "\n",
    "import requests\n",
    "from lxml import etree\n",
    "\n",
    "headers = {\n",
    "    'User-Agent':'Mozilla/5.0 (Windows NT 10.0; Win64; x64) AppleWebKit/537.36 (KHTML, like Gecko) Chrome/92.0.4515.107 Safari/537.36'\n",
    "}\n",
    "\n",
    "url = 'https://so.gushiwen.cn/user/login.aspx?from=http://so.gushiwen.cn/user/collect.aspx'\n",
    "text = requests.get(url=url,headers=headers).text\n",
    "\n",
    "tree = etree.HTML(text)\n",
    "text1 = tree.xpath('//form/div[@class=\"mainreg2\"]/div[4]/img/@src')[0]\n",
    "img_url = 'https://so.gushiwen.cn'+text1\n",
    "with open('a.jpg','wb')as f:\n",
    "    content = requests.get(url=img_url,headers=headers).content\n",
    "    f.write(content)\n",
    "    \n",
    "result_code = check_img('a.jpg','1902')\n",
    "\n",
    "print('解码出来的结果为：',result_code)"
   ]
  },
  {
   "cell_type": "code",
   "execution_count": 43,
   "id": "712fcc52",
   "metadata": {},
   "outputs": [
    {
     "data": {
      "text/plain": [
       "1457"
      ]
     },
     "execution_count": 43,
     "metadata": {},
     "output_type": "execute_result"
    },
    {
     "name": "stdout",
     "output_type": "stream",
     "text": [
      "hogo <class 'str'>\n"
     ]
    },
    {
     "data": {
      "text/plain": [
       "11073"
      ]
     },
     "execution_count": 43,
     "metadata": {},
     "output_type": "execute_result"
    }
   ],
   "source": [
    "import requests\n",
    "from lxml import etree\n",
    "\n",
    "headers = {\n",
    "    'User-Agent':'Mozilla/5.0 (Windows NT 10.0; Win64; x64) AppleWebKit/537.36 (KHTML, like Gecko) Chrome/92.0.4515.107 Safari/537.36'\n",
    "}\n",
    "\n",
    "\n",
    "code_url = 'https://so.gushiwen.cn/user/login.aspx'\n",
    "text = requests.get(url=code_url,headers=headers).text\n",
    "\n",
    "tree = etree.HTML(text)\n",
    "img_http = 'https://so.gushiwen.cn'+tree.xpath('//*[@id=\"imgCode\"]/@src')[0]\n",
    "\n",
    "with open('./a.jpg','wb')as f:\n",
    "    content = requests.get(img_http,headers=headers).content\n",
    "    f.write(content)\n",
    "\n",
    "code = check_img('a.jpg','1902')\n",
    "\n",
    "print(code,type(code))\n",
    "    \n",
    "login_url = 'https://so.gushiwen.cn/user/login.aspx?from=http://so.gushiwen.cn/user/collect.aspx'\n",
    "\n",
    "data = {\n",
    "'__VIEWSTATE': 'l0lhyNfAUdeuNvxohhgCY6hgYdjOxxXqu49fHcE6qaEaWlMH4mTSTnCL/PjWEkFiah7ukzwA9w0OIryghcQs+a9wSrPcxRDKySmahHOeE1aSE5AWltk3fJx9UzA=',\n",
    "'__VIEWSTATEGENERATOR': 'C93BE1AE',\n",
    "'from': 'http://so.gushiwen.cn/user/collect.aspx',\n",
    "'email': '15655054956',\n",
    "'pwd': '12345678a',\n",
    "'code': code,\n",
    "'denglu': '登录',\n",
    "}\n",
    "\n",
    "text_2 = requests.post(url=login_url,headers=headers,data=data).text\n",
    "with open('./爬虫数据/模拟登录.html','w',encoding='utf-8')as f:\n",
    "    f.write(text_2)"
   ]
  },
  {
   "cell_type": "code",
   "execution_count": null,
   "id": "7ba5869c",
   "metadata": {},
   "outputs": [],
   "source": []
  },
  {
   "cell_type": "code",
   "execution_count": null,
   "id": "006c411f",
   "metadata": {},
   "outputs": [],
   "source": []
  }
 ],
 "metadata": {
  "kernelspec": {
   "display_name": "Python 3",
   "language": "python",
   "name": "python3"
  },
  "language_info": {
   "codemirror_mode": {
    "name": "ipython",
    "version": 3
   },
   "file_extension": ".py",
   "mimetype": "text/x-python",
   "name": "python",
   "nbconvert_exporter": "python",
   "pygments_lexer": "ipython3",
   "version": "3.8.5"
  }
 },
 "nbformat": 4,
 "nbformat_minor": 5
}

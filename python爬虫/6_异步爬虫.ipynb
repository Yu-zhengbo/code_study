{
 "cells": [
  {
   "cell_type": "code",
   "execution_count": 1,
   "id": "406ec95b",
   "metadata": {},
   "outputs": [],
   "source": [
    "from IPython.core.interactiveshell import InteractiveShell\n",
    "\n",
    "InteractiveShell.ast_node_interactivity = 'all'"
   ]
  },
  {
   "cell_type": "code",
   "execution_count": 5,
   "id": "828d222f",
   "metadata": {},
   "outputs": [
    {
     "name": "stdout",
     "output_type": "stream",
     "text": [
      "正在下载： a\n",
      "a 下载完成\n",
      "正在下载： b\n",
      "b 下载完成\n",
      "正在下载： c\n",
      "c 下载完成\n",
      "正在下载： d\n",
      "d 下载完成\n",
      "总共花费时间8.023643255233765second\n"
     ]
    }
   ],
   "source": [
    "#同步爬取\n",
    "import time\n",
    "start = time.time()\n",
    "def get_page(str):\n",
    "    print('正在下载：',str)\n",
    "    time.sleep(2)\n",
    "    print(str,'下载完成')\n",
    "\n",
    "str_list = ['a','b','c','d']\n",
    "for i in str_list:\n",
    "    get_page(i)\n",
    "\n",
    "end = time.time()\n",
    "\n",
    "print('总共花费时间{0}second'.format(end-start))\n"
   ]
  },
  {
   "cell_type": "code",
   "execution_count": 4,
   "id": "39395f14",
   "metadata": {},
   "outputs": [
    {
     "name": "stdout",
     "output_type": "stream",
     "text": [
      "正在下载：正在下载： 正在下载：正在下载：  ac\n",
      "\n",
      "b\n",
      " d\n",
      "bda 下载完成\n",
      " 下载完成\n",
      " 下载完成\n",
      "c 下载完成\n"
     ]
    },
    {
     "data": {
      "text/plain": [
       "[None, None, None, None]"
      ]
     },
     "execution_count": 4,
     "metadata": {},
     "output_type": "execute_result"
    },
    {
     "name": "stdout",
     "output_type": "stream",
     "text": [
      "总共花费时间2.014364004135132second\n"
     ]
    }
   ],
   "source": [
    "#异步爬虫的方式：\n",
    "#1、多线程\n",
    "#2、进程池或线程池\n",
    "\n",
    "import time\n",
    "from multiprocessing.dummy import Pool\n",
    "\n",
    "start = time.time()\n",
    "\n",
    "def get_page(str):\n",
    "    print('正在下载：',str)\n",
    "    time.sleep(2)\n",
    "    print(str,'下载完成')\n",
    "\n",
    "str_list = ['a','b','c','d']\n",
    "pool = Pool(4)\n",
    "pool.map(get_page,str_list)\n",
    "end = time.time()\n",
    "\n",
    "print('总共花费时间{0}second'.format(end-start))"
   ]
  },
  {
   "cell_type": "code",
   "execution_count": 55,
   "id": "6c9eebae",
   "metadata": {},
   "outputs": [
    {
     "data": {
      "text/plain": [
       "(['video_1737017', 'video_1737036', 'video_1737030'],\n",
       " ['泳坛男神汪顺奥运夺金！曾趣答萌娃提问：游泳想放屁咋办',\n",
       "  '芦玉菲吊杠母亲心疼落泪，队医称她一直被伤病困扰',\n",
       "  '李宗伟回忆林李大战，林丹是最伟大的对手',\n",
       "  '中国“体操摇篮”里的孩子：哭着说不练却继续坚持'])"
      ]
     },
     "execution_count": 55,
     "metadata": {},
     "output_type": "execute_result"
    },
    {
     "data": {
      "text/plain": [
       "'\\n{\\n\\t\"resultCode\":\"5\",\\n\\t\"resultMsg\":\"该文章已经下线！\",\\n\\t\"systemTime\": \"1627660296802\"\\n}\\n'"
      ]
     },
     "execution_count": 55,
     "metadata": {},
     "output_type": "execute_result"
    }
   ],
   "source": [
    "#线程池\n",
    "\n",
    "import requests\n",
    "from lxml import etree\n",
    "from multiprocessing.dummy import Pool\n",
    "url = 'https://www.pearvideo.com/category_5'\n",
    "headers = {\n",
    "    'User-Agent': 'Mozilla/5.0 (Windows NT 10.0; Win64; x64) AppleWebKit/537.36 (KHTML, like Gecko) Chrome/92.0.4515.107 Safari/537.36'\n",
    "}\n",
    "\n",
    "text_1 = requests.get(url=url,headers=headers).text\n",
    "\n",
    "tree = etree.HTML(text_1)\n",
    "video_url = tree.xpath('//div[@class=\"listvideo-list-bd\"]//li[@class=\"categoryem \"]//a[@class=\"vervideo-lilink actplay\"]/@href')\n",
    "video_name = tree.xpath('//div[@class=\"listvideo-list-bd\"]//a[@class=\"vervideo-lilink actplay\"]//div[@class=\"vervideo-title\"]/text()')\n",
    "video_url,video_name\n",
    "def get_video(url,name):\n",
    "    url = 'https://www.pearvideo.com/'+url\n",
    "    text_ = requests.get(url=url,headers=headers).text\n",
    "    tree_ = etree.HTML(text_)\n",
    "    video_url = tree_.xpath('//div[@class=\"img prism-player\"]/')\n",
    "    print(video_url)\n",
    "#     content = requests.get(url=video_url,headers=headers)\n",
    "#     with open('./爬虫数据/'+name+'.mp4','wb')as f:\n",
    "#         f.write(content_)\n",
    "        \n",
    "def fun(i):\n",
    "    get_video(i[0],i[1])\n",
    "\n",
    "        \n",
    "# element = [(video_url[i],video_name[i]) for i in range(len(video_url))]\n",
    "# pool = Pool(4)\n",
    "# pool.map(fun,element)\n",
    "        \n",
    "    \n",
    "url = 'https://www.pearvideo.com/videoStatus.jsp?contId=1737017&mrd=0.042480902044259805'\n",
    "text = requests.get(url=url,headers=headers).text\n",
    "text"
   ]
  },
  {
   "cell_type": "code",
   "execution_count": 13,
   "id": "4ef87c11",
   "metadata": {},
   "outputs": [
    {
     "name": "stdout",
     "output_type": "stream",
     "text": [
      "请求的url是： www.baidu.com\n",
      "请求成功\n",
      "<built-in method result of _asyncio.Task object at 0x000001C9F7D1D900>\n"
     ]
    },
    {
     "data": {
      "text/plain": [
       "'www.baidu.com'"
      ]
     },
     "execution_count": 13,
     "metadata": {},
     "output_type": "execute_result"
    }
   ],
   "source": [
    "#单线程+异步协程\n",
    "import asyncio\n",
    "\n",
    "async def requests(url):\n",
    "    print('请求的url是：',url)\n",
    "    print('请求成功')\n",
    "    return url\n",
    "#创建协程对象\n",
    "c = requests('www.baidu.com')\n",
    "\n",
    "# #创建事件循环对象\n",
    "# loop = asyncio.get_event_loop()\n",
    "# #将协程对象注册到loop中，然后启动loop\n",
    "# loop.run_until_complete(c)\n",
    "\n",
    "# loop = asyncio.get_event_loop()\n",
    "# #创建task对象\n",
    "# task = loop.create_task(c)\n",
    "# print(task)\n",
    "# loop.run_until_complete(task)\n",
    "# print(task)\n",
    "\n",
    "# loop = asyncio.get_event_loop()\n",
    "# #创建future\n",
    "# task = asyncio.ensure_future(c)\n",
    "# print(task)\n",
    "# loop.run_until_complete(task)\n",
    "# print(task)\n",
    "\n",
    "#绑定回调\n",
    "def  callback_func(task):\n",
    "    print(task.result)\n",
    "loop = asyncio.get_event_loop()\n",
    "task = asyncio.ensure_future(c)\n",
    "#返回的对象默认调用的是task的result，task的返回值是c中弹出的url\n",
    "task.add_done_callback(callback_func)\n",
    "loop.run_until_complete(task)"
   ]
  },
  {
   "cell_type": "code",
   "execution_count": 19,
   "id": "b15325e5",
   "metadata": {},
   "outputs": [
    {
     "name": "stdout",
     "output_type": "stream",
     "text": [
      "正在下载 www.baidu.com\n",
      "正在下载 www.sougou.com\n",
      "正在下载 www.google.com\n",
      "下载完毕\n",
      "下载完毕\n",
      "下载完毕\n",
      "2.010319471359253  seconds\n"
     ]
    }
   ],
   "source": [
    "#多任务异步协程实现 \n",
    "\n",
    "import asyncio\n",
    "import time\n",
    "\n",
    "async def request(url):\n",
    "    print('正在下载',url)\n",
    "#     time.sleep(2)\n",
    "    await asyncio.sleep(2)\n",
    "    print('下载完毕')\n",
    "    \n",
    "start = time.time()\n",
    "urls = [\n",
    "    'www.baidu.com', \n",
    "    'www.sougou.com',\n",
    "    'www.google.com'\n",
    "]\n",
    "\n",
    "#任务列表\n",
    "stack = []\n",
    "for url in urls:\n",
    "    c = request(url)\n",
    "    task = asyncio.ensure_future(c)\n",
    "    stack.append(task)\n",
    "loop = asyncio.get_event_loop()\n",
    "loop.run_until_complete(asyncio.wait(stack))\n",
    "\n",
    "end = time.time()\n",
    "print(end-start,' seconds')\n"
   ]
  },
  {
   "cell_type": "code",
   "execution_count": 32,
   "id": "79601392",
   "metadata": {},
   "outputs": [
    {
     "name": "stdout",
     "output_type": "stream",
     "text": [
      "page_text length is  110912\n",
      "page_text length is  147017\n",
      "page_text length is  120456\n",
      "总耗时 0.8490839004516602\n"
     ]
    }
   ],
   "source": [
    "#aiohttp 异步请求 \n",
    "import requests\n",
    "import aiohttp\n",
    "import asyncio\n",
    "\n",
    "urls = ['https://cn.bing.com/academic','https://cn.bing.com/dict','https://cn.bing.com/maps']\n",
    "async def get_page(url):\n",
    "    async with aiohttp.ClientSession() as session:\n",
    "        #.get()  .post()  headers params data proxy\n",
    "        async with await session.get(url) as response:\n",
    "            page_text = await response.text()\n",
    "            print('page_text length is ',len(page_text))\n",
    "            \n",
    "start = time.time()            \n",
    "\n",
    "stack = []\n",
    "for url in urls:\n",
    "    c = get_page(url)\n",
    "    task = asyncio.ensure_future(c)\n",
    "    stack.append(task)\n",
    "    \n",
    "loop = asyncio.get_event_loop()\n",
    "loop.run_until_complete(asyncio.wait(stack))\n",
    "\n",
    "end = time.time()\n",
    "\n",
    "print('总耗时',end-start)"
   ]
  },
  {
   "cell_type": "code",
   "execution_count": null,
   "id": "fe0838bf",
   "metadata": {},
   "outputs": [],
   "source": []
  }
 ],
 "metadata": {
  "kernelspec": {
   "display_name": "Python 3",
   "language": "python",
   "name": "python3"
  },
  "language_info": {
   "codemirror_mode": {
    "name": "ipython",
    "version": 3
   },
   "file_extension": ".py",
   "mimetype": "text/x-python",
   "name": "python",
   "nbconvert_exporter": "python",
   "pygments_lexer": "ipython3",
   "version": "3.8.5"
  }
 },
 "nbformat": 4,
 "nbformat_minor": 5
}

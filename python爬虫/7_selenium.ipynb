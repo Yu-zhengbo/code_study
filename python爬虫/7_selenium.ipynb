{
 "cells": [
  {
   "cell_type": "code",
   "execution_count": 1,
   "id": "f676e101",
   "metadata": {},
   "outputs": [],
   "source": [
    "from IPython.core.interactiveshell import InteractiveShell\n",
    "\n",
    "InteractiveShell.ast_node_interactivity = 'all'"
   ]
  },
  {
   "cell_type": "code",
   "execution_count": 15,
   "id": "a98f0a60",
   "metadata": {},
   "outputs": [
    {
     "data": {
      "text/plain": [
       "['佛山市易莱化妆品有限公司',\n",
       " '佛山市菊合香日化科技有限公司',\n",
       " '佛山市安安化妆品有限公司',\n",
       " '成都金凯龙科技有限责任公司',\n",
       " '贺茂化妆品（惠州）有限公司',\n",
       " '广东南方洁灵科技实业有限公司',\n",
       " '东莞市永怡化妆品有限公司',\n",
       " '汕头市特丝多丽化妆品有限公司',\n",
       " '东莞雅联实业有限公司',\n",
       " '惠州鸿财化妆品有限公司',\n",
       " '广州依侬化妆品有限公司',\n",
       " '苏州市金茂日用化学品有限公司',\n",
       " '苏州科毅生物技术有限公司',\n",
       " '昆山聚宝化妆礼品有限公司',\n",
       " '海南兴科热带作物工程技术有限公司']"
      ]
     },
     "execution_count": 15,
     "metadata": {},
     "output_type": "execute_result"
    }
   ],
   "source": [
    "#selenium爬取动态加载数据\n",
    "\n",
    "from selenium import webdriver\n",
    "from lxml import etree\n",
    "from time import sleep\n",
    "bro = webdriver.Chrome(executable_path='./chromedriver.exe')\n",
    "bro.get('http://scxk.nmpa.gov.cn:81/xk/')\n",
    "\n",
    "page_text = bro.page_source\n",
    "\n",
    "tree = etree.HTML(page_text)\n",
    "\n",
    "text = tree.xpath('//*[@id=\"gzlist\"]/li/dl/@title')\n",
    "text\n",
    "sleep(2)\n",
    "bro.quit()"
   ]
  },
  {
   "cell_type": "code",
   "execution_count": 1,
   "id": "8cb47a7a",
   "metadata": {},
   "outputs": [],
   "source": [
    "from selenium import webdriver\n",
    "from time import sleep\n",
    "\n",
    "bro = webdriver.Chrome('./chromedriver.exe')\n",
    "bro.get('https://www.taobao.com/')\n",
    "\n",
    "#定位输入标签\n",
    "search_input = bro.find_element_by_id('q')\n",
    "search_input.send_keys('iphone')\n",
    "\n",
    "bro.execute_script('window.scroll(0,document.body.scrollHeight)')\n",
    "sleep(2)\n",
    "\n",
    "#定位确认搜索\n",
    "botton = bro.find_element_by_class_name('btn-search')\n",
    "botton.click()\n",
    "\n",
    "bro.get('https://www.baidu.com/')\n",
    "sleep(2)\n",
    "bro.back()\n",
    "sleep(2)\n",
    "bro.forward()\n",
    "\n",
    "sleep(2)\n",
    "bro.quit()"
   ]
  },
  {
   "cell_type": "code",
   "execution_count": 9,
   "id": "e1cf4686",
   "metadata": {},
   "outputs": [
    {
     "name": "stderr",
     "output_type": "stream",
     "text": [
      "<ipython-input-9-4583ca6a7d27>:10: DeprecationWarning: use driver.switch_to.frame instead\n",
      "  bro.switch_to_frame('iframeResult')\n"
     ]
    },
    {
     "data": {
      "text/plain": [
       "<selenium.webdriver.common.action_chains.ActionChains at 0x1cddcd9b880>"
      ]
     },
     "execution_count": 9,
     "metadata": {},
     "output_type": "execute_result"
    },
    {
     "data": {
      "text/plain": [
       "<selenium.webdriver.common.action_chains.ActionChains at 0x1cddcd9b880>"
      ]
     },
     "execution_count": 9,
     "metadata": {},
     "output_type": "execute_result"
    }
   ],
   "source": [
    "#iframe处理+动作链\n",
    "from selenium.webdriver import ActionChains\n",
    "from selenium import webdriver\n",
    "from time import sleep\n",
    "bro = webdriver.Chrome('./chromedriver.exe')\n",
    "\n",
    "bro.get('https://www.runoob.com/try/try.php?filename=jqueryui-api-droppable')\n",
    "\n",
    "#如果定位的标签在iframe标签之中则需要\n",
    "bro.switch_to_frame('iframeResult')\n",
    "div = bro.find_element_by_id('draggable')\n",
    "\n",
    "#创建动作链对象\n",
    "action = ActionChains(bro)\n",
    "action.click_and_hold(div)\n",
    "\n",
    "for i in range(5):\n",
    "    #perform代表立即执行动作链操作\n",
    "    action.move_by_offset(17,0).perform()\n",
    "    \n",
    "action.release()\n",
    "bro.quit()"
   ]
  },
  {
   "cell_type": "code",
   "execution_count": 3,
   "id": "f4ba0aa0",
   "metadata": {},
   "outputs": [],
   "source": [
    "#模拟登录qq空间\n",
    "from selenium import webdriver\n",
    "from selenium.webdriver import ActionChains\n",
    "\n",
    "bro = webdriver.Chrome('.\\chromedriver.exe')\n",
    "bro.get('https://qzone.qq.com/')\n",
    "bro.switch_to.frame('login_frame')\n",
    "a_tag = bro.find_element_by_id('switcher_plogin')\n",
    "a_tag.click()\n",
    "\n",
    "username = bro.find_element_by_id('u')\n",
    "password = bro.find_element_by_id('p')\n",
    "\n",
    "username.send_keys('2690486436')\n",
    "password.send_keys('yzbyjy1314999')\n",
    "\n",
    "login_tag = bro.find_element_by_id('login_button')\n",
    "login_tag.click()"
   ]
  },
  {
   "cell_type": "code",
   "execution_count": 4,
   "id": "92fc1697",
   "metadata": {},
   "outputs": [
    {
     "name": "stderr",
     "output_type": "stream",
     "text": [
      "<ipython-input-4-408c82a3e538>:17: DeprecationWarning: use options instead of chrome_options\n",
      "  bro = webdriver.Chrome('.\\chromedriver.exe',chrome_options=chrome_options)\n"
     ]
    },
    {
     "name": "stdout",
     "output_type": "stream",
     "text": [
      "百度网页html字符数： 315726\n"
     ]
    }
   ],
   "source": [
    "#实现无可视化界面\n",
    "from selenium import webdriver\n",
    "from selenium.webdriver.chrome.options import Options   #实现五可视化\n",
    "from selenium.webdriver import ChromeOptions     #实现规避被检测到的风险\n",
    "from time import sleep\n",
    "\n",
    "#实现无可视化\n",
    "chrome_options = Options()\n",
    "chrome_options.add_argument('--headless')\n",
    "chrome_options.add_argument('--disable--gpu')\n",
    "\n",
    "#实现规避检测\n",
    "option = ChromeOptions()\n",
    "option.add_experimental_option('excludeSwitches',['enable-automation'])\n",
    "\n",
    "\n",
    "bro = webdriver.Chrome('.\\chromedriver.exe',chrome_options=chrome_options)\n",
    "bro.get('https://baidu.com/')\n",
    "print('百度网页html字符数：',len(bro.page_source))\n",
    "\n",
    "sleep(2)\n",
    "bro.quit()"
   ]
  },
  {
   "cell_type": "code",
   "execution_count": 2,
   "id": "d2c17ace",
   "metadata": {},
   "outputs": [],
   "source": [
    "#使用selenium进行12306实现模拟登录\n",
    "\n",
    "#!/usr/bin/env python\n",
    "# coding:utf-8\n",
    "\n",
    "import requests\n",
    "from hashlib import md5\n",
    "\n",
    "class Chaojiying_Client(object):\n",
    "\n",
    "    def __init__(self, username, password, soft_id):\n",
    "        self.username = username\n",
    "        password =  password.encode('utf8')\n",
    "        self.password = md5(password).hexdigest()\n",
    "        self.soft_id = soft_id\n",
    "        self.base_params = {\n",
    "            'user': self.username,\n",
    "            'pass2': self.password,\n",
    "            'softid': self.soft_id,\n",
    "        }\n",
    "        self.headers = {\n",
    "            'Connection': 'Keep-Alive',\n",
    "            'User-Agent': 'Mozilla/4.0 (compatible; MSIE 8.0; Windows NT 5.1; Trident/4.0)',\n",
    "        }\n",
    "\n",
    "    def PostPic(self, im, codetype):\n",
    "        \"\"\"\n",
    "        im: 图片字节\n",
    "        codetype: 题目类型 参考 http://www.chaojiying.com/price.html\n",
    "        \"\"\"\n",
    "        params = {\n",
    "            'codetype': codetype,\n",
    "        }\n",
    "        params.update(self.base_params)\n",
    "        files = {'userfile': ('ccc.jpg', im)}\n",
    "        r = requests.post('http://upload.chaojiying.net/Upload/Processing.php', data=params, files=files, headers=self.headers)\n",
    "        return r.json()\n",
    "\n",
    "    def ReportError(self, im_id):\n",
    "        \"\"\"\n",
    "        im_id:报错题目的图片ID\n",
    "        \"\"\"\n",
    "        params = {\n",
    "            'id': im_id,\n",
    "        }\n",
    "        params.update(self.base_params)\n",
    "        r = requests.post('http://upload.chaojiying.net/Upload/ReportError.php', data=params, headers=self.headers)\n",
    "        return r.json()\n",
    "\n",
    "\n",
    "def check_img(img_path,code_type):\n",
    "    chaojiying = Chaojiying_Client('2690486436', '12345678a', '920328')#用户中心>>软件ID 生成一个替换 96001\n",
    "    im = open(img_path, 'rb').read()#本地图片文件路径 来替换 a.jpg 有时WIN系统须要//\n",
    "    return chaojiying.PostPic(im, code_type)['pic_str']#1902 验证码类型  官方网站>>价格体系 3.4+版 print 后要加()\n",
    "    \n",
    "# check_img('a.jpg','1902')"
   ]
  },
  {
   "cell_type": "code",
   "execution_count": 2,
   "id": "45ae65a2",
   "metadata": {},
   "outputs": [
    {
     "name": "stderr",
     "output_type": "stream",
     "text": [
      "<ipython-input-2-03a7b3253025>:10: DeprecationWarning: use options instead of chrome_options\n",
      "  bro = webdriver.Chrome(r'E:\\浏览器下载\\chromedriver',chrome_options=option)\n"
     ]
    },
    {
     "ename": "NoSuchElementException",
     "evalue": "Message: no such element: Unable to locate element: {\"method\":\"xpath\",\"selector\":\"/html/body/div[2]/div[2]/ul/li[2]/a\"}\n  (Session info: chrome=96.0.4664.45)\n",
     "output_type": "error",
     "traceback": [
      "\u001b[1;31m---------------------------------------------------------------------------\u001b[0m",
      "\u001b[1;31mNoSuchElementException\u001b[0m                    Traceback (most recent call last)",
      "\u001b[1;32m<ipython-input-2-03a7b3253025>\u001b[0m in \u001b[0;36m<module>\u001b[1;34m\u001b[0m\n\u001b[0;32m     15\u001b[0m \u001b[1;33m\u001b[0m\u001b[0m\n\u001b[0;32m     16\u001b[0m \u001b[1;33m\u001b[0m\u001b[0m\n\u001b[1;32m---> 17\u001b[1;33m \u001b[0mlogin_tag\u001b[0m \u001b[1;33m=\u001b[0m \u001b[0mbro\u001b[0m\u001b[1;33m.\u001b[0m\u001b[0mfind_element_by_xpath\u001b[0m\u001b[1;33m(\u001b[0m\u001b[1;34m'/html/body/div[2]/div[2]/ul/li[2]/a'\u001b[0m\u001b[1;33m)\u001b[0m\u001b[1;33m\u001b[0m\u001b[1;33m\u001b[0m\u001b[0m\n\u001b[0m\u001b[0;32m     18\u001b[0m \u001b[0mlogin_tag\u001b[0m\u001b[1;33m.\u001b[0m\u001b[0mclick\u001b[0m\u001b[1;33m(\u001b[0m\u001b[1;33m)\u001b[0m\u001b[1;33m\u001b[0m\u001b[1;33m\u001b[0m\u001b[0m\n\u001b[0;32m     19\u001b[0m \u001b[0mtime\u001b[0m\u001b[1;33m.\u001b[0m\u001b[0msleep\u001b[0m\u001b[1;33m(\u001b[0m\u001b[1;36m1\u001b[0m\u001b[1;33m)\u001b[0m\u001b[1;33m\u001b[0m\u001b[1;33m\u001b[0m\u001b[0m\n",
      "\u001b[1;32mD:\\anaconda\\lib\\site-packages\\selenium\\webdriver\\remote\\webdriver.py\u001b[0m in \u001b[0;36mfind_element_by_xpath\u001b[1;34m(self, xpath)\u001b[0m\n\u001b[0;32m    392\u001b[0m             \u001b[0melement\u001b[0m \u001b[1;33m=\u001b[0m \u001b[0mdriver\u001b[0m\u001b[1;33m.\u001b[0m\u001b[0mfind_element_by_xpath\u001b[0m\u001b[1;33m(\u001b[0m\u001b[1;34m'//div/td[1]'\u001b[0m\u001b[1;33m)\u001b[0m\u001b[1;33m\u001b[0m\u001b[1;33m\u001b[0m\u001b[0m\n\u001b[0;32m    393\u001b[0m         \"\"\"\n\u001b[1;32m--> 394\u001b[1;33m         \u001b[1;32mreturn\u001b[0m \u001b[0mself\u001b[0m\u001b[1;33m.\u001b[0m\u001b[0mfind_element\u001b[0m\u001b[1;33m(\u001b[0m\u001b[0mby\u001b[0m\u001b[1;33m=\u001b[0m\u001b[0mBy\u001b[0m\u001b[1;33m.\u001b[0m\u001b[0mXPATH\u001b[0m\u001b[1;33m,\u001b[0m \u001b[0mvalue\u001b[0m\u001b[1;33m=\u001b[0m\u001b[0mxpath\u001b[0m\u001b[1;33m)\u001b[0m\u001b[1;33m\u001b[0m\u001b[1;33m\u001b[0m\u001b[0m\n\u001b[0m\u001b[0;32m    395\u001b[0m \u001b[1;33m\u001b[0m\u001b[0m\n\u001b[0;32m    396\u001b[0m     \u001b[1;32mdef\u001b[0m \u001b[0mfind_elements_by_xpath\u001b[0m\u001b[1;33m(\u001b[0m\u001b[0mself\u001b[0m\u001b[1;33m,\u001b[0m \u001b[0mxpath\u001b[0m\u001b[1;33m)\u001b[0m\u001b[1;33m:\u001b[0m\u001b[1;33m\u001b[0m\u001b[1;33m\u001b[0m\u001b[0m\n",
      "\u001b[1;32mD:\\anaconda\\lib\\site-packages\\selenium\\webdriver\\remote\\webdriver.py\u001b[0m in \u001b[0;36mfind_element\u001b[1;34m(self, by, value)\u001b[0m\n\u001b[0;32m    974\u001b[0m                 \u001b[0mby\u001b[0m \u001b[1;33m=\u001b[0m \u001b[0mBy\u001b[0m\u001b[1;33m.\u001b[0m\u001b[0mCSS_SELECTOR\u001b[0m\u001b[1;33m\u001b[0m\u001b[1;33m\u001b[0m\u001b[0m\n\u001b[0;32m    975\u001b[0m                 \u001b[0mvalue\u001b[0m \u001b[1;33m=\u001b[0m \u001b[1;34m'[name=\"%s\"]'\u001b[0m \u001b[1;33m%\u001b[0m \u001b[0mvalue\u001b[0m\u001b[1;33m\u001b[0m\u001b[1;33m\u001b[0m\u001b[0m\n\u001b[1;32m--> 976\u001b[1;33m         return self.execute(Command.FIND_ELEMENT, {\n\u001b[0m\u001b[0;32m    977\u001b[0m             \u001b[1;34m'using'\u001b[0m\u001b[1;33m:\u001b[0m \u001b[0mby\u001b[0m\u001b[1;33m,\u001b[0m\u001b[1;33m\u001b[0m\u001b[1;33m\u001b[0m\u001b[0m\n\u001b[0;32m    978\u001b[0m             'value': value})['value']\n",
      "\u001b[1;32mD:\\anaconda\\lib\\site-packages\\selenium\\webdriver\\remote\\webdriver.py\u001b[0m in \u001b[0;36mexecute\u001b[1;34m(self, driver_command, params)\u001b[0m\n\u001b[0;32m    319\u001b[0m         \u001b[0mresponse\u001b[0m \u001b[1;33m=\u001b[0m \u001b[0mself\u001b[0m\u001b[1;33m.\u001b[0m\u001b[0mcommand_executor\u001b[0m\u001b[1;33m.\u001b[0m\u001b[0mexecute\u001b[0m\u001b[1;33m(\u001b[0m\u001b[0mdriver_command\u001b[0m\u001b[1;33m,\u001b[0m \u001b[0mparams\u001b[0m\u001b[1;33m)\u001b[0m\u001b[1;33m\u001b[0m\u001b[1;33m\u001b[0m\u001b[0m\n\u001b[0;32m    320\u001b[0m         \u001b[1;32mif\u001b[0m \u001b[0mresponse\u001b[0m\u001b[1;33m:\u001b[0m\u001b[1;33m\u001b[0m\u001b[1;33m\u001b[0m\u001b[0m\n\u001b[1;32m--> 321\u001b[1;33m             \u001b[0mself\u001b[0m\u001b[1;33m.\u001b[0m\u001b[0merror_handler\u001b[0m\u001b[1;33m.\u001b[0m\u001b[0mcheck_response\u001b[0m\u001b[1;33m(\u001b[0m\u001b[0mresponse\u001b[0m\u001b[1;33m)\u001b[0m\u001b[1;33m\u001b[0m\u001b[1;33m\u001b[0m\u001b[0m\n\u001b[0m\u001b[0;32m    322\u001b[0m             response['value'] = self._unwrap_value(\n\u001b[0;32m    323\u001b[0m                 response.get('value', None))\n",
      "\u001b[1;32mD:\\anaconda\\lib\\site-packages\\selenium\\webdriver\\remote\\errorhandler.py\u001b[0m in \u001b[0;36mcheck_response\u001b[1;34m(self, response)\u001b[0m\n\u001b[0;32m    240\u001b[0m                 \u001b[0malert_text\u001b[0m \u001b[1;33m=\u001b[0m \u001b[0mvalue\u001b[0m\u001b[1;33m[\u001b[0m\u001b[1;34m'alert'\u001b[0m\u001b[1;33m]\u001b[0m\u001b[1;33m.\u001b[0m\u001b[0mget\u001b[0m\u001b[1;33m(\u001b[0m\u001b[1;34m'text'\u001b[0m\u001b[1;33m)\u001b[0m\u001b[1;33m\u001b[0m\u001b[1;33m\u001b[0m\u001b[0m\n\u001b[0;32m    241\u001b[0m             \u001b[1;32mraise\u001b[0m \u001b[0mexception_class\u001b[0m\u001b[1;33m(\u001b[0m\u001b[0mmessage\u001b[0m\u001b[1;33m,\u001b[0m \u001b[0mscreen\u001b[0m\u001b[1;33m,\u001b[0m \u001b[0mstacktrace\u001b[0m\u001b[1;33m,\u001b[0m \u001b[0malert_text\u001b[0m\u001b[1;33m)\u001b[0m\u001b[1;33m\u001b[0m\u001b[1;33m\u001b[0m\u001b[0m\n\u001b[1;32m--> 242\u001b[1;33m         \u001b[1;32mraise\u001b[0m \u001b[0mexception_class\u001b[0m\u001b[1;33m(\u001b[0m\u001b[0mmessage\u001b[0m\u001b[1;33m,\u001b[0m \u001b[0mscreen\u001b[0m\u001b[1;33m,\u001b[0m \u001b[0mstacktrace\u001b[0m\u001b[1;33m)\u001b[0m\u001b[1;33m\u001b[0m\u001b[1;33m\u001b[0m\u001b[0m\n\u001b[0m\u001b[0;32m    243\u001b[0m \u001b[1;33m\u001b[0m\u001b[0m\n\u001b[0;32m    244\u001b[0m     \u001b[1;32mdef\u001b[0m \u001b[0m_value_or_default\u001b[0m\u001b[1;33m(\u001b[0m\u001b[0mself\u001b[0m\u001b[1;33m,\u001b[0m \u001b[0mobj\u001b[0m\u001b[1;33m,\u001b[0m \u001b[0mkey\u001b[0m\u001b[1;33m,\u001b[0m \u001b[0mdefault\u001b[0m\u001b[1;33m)\u001b[0m\u001b[1;33m:\u001b[0m\u001b[1;33m\u001b[0m\u001b[1;33m\u001b[0m\u001b[0m\n",
      "\u001b[1;31mNoSuchElementException\u001b[0m: Message: no such element: Unable to locate element: {\"method\":\"xpath\",\"selector\":\"/html/body/div[2]/div[2]/ul/li[2]/a\"}\n  (Session info: chrome=96.0.4664.45)\n"
     ]
    }
   ],
   "source": [
    "from selenium import webdriver\n",
    "import time\n",
    "from PIL import Image\n",
    "from selenium.webdriver import ActionChains\n",
    "from selenium.webdriver import ChromeOptions     #实现规避被检测到的风险\n",
    "\n",
    "#实现规避检测\n",
    "option = ChromeOptions()\n",
    "option.add_experimental_option('excludeSwitches',['enable-automation'])\n",
    "bro = webdriver.Chrome(r'E:\\浏览器下载\\chromedriver',chrome_options=option)\n",
    "\n",
    "bro.get('https://kyfw.12306.cn/otn/resources/login.html')\n",
    "#将界面最大化\n",
    "bro.maximize_window()\n",
    "\n",
    "\n",
    "login_tag = bro.find_element_by_xpath('/html/body/div[2]/div[2]/ul/li[2]/a')\n",
    "login_tag.click()\n",
    "time.sleep(1)\n",
    "#将当前页面进行截图\n",
    "bro.save_screenshot('aa.jpg')\n",
    "#确定验证码图像的左上角和右下角坐标\n",
    "code_img_ele = bro.find_element_by_id('J-loginImg')\n",
    "location = code_img_ele.location\n",
    "size = code_img_ele.size\n",
    "rangle = (int(location['x']),int(location['y']),int(location['x']+size['width']),int(location['y']+size['height']))\n",
    "\n",
    "#对图像进行裁剪并保存\n",
    "i = Image.open('./aa.jpg')\n",
    "code_img_name = 'a.jpg'\n",
    "frame = i.crop(rangle)\n",
    "frame=frame.convert('RGB')\n",
    "frame.save(code_img_name)\n",
    "\n",
    "#使用超级鹰解码\n",
    "result = check_img('./a.jpg','9004')\n",
    "print(result)\n",
    "all_list = []\n",
    "if '|' in result:\n",
    "    result = result.split('|')\n",
    "    for i in result:\n",
    "        xy_list = []\n",
    "        x = int(i.split(',')[0])\n",
    "        y = int(i.split(',')[1])\n",
    "        xy_list.append(x)\n",
    "        xy_list.append(y)\n",
    "        all_list.append(xy_list)\n",
    "else:\n",
    "    xy_list = []\n",
    "    x = int(result.split(',')[0])\n",
    "    y = int(result.split(',')[1])\n",
    "    xy_list.append(x)\n",
    "    xy_list.append(y)\n",
    "    all_list.append(xy_list)\n",
    "# print(all_list)\n",
    "for i in all_list:\n",
    "    x = i[0]\n",
    "    y = i[1]\n",
    "    ActionChains(bro).move_to_element_with_offset(code_img_ele,x,y).click().perform()\n",
    "    time.sleep(0.5)\n",
    "    \n",
    "bro.find_element_by_id('J-userName').send_keys('15655054956')\n",
    "bro.find_element_by_id('J-password').send_keys('12345678a')\n",
    "bro.find_element_by_id('J-login').click()\n",
    "\n",
    "time.sleep(1)\n",
    "\n",
    "#滑块移动有问题，手动去划也出错了\n",
    "huakuai = bro.find_element_by_id('nc_1_n1z')\n",
    "action = ActionChains(bro)\n",
    "action.click_and_hold(huakuai)\n",
    "for i in range(5):\n",
    "    action.move_by_offset(50,0).perform()\n",
    "    \n",
    "action.release()\n",
    "\n",
    "# time.sleep(2)\n",
    "# bro.quit()"
   ]
  },
  {
   "cell_type": "code",
   "execution_count": null,
   "id": "9aaa8315",
   "metadata": {},
   "outputs": [],
   "source": []
  },
  {
   "cell_type": "code",
   "execution_count": null,
   "id": "6178a35a",
   "metadata": {},
   "outputs": [],
   "source": []
  }
 ],
 "metadata": {
  "kernelspec": {
   "display_name": "Python 3",
   "language": "python",
   "name": "python3"
  },
  "language_info": {
   "codemirror_mode": {
    "name": "ipython",
    "version": 3
   },
   "file_extension": ".py",
   "mimetype": "text/x-python",
   "name": "python",
   "nbconvert_exporter": "python",
   "pygments_lexer": "ipython3",
   "version": "3.8.5"
  }
 },
 "nbformat": 4,
 "nbformat_minor": 5
}

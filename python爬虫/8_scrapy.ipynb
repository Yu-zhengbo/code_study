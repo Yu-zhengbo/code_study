{
 "cells": [
  {
   "cell_type": "code",
   "execution_count": 1,
   "id": "900c5522",
   "metadata": {},
   "outputs": [],
   "source": [
    "from IPython.core.interactiveshell import InteractiveShell\n",
    "\n",
    "InteractiveShell.ast_node_interactivity = 'all'"
   ]
  },
  {
   "cell_type": "code",
   "execution_count": 9,
   "id": "88f204fc",
   "metadata": {},
   "outputs": [
    {
     "data": {
      "text/plain": [
       "'C:\\\\Users\\\\24132\\\\python模块学习\\\\python爬虫'"
      ]
     },
     "execution_count": 9,
     "metadata": {},
     "output_type": "execute_result"
    },
    {
     "data": {
      "text/plain": [
       "0"
      ]
     },
     "execution_count": 9,
     "metadata": {},
     "output_type": "execute_result"
    }
   ],
   "source": [
    "import os\n",
    "os.getcwd()\n",
    "os.system('cd {0}'.format(os.getcwd()))\n",
    "\n",
    "#创建工程：scrapy startproject name1\n",
    "#cd name1\n",
    "#创建爬虫文件夹：scrapy genspider name2 www.xxx.com\n",
    "#执行工程：scrapy crawl name2 (--nolog)\n",
    "#创建CrawlSpider类：scrapy genspider -t crawl name2 www.xxx.com"
   ]
  }
 ],
 "metadata": {
  "kernelspec": {
   "display_name": "Python 3",
   "language": "python",
   "name": "python3"
  },
  "language_info": {
   "codemirror_mode": {
    "name": "ipython",
    "version": 3
   },
   "file_extension": ".py",
   "mimetype": "text/x-python",
   "name": "python",
   "nbconvert_exporter": "python",
   "pygments_lexer": "ipython3",
   "version": "3.8.5"
  }
 },
 "nbformat": 4,
 "nbformat_minor": 5
}

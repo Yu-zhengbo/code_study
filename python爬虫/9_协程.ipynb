{
 "cells": [
  {
   "cell_type": "code",
   "execution_count": 1,
   "id": "d5d682e1",
   "metadata": {},
   "outputs": [],
   "source": [
    "from IPython.core.interactiveshell import InteractiveShell\n",
    "\n",
    "InteractiveShell.ast_node_interactivity = 'all'"
   ]
  },
  {
   "cell_type": "code",
   "execution_count": 7,
   "id": "824cc660",
   "metadata": {},
   "outputs": [
    {
     "name": "stdout",
     "output_type": "stream",
     "text": [
      "1\n",
      "2\n",
      "3\n",
      "4\n"
     ]
    },
    {
     "data": {
      "text/plain": [
       "({<Task finished name='Task-11' coro=<func1() done, defined at <ipython-input-7-5c6a6488b26c>:3> result=None>,\n",
       "  <Task finished name='Task-12' coro=<func2() done, defined at <ipython-input-7-5c6a6488b26c>:8> result=None>},\n",
       " set())"
      ]
     },
     "execution_count": 7,
     "metadata": {},
     "output_type": "execute_result"
    }
   ],
   "source": [
    "import asyncio\n",
    "\n",
    "async def func1():\n",
    "    print(1)\n",
    "    await asyncio.sleep(1)\n",
    "    print(3)\n",
    "    \n",
    "async def func2():\n",
    "    print(2)\n",
    "    await asyncio.sleep(1)\n",
    "    print(4)\n",
    "    \n",
    "task = [\n",
    "    asyncio.ensure_future(func1()),\n",
    "    asyncio.ensure_future(func2())\n",
    "]\n",
    "\n",
    "loop = asyncio.get_event_loop()\n",
    "loop.run_until_complete(asyncio.wait(task))"
   ]
  },
  {
   "cell_type": "code",
   "execution_count": 9,
   "id": "0005c9f1",
   "metadata": {},
   "outputs": [
    {
     "name": "stdout",
     "output_type": "stream",
     "text": [
      "this is a special function\n"
     ]
    }
   ],
   "source": [
    "#异步编程 快速上手async\n",
    "import asyncio\n",
    "\n",
    "async def fun():\n",
    "    print('this is a special function')\n",
    "    \n",
    "result = fun()\n",
    "asyncio.run(result)"
   ]
  },
  {
   "cell_type": "code",
   "execution_count": 12,
   "id": "271ce3fe",
   "metadata": {},
   "outputs": [
    {
     "name": "stdout",
     "output_type": "stream",
     "text": [
      "await进行等待\n",
      "end: None\n"
     ]
    }
   ],
   "source": [
    "#快速上手await\n",
    "import asyncio\n",
    "\n",
    "async def fun():\n",
    "    print('await进行等待')\n",
    "    response = await asyncio.sleep(2)\n",
    "    print('end:',response)\n",
    "    \n",
    "asyncio.run(fun())"
   ]
  },
  {
   "cell_type": "code",
   "execution_count": 16,
   "id": "376428bf",
   "metadata": {
    "scrolled": true
   },
   "outputs": [
    {
     "name": "stdout",
     "output_type": "stream",
     "text": [
      "任务开始\n",
      "任务结束\n",
      "1\n",
      "1\n",
      "2\n",
      "2\n",
      "{<Task finished name='Task-36' coro=<fun() done, defined at <ipython-input-16-6b0830184ee8>:3> result='返回值'>, <Task finished name='Task-35' coro=<fun() done, defined at <ipython-input-16-6b0830184ee8>:3> result='返回值'>}\n"
     ]
    }
   ],
   "source": [
    "import asyncio\n",
    "\n",
    "async def fun():\n",
    "    print(1)\n",
    "    await asyncio.sleep(2)\n",
    "    print(2)\n",
    "    return '返回值'\n",
    "\n",
    "async def main():\n",
    "    print('任务开始')\n",
    "    task_list = [\n",
    "        asyncio.create_task(fun()),\n",
    "        asyncio.create_task(fun())\n",
    "    ]\n",
    "    print('任务结束')\n",
    "    \n",
    "    done,pending = await asyncio.wait(task_list)\n",
    "    print(done)\n",
    "    \n",
    "asyncio.run(main())"
   ]
  },
  {
   "cell_type": "code",
   "execution_count": 19,
   "id": "bd3fae8c",
   "metadata": {},
   "outputs": [
    {
     "name": "stdout",
     "output_type": "stream",
     "text": [
      "1\n",
      "1\n",
      "2\n",
      "2\n"
     ]
    },
    {
     "data": {
      "text/plain": [
       "({<Task finished name='Task-39' coro=<fun() done, defined at <ipython-input-19-db62f1863ce8>:3> result='返回值'>,\n",
       "  <Task finished name='Task-40' coro=<fun() done, defined at <ipython-input-19-db62f1863ce8>:3> result='返回值'>},\n",
       " set())"
      ]
     },
     "execution_count": 19,
     "metadata": {},
     "output_type": "execute_result"
    }
   ],
   "source": [
    "import asyncio\n",
    "\n",
    "async def fun():\n",
    "    print(1)\n",
    "    await asyncio.sleep(2)\n",
    "    print(2)\n",
    "    return '返回值'\n",
    "\n",
    "task_list = [\n",
    "    fun(),\n",
    "    fun()\n",
    "]\n",
    "\n",
    "asyncio.run(asyncio.wait(task_list))"
   ]
  },
  {
   "cell_type": "code",
   "execution_count": null,
   "id": "47159944",
   "metadata": {},
   "outputs": [],
   "source": []
  }
 ],
 "metadata": {
  "kernelspec": {
   "display_name": "Python 3",
   "language": "python",
   "name": "python3"
  },
  "language_info": {
   "codemirror_mode": {
    "name": "ipython",
    "version": 3
   },
   "file_extension": ".py",
   "mimetype": "text/x-python",
   "name": "python",
   "nbconvert_exporter": "python",
   "pygments_lexer": "ipython3",
   "version": "3.8.5"
  }
 },
 "nbformat": 4,
 "nbformat_minor": 5
}

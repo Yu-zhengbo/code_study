{
 "cells": [
  {
   "cell_type": "code",
   "execution_count": 12,
   "metadata": {},
   "outputs": [],
   "source": [
    "from IPython.core.interactiveshell import InteractiveShell\n",
    "\n",
    "InteractiveShell.ast_node_interactivity = 'all'"
   ]
  },
  {
   "cell_type": "code",
   "execution_count": 2,
   "metadata": {
    "scrolled": true
   },
   "outputs": [
    {
     "data": {
      "text/plain": [
       "[(0,\n",
       "  'D:\\\\迅雷下载\\\\nlpia-master-源代码及下载资源\\\\dataset\\\\7.4.1- IMDB电影评论数据集\\\\aclImdb\\\\train\\\\neg\\\\12091_3.txt'),\n",
       " (0,\n",
       "  'D:\\\\迅雷下载\\\\nlpia-master-源代码及下载资源\\\\dataset\\\\7.4.1- IMDB电影评论数据集\\\\aclImdb\\\\train\\\\neg\\\\771_4.txt'),\n",
       " (0,\n",
       "  'D:\\\\迅雷下载\\\\nlpia-master-源代码及下载资源\\\\dataset\\\\7.4.1- IMDB电影评论数据集\\\\aclImdb\\\\train\\\\neg\\\\4781_1.txt'),\n",
       " (1,\n",
       "  'D:\\\\迅雷下载\\\\nlpia-master-源代码及下载资源\\\\dataset\\\\7.4.1- IMDB电影评论数据集\\\\aclImdb\\\\train\\\\pos\\\\1647_10.txt'),\n",
       " (1,\n",
       "  'D:\\\\迅雷下载\\\\nlpia-master-源代码及下载资源\\\\dataset\\\\7.4.1- IMDB电影评论数据集\\\\aclImdb\\\\train\\\\pos\\\\11503_10.txt')]"
      ]
     },
     "execution_count": 2,
     "metadata": {},
     "output_type": "execute_result"
    }
   ],
   "source": [
    "#导入数据\n",
    "import numpy as np\n",
    "from keras.preprocessing import sequence\n",
    "from keras.models import Sequential\n",
    "from keras.layers import Dense,Dropout,Activation\n",
    "from keras.layers import Conv1D,GlobalMaxPool1D\n",
    "import glob\n",
    "import os\n",
    "from random import shuffle\n",
    "\n",
    "# def pre_process_data(filepath):\n",
    "#     positive_path = os.path.join(filepath,'pos')\n",
    "#     negative_path = os.path.join(filepath,'neg')\n",
    "#     pos_label = 1\n",
    "#     neg_label = 0\n",
    "#     dataset = []\n",
    "#     for filename in glob.glob(os.path.join(positive_path,'*.txt')):\n",
    "#         with open(filename,'r',encoding='utf-8') as f:\n",
    "#             dataset.append((pos_label,f.read()))\n",
    "#     for filename in glob.glob(os.path.join(negative_path,'*.txt')):\n",
    "#         with open(filename,'r',encoding='utf-8') as f:\n",
    "#             dataset.append((neg_label,f.read()))\n",
    "#     shuffle(dataset)\n",
    "#     return dataset\n",
    "\n",
    "def pre_process_data(filepath):\n",
    "    positive_path = os.path.join(filepath,'pos')\n",
    "    negative_path = os.path.join(filepath,'neg')\n",
    "    pos_label = 1\n",
    "    neg_label = 0\n",
    "    dataset = []\n",
    "    for filename in glob.glob(os.path.join(positive_path,'*.txt')):\n",
    "        dataset.append((pos_label,filename))\n",
    "    for filename in glob.glob(os.path.join(negative_path,'*.txt')):\n",
    "        dataset.append((neg_label,filename))\n",
    "    shuffle(dataset)\n",
    "    return dataset\n",
    "\n",
    "dataset = pre_process_data(r'D:\\迅雷下载\\nlpia-master-源代码及下载资源\\dataset\\7.4.1- IMDB电影评论数据集\\aclImdb\\train')\n",
    "dataset[0:5]"
   ]
  },
  {
   "cell_type": "code",
   "execution_count": 3,
   "metadata": {
    "scrolled": true
   },
   "outputs": [
    {
     "name": "stderr",
     "output_type": "stream",
     "text": [
      "C:\\Users\\24132\\AppData\\Roaming\\Python\\Python38\\site-packages\\pugnlp\\constants.py:136: FutureWarning: The pandas.datetime class is deprecated and will be removed from pandas in a future version. Import from datetime module instead.\n",
      "  [datetime.datetime, pd.datetime, pd.Timestamp])\n",
      "C:\\Users\\24132\\AppData\\Roaming\\Python\\Python38\\site-packages\\pugnlp\\constants.py:158: FutureWarning: The pandas.datetime class is deprecated and will be removed from pandas in a future version. Import from datetime module instead.\n",
      "  MIN_TIMESTAMP = pd.Timestamp(pd.datetime(1677, 9, 22, 0, 12, 44), tz='utc')\n",
      "C:\\Users\\24132\\AppData\\Roaming\\Python\\Python38\\site-packages\\pugnlp\\tutil.py:100: FutureWarning: The pandas.np module is deprecated and will be removed from pandas in a future version. Import numpy directly instead\n",
      "  np = pd.np\n",
      "C:\\Users\\24132\\AppData\\Roaming\\Python\\Python38\\site-packages\\pugnlp\\util.py:80: FutureWarning: The pandas.np module is deprecated and will be removed from pandas in a future version. Import numpy directly instead\n",
      "  np = pd.np\n",
      "INFO:nlpia.constants:Starting logger in nlpia.constants...\n",
      "C:\\Users\\24132\\AppData\\Roaming\\Python\\Python38\\site-packages\\nlpia\\futil.py:30: FutureWarning: The pandas.np module is deprecated and will be removed from pandas in a future version. Import numpy directly instead\n",
      "  np = pd.np\n",
      "C:\\Users\\24132\\AppData\\Roaming\\Python\\Python38\\site-packages\\nlpia\\loaders.py:78: FutureWarning: The pandas.np module is deprecated and will be removed from pandas in a future version. Import numpy directly instead\n",
      "  np = pd.np\n",
      "INFO:nlpia.loaders:No BIGDATA index found in C:\\Users\\24132\\AppData\\Roaming\\Python\\Python38\\site-packages\\nlpia\\data\\bigdata_info.csv so copy C:\\Users\\24132\\AppData\\Roaming\\Python\\Python38\\site-packages\\nlpia\\data\\bigdata_info.latest.csv to C:\\Users\\24132\\AppData\\Roaming\\Python\\Python38\\site-packages\\nlpia\\data\\bigdata_info.csv if you want to \"freeze\" it.\n",
      "INFO:nlpia.futil:Reading CSV with `read_csv(*('C:\\\\Users\\\\24132\\\\AppData\\\\Roaming\\\\Python\\\\Python38\\\\site-packages\\\\nlpia\\\\data\\\\mavis-batey-greetings.csv',), **{'low_memory': False})`...\n",
      "INFO:nlpia.futil:Reading CSV with `read_csv(*('C:\\\\Users\\\\24132\\\\AppData\\\\Roaming\\\\Python\\\\Python38\\\\site-packages\\\\nlpia\\\\data\\\\sms-spam.csv',), **{'low_memory': False})`...\n",
      "INFO:gensim.models.utils_any2vec:loading projection weights from D:\\迅雷下载\\GoogleNews-vectors-negative300.bin.gz\n",
      "INFO:gensim.models.utils_any2vec:loaded (3000000, 300) matrix from D:\\迅雷下载\\GoogleNews-vectors-negative300.bin.gz\n"
     ]
    },
    {
     "ename": "NameError",
     "evalue": "name 'dataset' is not defined",
     "output_type": "error",
     "traceback": [
      "\u001b[1;31m---------------------------------------------------------------------------\u001b[0m",
      "\u001b[1;31mNameError\u001b[0m                                 Traceback (most recent call last)",
      "\u001b[1;32m<ipython-input-3-0d72599f8ad2>\u001b[0m in \u001b[0;36m<module>\u001b[1;34m\u001b[0m\n\u001b[0;32m      7\u001b[0m \u001b[0mword_vector\u001b[0m\u001b[1;33m=\u001b[0m\u001b[0mKeyedVectors\u001b[0m\u001b[1;33m.\u001b[0m\u001b[0mload_word2vec_format\u001b[0m\u001b[1;33m(\u001b[0m\u001b[1;34mr'D:\\迅雷下载\\GoogleNews-vectors-negative300.bin.gz'\u001b[0m\u001b[1;33m,\u001b[0m\u001b[0mbinary\u001b[0m\u001b[1;33m=\u001b[0m\u001b[1;32mTrue\u001b[0m\u001b[1;33m)\u001b[0m\u001b[1;33m\u001b[0m\u001b[1;33m\u001b[0m\u001b[0m\n\u001b[0;32m      8\u001b[0m \u001b[1;33m\u001b[0m\u001b[0m\n\u001b[1;32m----> 9\u001b[1;33m \u001b[0msplit_point\u001b[0m\u001b[1;33m=\u001b[0m\u001b[0mint\u001b[0m\u001b[1;33m(\u001b[0m\u001b[0mlen\u001b[0m\u001b[1;33m(\u001b[0m\u001b[0mdataset\u001b[0m\u001b[1;33m)\u001b[0m\u001b[1;33m*\u001b[0m\u001b[1;36m0.8\u001b[0m\u001b[1;33m)\u001b[0m\u001b[1;33m\u001b[0m\u001b[1;33m\u001b[0m\u001b[0m\n\u001b[0m\u001b[0;32m     10\u001b[0m \u001b[0mtrainData\u001b[0m\u001b[1;33m=\u001b[0m\u001b[0mdataset\u001b[0m\u001b[1;33m[\u001b[0m\u001b[1;33m:\u001b[0m\u001b[0msplit_point\u001b[0m\u001b[1;33m]\u001b[0m\u001b[1;33m\u001b[0m\u001b[1;33m\u001b[0m\u001b[0m\n\u001b[0;32m     11\u001b[0m \u001b[0mtestData\u001b[0m\u001b[1;33m=\u001b[0m\u001b[0mdataset\u001b[0m\u001b[1;33m[\u001b[0m\u001b[0msplit_point\u001b[0m\u001b[1;33m:\u001b[0m\u001b[1;33m]\u001b[0m\u001b[1;33m\u001b[0m\u001b[1;33m\u001b[0m\u001b[0m\n",
      "\u001b[1;31mNameError\u001b[0m: name 'dataset' is not defined"
     ]
    }
   ],
   "source": [
    "#向量化及分词器\n",
    "from nltk.tokenize import TreebankWordTokenizer\n",
    "from gensim.models.keyedvectors import KeyedVectors\n",
    "from nlpia.loaders import get_data\n",
    "\n",
    "# word_vector = get_data('w2v',limit=200000)     #可以使用但是消耗太多内存\n",
    "word_vector=KeyedVectors.load_word2vec_format(r'D:\\迅雷下载\\GoogleNews-vectors-negative300.bin.gz',binary=True)\n",
    "\n",
    "split_point=int(len(dataset)*0.8)\n",
    "trainData=dataset[:split_point]\n",
    "testData=dataset[split_point:]\n",
    "tokenizer=TreebankWordTokenizer()\n"
   ]
  },
  {
   "cell_type": "code",
   "execution_count": 4,
   "metadata": {},
   "outputs": [],
   "source": [
    "# def tokenize_and_vectorizer(dataset):\n",
    "#     tokenizer = TreebankWordTokenizer()\n",
    "#     vectorized_data = []\n",
    "#     for sample in dataset:\n",
    "#         tokens = tokenizer.tokenize(sample[1])\n",
    "#         sample_vec = []\n",
    "#         for token in tokens:\n",
    "#             try:\n",
    "#                 sample_vec.append(word_vector[token])\n",
    "#             except KeyError:\n",
    "#                 pass    #没有token在这200000词当中\n",
    "#         vectorized_data.append(sample_vec)\n",
    "#     return vectorized_data\n",
    "\n",
    "def token_and_vectorize(filename,tokenizers):       #将句子转换为词向量\n",
    "    sample_vec=[]\n",
    "    with open(filename,'r',encoding='utf-8') as f:\n",
    "        tokens=tokenizer.tokenize(f.read())\n",
    "        for token in tokens:\n",
    "            try:\n",
    "                sample_vec.append(word_vector[token])\n",
    "            except:\n",
    "                pass\n",
    "    return sample_vec\n",
    "\n",
    "\n",
    "def collect_expected(dataset):       #得到标签\n",
    "    expected = []\n",
    "    for sample in dataset:\n",
    "        expected.append(sample[0])\n",
    "    return expected\n",
    "\n",
    "def pad_trunc(data,maxlen=400):      #将每个句子的词向量长度规范到400\n",
    "    zero_vector=[]\n",
    "    for _ in range(len(data[0])):\n",
    "        zero_vector.append(0.0)\n",
    "    if len(data)>maxlen:\n",
    "        temp=data[:maxlen]\n",
    "    elif len(data)<maxlen:\n",
    "        temp=data\n",
    "        additional_elems=maxlen-len(data)\n",
    "        for _ in range(additional_elems):\n",
    "            temp.append(zero_vector)\n",
    "    else:\n",
    "        temp=data\n",
    "    return temp\n",
    "\n"
   ]
  },
  {
   "cell_type": "code",
   "execution_count": 5,
   "metadata": {},
   "outputs": [],
   "source": [
    "def data_generator(data_store,tokenizers,batchsize=32,maxlen=400,embedding_dims=300):\n",
    "    X,Y=[],[]\n",
    "    while True:\n",
    "        for i in range(len(data_store)):\n",
    "            if (i % batchsize==0 and X and Y) or (i==len(data_store)):\n",
    "                X=np.reshape(X,(len(X),maxlen,embedding_dims))\n",
    "                Y=np.array(Y)\n",
    "                yield X,Y\n",
    "                X,Y=[],[]\n",
    "            x,y=data_store[i][1],data_store[i][0]\n",
    "            x=pad_trunc(token_and_vectorize(x,tokenizers),maxlen=maxlen)    \n",
    "            X.append(x)\n",
    "            Y.append(y)"
   ]
  },
  {
   "cell_type": "code",
   "execution_count": 8,
   "metadata": {},
   "outputs": [
    {
     "name": "stdout",
     "output_type": "stream",
     "text": [
      "Model: \"sequential_1\"\n",
      "_________________________________________________________________\n",
      "Layer (type)                 Output Shape              Param #   \n",
      "=================================================================\n",
      "conv1d_1 (Conv1D)            (None, 398, 250)          225250    \n",
      "_________________________________________________________________\n",
      "global_max_pooling1d_1 (Glob (None, 250)               0         \n",
      "_________________________________________________________________\n",
      "dense_2 (Dense)              (None, 250)               62750     \n",
      "_________________________________________________________________\n",
      "dropout_1 (Dropout)          (None, 250)               0         \n",
      "_________________________________________________________________\n",
      "activation_2 (Activation)    (None, 250)               0         \n",
      "_________________________________________________________________\n",
      "dense_3 (Dense)              (None, 1)                 251       \n",
      "_________________________________________________________________\n",
      "activation_3 (Activation)    (None, 1)                 0         \n",
      "=================================================================\n",
      "Total params: 288,251\n",
      "Trainable params: 288,251\n",
      "Non-trainable params: 0\n",
      "_________________________________________________________________\n",
      "Epoch 1/3\n",
      "625/625 [==============================] - 74s 118ms/step - loss: 0.3912 - accuracy: 0.8145 - val_loss: 0.2967 - val_accuracy: 0.8714\n",
      "Epoch 2/3\n",
      "625/625 [==============================] - 73s 117ms/step - loss: 0.2270 - accuracy: 0.9099 - val_loss: 0.2909 - val_accuracy: 0.8806\n",
      "Epoch 3/3\n",
      "625/625 [==============================] - 73s 116ms/step - loss: 0.1153 - accuracy: 0.9600 - val_loss: 0.4180 - val_accuracy: 0.8656\n"
     ]
    }
   ],
   "source": [
    "import math\n",
    "\n",
    "#设置CNN参数\n",
    "maxlen = 400\n",
    "batch_size = 32 \n",
    "embedding_dim = 300    #词向量长度\n",
    "filters = 250\n",
    "kernel_size = 3\n",
    "hidden_dim = 250\n",
    "epochs = 2\n",
    "\n",
    "model=Sequential()\n",
    "model.add(Conv1D(filters,kernel_size,padding='valid',activation='relu',strides=1,input_shape=(maxlen,embedding_dim)))  #卷积核尺寸为3*300\n",
    "model.add(GlobalMaxPool1D())\n",
    "model.add(Dense(hidden_dim))\n",
    "model.add(Dropout(0.2))\n",
    "model.add(Activation('relu'))\n",
    "#输出层\n",
    "model.add(Dense(1))\n",
    "model.add(Activation('sigmoid'))\n",
    "#编译\n",
    "model.compile(loss='binary_crossentropy',optimizer='adam',metrics=['accuracy'])\n",
    "\n",
    "model.summary()\n",
    "\n",
    "X_test=data_generator(testData,tokenizer,batchsize=batch_size,maxlen=maxlen)\n",
    "\n",
    "trainlen = len(trainData)\n",
    "testlen = len(testData)\n",
    "\n",
    "history=model.fit(data_generator(trainData,tokenizer,batchsize=batch_size,maxlen=maxlen),steps_per_epoch=math.ceil(trainlen/batch_size),epochs=3,validation_data=X_test,validation_steps=math.ceil(testlen/batch_size))"
   ]
  },
  {
   "cell_type": "code",
   "execution_count": 9,
   "metadata": {},
   "outputs": [
    {
     "data": {
      "text/plain": [
       "<AxesSubplot:>"
      ]
     },
     "execution_count": 9,
     "metadata": {},
     "output_type": "execute_result"
    },
    {
     "data": {
      "text/plain": [
       "(0.0, 1.0)"
      ]
     },
     "execution_count": 9,
     "metadata": {},
     "output_type": "execute_result"
    },
    {
     "data": {
      "image/png": "[encoded data removed]",
      "text/plain": [
       "<Figure size 576x360 with 1 Axes>"
      ]
     },
     "metadata": {
      "needs_background": "light"
     },
     "output_type": "display_data"
    }
   ],
   "source": [
    "import pandas as pd\n",
    "import matplotlib.pyplot as plt\n",
    "pd.DataFrame(history.history).plot(figsize=(8,5))\n",
    "plt.grid(True)\n",
    "plt.gca().set_ylim(0,1)\n",
    "plt.show()"
   ]
  },
  {
   "cell_type": "markdown",
   "metadata": {},
   "source": [
    "# 保存模型的方式——new"
   ]
  },
  {
   "cell_type": "code",
   "execution_count": 10,
   "metadata": {},
   "outputs": [
    {
     "data": {
      "text/plain": [
       "2290"
      ]
     },
     "execution_count": 10,
     "metadata": {},
     "output_type": "execute_result"
    }
   ],
   "source": [
    "model_structure = model.to_json()\n",
    "with open(r'D:\\深度学习模型\\nlp_7.4_cnn_model.json','w')as f:\n",
    "    f.write(model_structure)\n",
    "model.save_weights(r'D:\\深度学习模型\\nlp_7.4_cnn_weight.h5')"
   ]
  },
  {
   "cell_type": "code",
   "execution_count": 2,
   "metadata": {},
   "outputs": [],
   "source": [
    "#在流水线中使用模型\n",
    "from keras.models import model_from_json\n",
    "\n",
    "with open(r'D:\\深度学习模型\\nlp_7.4_cnn_model.json','r')as f:\n",
    "    json_string = f.read()\n",
    "model = model_from_json(json_string)\n",
    "model.load_weights(r'D:\\深度学习模型\\nlp_7.4_cnn_weight.h5')"
   ]
  },
  {
   "cell_type": "markdown",
   "metadata": {},
   "source": [
    "# 测试样本"
   ]
  },
  {
   "cell_type": "code",
   "execution_count": 13,
   "metadata": {},
   "outputs": [
    {
     "data": {
      "text/plain": [
       "array([[0.81582594]], dtype=float32)"
      ]
     },
     "execution_count": 13,
     "metadata": {},
     "output_type": "execute_result"
    },
    {
     "data": {
      "text/plain": [
       "array([[1]])"
      ]
     },
     "execution_count": 13,
     "metadata": {},
     "output_type": "execute_result"
    }
   ],
   "source": [
    "from nltk.tokenize import TreebankWordTokenizer\n",
    "import numpy as np\n",
    "tokenizer = TreebankWordTokenizer()\n",
    "file1 = r'D:\\迅雷下载\\nlpia-master-源代码及下载资源\\dataset\\7.4.1- IMDB电影评论数据集\\aclImdb\\test\\pos\\5_7.txt'\n",
    "vec_list = token_and_vectorize(file1,tokenizer)\n",
    "\n",
    "def reshape_400(list):\n",
    "    zero_list = [0.0 for i in range(len(list[0]))]\n",
    "    if len(list)>400:\n",
    "        temp = list[:400]\n",
    "    elif len(list)<400:\n",
    "        temp = list\n",
    "        for i in range(400-len(list)):\n",
    "            temp.append(zero_list)\n",
    "    else:\n",
    "        temp = list\n",
    "    return temp\n",
    "test_vec_list = reshape_400(vec_list)\n",
    "\n",
    "test_vec = np.reshape(test_vec_list,(1,400,300))\n",
    "\n",
    "model.predict(test_vec)\n",
    "model.predict_classes(test_vec)    #     pos_label = 1 ,neg_label = 0"
   ]
  },
  {
   "cell_type": "code",
   "execution_count": null,
   "metadata": {},
   "outputs": [],
   "source": []
  }
 ],
 "metadata": {
  "kernelspec": {
   "display_name": "Python 3",
   "language": "python",
   "name": "python3"
  },
  "language_info": {
   "codemirror_mode": {
    "name": "ipython",
    "version": 3
   },
   "file_extension": ".py",
   "mimetype": "text/x-python",
   "name": "python",
   "nbconvert_exporter": "python",
   "pygments_lexer": "ipython3",
   "version": "3.8.5"
  }
 },
 "nbformat": 4,
 "nbformat_minor": 4
}

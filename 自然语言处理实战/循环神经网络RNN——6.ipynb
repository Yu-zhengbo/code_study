{
 "cells": [
  {
   "cell_type": "code",
   "execution_count": 1,
   "metadata": {},
   "outputs": [],
   "source": [
    "from IPython.core.interactiveshell import InteractiveShell\n",
    "\n",
    "InteractiveShell.ast_node_interactivity = 'all'"
   ]
  },
  {
   "cell_type": "code",
   "execution_count": 2,
   "metadata": {
    "scrolled": true
   },
   "outputs": [
    {
     "name": "stderr",
     "output_type": "stream",
     "text": [
      "C:\\Users\\24132\\AppData\\Roaming\\Python\\Python38\\site-packages\\pugnlp\\constants.py:136: FutureWarning: The pandas.datetime class is deprecated and will be removed from pandas in a future version. Import from datetime module instead.\n",
      "  [datetime.datetime, pd.datetime, pd.Timestamp])\n",
      "C:\\Users\\24132\\AppData\\Roaming\\Python\\Python38\\site-packages\\pugnlp\\constants.py:158: FutureWarning: The pandas.datetime class is deprecated and will be removed from pandas in a future version. Import from datetime module instead.\n",
      "  MIN_TIMESTAMP = pd.Timestamp(pd.datetime(1677, 9, 22, 0, 12, 44), tz='utc')\n",
      "C:\\Users\\24132\\AppData\\Roaming\\Python\\Python38\\site-packages\\pugnlp\\tutil.py:100: FutureWarning: The pandas.np module is deprecated and will be removed from pandas in a future version. Import numpy directly instead\n",
      "  np = pd.np\n",
      "C:\\Users\\24132\\AppData\\Roaming\\Python\\Python38\\site-packages\\pugnlp\\util.py:80: FutureWarning: The pandas.np module is deprecated and will be removed from pandas in a future version. Import numpy directly instead\n",
      "  np = pd.np\n",
      "INFO:nlpia.constants:Starting logger in nlpia.constants...\n",
      "C:\\Users\\24132\\AppData\\Roaming\\Python\\Python38\\site-packages\\nlpia\\futil.py:30: FutureWarning: The pandas.np module is deprecated and will be removed from pandas in a future version. Import numpy directly instead\n",
      "  np = pd.np\n",
      "C:\\Users\\24132\\AppData\\Roaming\\Python\\Python38\\site-packages\\nlpia\\loaders.py:78: FutureWarning: The pandas.np module is deprecated and will be removed from pandas in a future version. Import numpy directly instead\n",
      "  np = pd.np\n",
      "INFO:nlpia.loaders:No BIGDATA index found in C:\\Users\\24132\\AppData\\Roaming\\Python\\Python38\\site-packages\\nlpia\\data\\bigdata_info.csv so copy C:\\Users\\24132\\AppData\\Roaming\\Python\\Python38\\site-packages\\nlpia\\data\\bigdata_info.latest.csv to C:\\Users\\24132\\AppData\\Roaming\\Python\\Python38\\site-packages\\nlpia\\data\\bigdata_info.csv if you want to \"freeze\" it.\n",
      "INFO:nlpia.futil:Reading CSV with `read_csv(*('C:\\\\Users\\\\24132\\\\AppData\\\\Roaming\\\\Python\\\\Python38\\\\site-packages\\\\nlpia\\\\data\\\\mavis-batey-greetings.csv',), **{'low_memory': False})`...\n",
      "INFO:nlpia.futil:Reading CSV with `read_csv(*('C:\\\\Users\\\\24132\\\\AppData\\\\Roaming\\\\Python\\\\Python38\\\\site-packages\\\\nlpia\\\\data\\\\sms-spam.csv',), **{'low_memory': False})`...\n"
     ]
    },
    {
     "data": {
      "text/plain": [
       "[(1,\n",
       "  'D:\\\\迅雷下载\\\\nlpia-master-源代码及下载资源\\\\dataset\\\\7.4.1- IMDB电影评论数据集\\\\aclImdb\\\\train\\\\pos\\\\8590_7.txt'),\n",
       " (1,\n",
       "  'D:\\\\迅雷下载\\\\nlpia-master-源代码及下载资源\\\\dataset\\\\7.4.1- IMDB电影评论数据集\\\\aclImdb\\\\train\\\\pos\\\\9727_7.txt'),\n",
       " (0,\n",
       "  'D:\\\\迅雷下载\\\\nlpia-master-源代码及下载资源\\\\dataset\\\\7.4.1- IMDB电影评论数据集\\\\aclImdb\\\\train\\\\neg\\\\9560_1.txt'),\n",
       " (0,\n",
       "  'D:\\\\迅雷下载\\\\nlpia-master-源代码及下载资源\\\\dataset\\\\7.4.1- IMDB电影评论数据集\\\\aclImdb\\\\train\\\\neg\\\\5410_1.txt'),\n",
       " (1,\n",
       "  'D:\\\\迅雷下载\\\\nlpia-master-源代码及下载资源\\\\dataset\\\\7.4.1- IMDB电影评论数据集\\\\aclImdb\\\\train\\\\pos\\\\4985_10.txt')]"
      ]
     },
     "execution_count": 2,
     "metadata": {},
     "output_type": "execute_result"
    }
   ],
   "source": [
    "import glob\n",
    "import os \n",
    "from random import shuffle\n",
    "from nlpia.loaders import get_data\n",
    "\n",
    "def pre_process_data(filepath):\n",
    "    positive_path = os.path.join(filepath,'pos')\n",
    "    negative_path = os.path.join(filepath,'neg')\n",
    "    pos_label = 1\n",
    "    neg_label = 0\n",
    "    dataset = []\n",
    "    for filename in glob.glob(os.path.join(positive_path,'*.txt')):\n",
    "        dataset.append((pos_label,filename))\n",
    "    for filename in glob.glob(os.path.join(negative_path,'*.txt')):\n",
    "        dataset.append((neg_label,filename))\n",
    "    shuffle(dataset)\n",
    "    return dataset\n",
    "dataset = pre_process_data(r'D:\\迅雷下载\\nlpia-master-源代码及下载资源\\dataset\\7.4.1- IMDB电影评论数据集\\aclImdb\\train')\n",
    "dataset[0:5]"
   ]
  },
  {
   "cell_type": "code",
   "execution_count": 3,
   "metadata": {},
   "outputs": [
    {
     "name": "stderr",
     "output_type": "stream",
     "text": [
      "INFO:gensim.models.utils_any2vec:loading projection weights from D:\\迅雷下载\\GoogleNews-vectors-negative300.bin.gz\n",
      "INFO:gensim.models.utils_any2vec:loaded (3000000, 300) matrix from D:\\迅雷下载\\GoogleNews-vectors-negative300.bin.gz\n"
     ]
    }
   ],
   "source": [
    "#加载谷歌预训练词向量\n",
    "from gensim.models.keyedvectors import KeyedVectors\n",
    "from nltk.tokenize import TreebankWordTokenizer\n",
    "word_vector=KeyedVectors.load_word2vec_format(r'D:\\迅雷下载\\GoogleNews-vectors-negative300.bin.gz',binary=True)\n",
    "tokenizer=TreebankWordTokenizer()"
   ]
  },
  {
   "cell_type": "code",
   "execution_count": 4,
   "metadata": {},
   "outputs": [],
   "source": [
    "#划分数据集\n",
    "import numpy as np\n",
    "\n",
    "split_point=int(len(dataset)*0.8)\n",
    "trainData=dataset[:split_point]\n",
    "testData=dataset[split_point:]\n",
    "\n",
    "\n",
    "\n",
    "def token_and_vectorize(filename,tokenizers):       #将句子转换为词向量\n",
    "    sample_vec=[]\n",
    "    with open(filename,'r',encoding='utf-8') as f:\n",
    "        tokens=tokenizer.tokenize(f.read())\n",
    "        for token in tokens:\n",
    "            try:\n",
    "                sample_vec.append(word_vector[token])\n",
    "            except:\n",
    "                pass\n",
    "    return sample_vec\n",
    "\n",
    "\n",
    "def collect_expected(dataset):       #得到标签\n",
    "    expected = []\n",
    "    for sample in dataset:\n",
    "        expected.append(sample[0])\n",
    "    return expected\n",
    "\n",
    "def pad_trunc(data,maxlen=400):      #将每个句子的词向量长度规范到400\n",
    "    zero_vector=[]\n",
    "    for _ in range(len(data[0])):\n",
    "        zero_vector.append(0.0)\n",
    "    if len(data)>maxlen:\n",
    "        temp=data[:maxlen]\n",
    "    elif len(data)<maxlen:\n",
    "        temp=data\n",
    "        additional_elems=maxlen-len(data)\n",
    "        for _ in range(additional_elems):\n",
    "            temp.append(zero_vector)\n",
    "    else:\n",
    "        temp=data\n",
    "    return temp\n",
    "\n",
    "\n",
    "\n",
    "def data_generator(data_store,tokenizers,batchsize=32,maxlen=400,embedding_dims=300):\n",
    "    X,Y=[],[]\n",
    "    while True:\n",
    "        for i in range(len(data_store)):\n",
    "            if (i % batchsize==0 and X and Y) or (i==len(data_store)):\n",
    "                X=np.reshape(X,(len(X),maxlen,embedding_dims))\n",
    "                Y=np.array(Y)\n",
    "                yield X,Y\n",
    "                X,Y=[],[]\n",
    "            x,y=data_store[i][1],data_store[i][0]\n",
    "            x=pad_trunc(token_and_vectorize(x,tokenizers),maxlen=maxlen)    \n",
    "            X.append(x)\n",
    "            Y.append(y)"
   ]
  },
  {
   "cell_type": "code",
   "execution_count": 5,
   "metadata": {
    "scrolled": true
   },
   "outputs": [
    {
     "name": "stdout",
     "output_type": "stream",
     "text": [
      "Model: \"sequential\"\n",
      "_________________________________________________________________\n",
      "Layer (type)                 Output Shape              Param #   \n",
      "=================================================================\n",
      "simple_rnn (SimpleRNN)       (None, 400, 50)           17550     \n",
      "_________________________________________________________________\n",
      "dropout (Dropout)            (None, 400, 50)           0         \n",
      "_________________________________________________________________\n",
      "flatten (Flatten)            (None, 20000)             0         \n",
      "_________________________________________________________________\n",
      "dense (Dense)                (None, 1)                 20001     \n",
      "=================================================================\n",
      "Total params: 37,551\n",
      "Trainable params: 37,551\n",
      "Non-trainable params: 0\n",
      "_________________________________________________________________\n",
      "Epoch 1/3\n",
      "625/625 [==============================] - 174s 279ms/step - loss: 0.5331 - accuracy: 0.7362 - val_loss: 0.4261 - val_accuracy: 0.8188\n",
      "Epoch 2/3\n",
      "625/625 [==============================] - 117s 188ms/step - loss: 0.3934 - accuracy: 0.8252 - val_loss: 0.4446 - val_accuracy: 0.8206\n",
      "Epoch 3/3\n",
      "625/625 [==============================] - 117s 188ms/step - loss: 0.3301 - accuracy: 0.8583 - val_loss: 0.4668 - val_accuracy: 0.8130\n"
     ]
    }
   ],
   "source": [
    "from keras.models import Sequential\n",
    "from keras.layers import Dense,Dropout,Flatten,SimpleRNN\n",
    "import math\n",
    "\n",
    "\n",
    "\n",
    "import math\n",
    "\n",
    "#设置CNN参数\n",
    "num_netrons = 50\n",
    "maxlen = 400\n",
    "batch_size = 32 \n",
    "embedding_dim = 300    #词向量长度\n",
    "filters = 250\n",
    "kernel_size = 3\n",
    "hidden_dim = 250\n",
    "epochs = 2\n",
    "\n",
    "model = Sequential()\n",
    "model.add(SimpleRNN(num_netrons,return_sequences=True,input_shape=(maxlen,embedding_dim)))\n",
    "model.add(Dropout(0.2))\n",
    "model.add(Flatten())\n",
    "model.add(Dense(1,activation='sigmoid'))\n",
    "model.compile(loss='binary_crossentropy',optimizer='adam',metrics=['accuracy'])\n",
    "model.summary()\n",
    "\n",
    "X_test=data_generator(testData,tokenizer,batchsize=batch_size,maxlen=maxlen)\n",
    "\n",
    "trainlen = len(trainData)\n",
    "testlen = len(testData)\n",
    "\n",
    "history=model.fit(data_generator(trainData,tokenizer,batchsize=batch_size,maxlen=maxlen),steps_per_epoch=math.ceil(trainlen/batch_size),epochs=3,validation_data=X_test,validation_steps=math.ceil(testlen/batch_size))"
   ]
  },
  {
   "cell_type": "code",
   "execution_count": 6,
   "metadata": {},
   "outputs": [
    {
     "data": {
      "text/plain": [
       "<AxesSubplot:>"
      ]
     },
     "execution_count": 6,
     "metadata": {},
     "output_type": "execute_result"
    },
    {
     "data": {
      "text/plain": [
       "(0.0, 1.0)"
      ]
     },
     "execution_count": 6,
     "metadata": {},
     "output_type": "execute_result"
    },
    {
     "data": {
      "image/png": "[encoded data removed]",
      "text/plain": [
       "<Figure size 576x360 with 1 Axes>"
      ]
     },
     "metadata": {
      "needs_background": "light"
     },
     "output_type": "display_data"
    }
   ],
   "source": [
    "import pandas as pd\n",
    "import matplotlib.pyplot as plt\n",
    "pd.DataFrame(history.history).plot(figsize=(8,5))\n",
    "plt.grid(True)\n",
    "plt.gca().set_ylim(0,1)\n",
    "plt.show()"
   ]
  },
  {
   "cell_type": "markdown",
   "metadata": {},
   "source": [
    "# 建立更大的网络\n"
   ]
  },
  {
   "cell_type": "code",
   "execution_count": 9,
   "metadata": {},
   "outputs": [
    {
     "name": "stdout",
     "output_type": "stream",
     "text": [
      "Model: \"sequential_3\"\n",
      "_________________________________________________________________\n",
      "Layer (type)                 Output Shape              Param #   \n",
      "=================================================================\n",
      "simple_rnn_1 (SimpleRNN)     (None, 400, 100)          40100     \n",
      "_________________________________________________________________\n",
      "dropout_1 (Dropout)          (None, 400, 100)          0         \n",
      "_________________________________________________________________\n",
      "flatten_1 (Flatten)          (None, 40000)             0         \n",
      "_________________________________________________________________\n",
      "dense_1 (Dense)              (None, 1)                 40001     \n",
      "=================================================================\n",
      "Total params: 80,101\n",
      "Trainable params: 80,101\n",
      "Non-trainable params: 0\n",
      "_________________________________________________________________\n",
      "Epoch 1/3\n",
      "625/625 [==============================] - 117s 187ms/step - loss: 0.6913 - accuracy: 0.6736 - val_loss: 0.5371 - val_accuracy: 0.7504\n",
      "Epoch 2/3\n",
      "625/625 [==============================] - 119s 190ms/step - loss: 0.4456 - accuracy: 0.8051 - val_loss: 0.5182 - val_accuracy: 0.7758\n",
      "Epoch 3/3\n",
      "625/625 [==============================] - 118s 189ms/step - loss: 0.3308 - accuracy: 0.8571 - val_loss: 0.5645 - val_accuracy: 0.7756\n"
     ]
    }
   ],
   "source": [
    "from keras.models import Sequential\n",
    "from keras.layers import Dense,Dropout,Flatten,SimpleRNN\n",
    "import math\n",
    "\n",
    "#设置CNN参数\n",
    "maxlen = 400\n",
    "batch_size = 32 \n",
    "embedding_dim = 300    #词向量长度\n",
    "filters = 250\n",
    "kernel_size = 3\n",
    "hidden_dim = 250\n",
    "epochs = 2\n",
    "num_netrons = 100\n",
    "\n",
    "model = Sequential()\n",
    "model.add(SimpleRNN(num_netrons,return_sequences=True,input_shape=(maxlen,embedding_dim)))\n",
    "model.add(Dropout(0.2))\n",
    "model.add(Flatten())\n",
    "model.add(Dense(1,activation='sigmoid'))\n",
    "model.compile('rmsprop',loss='binary_crossentropy',metrics=['accuracy'])\n",
    "model.summary()\n",
    "\n",
    "trainlen = len(trainData)\n",
    "testlen = len(testData)\n",
    "\n",
    "X_test=data_generator(testData,tokenizer,batchsize=batch_size,maxlen=maxlen)\n",
    "\n",
    "\n",
    "history=model.fit(data_generator(trainData,tokenizer,batchsize=batch_size,maxlen=maxlen),steps_per_epoch=math.ceil(trainlen/batch_size),epochs=3,validation_data=X_test,validation_steps=math.ceil(testlen/batch_size))"
   ]
  },
  {
   "cell_type": "code",
   "execution_count": 10,
   "metadata": {},
   "outputs": [
    {
     "data": {
      "text/plain": [
       "<AxesSubplot:>"
      ]
     },
     "execution_count": 10,
     "metadata": {},
     "output_type": "execute_result"
    },
    {
     "data": {
      "text/plain": [
       "(0.0, 1.0)"
      ]
     },
     "execution_count": 10,
     "metadata": {},
     "output_type": "execute_result"
    },
    {
     "data": {
      "image/png": "[encoded data removed]",
      "text/plain": [
       "<Figure size 576x360 with 1 Axes>"
      ]
     },
     "metadata": {
      "needs_background": "light"
     },
     "output_type": "display_data"
    }
   ],
   "source": [
    "import pandas as pd\n",
    "import matplotlib.pyplot as plt\n",
    "pd.DataFrame(history.history).plot(figsize=(8,5))\n",
    "plt.grid(True)\n",
    "plt.gca().set_ylim(0,1)\n",
    "plt.show()"
   ]
  },
  {
   "cell_type": "code",
   "execution_count": 11,
   "metadata": {},
   "outputs": [
    {
     "data": {
      "text/plain": [
       "1795"
      ]
     },
     "execution_count": 11,
     "metadata": {},
     "output_type": "execute_result"
    }
   ],
   "source": [
    "#保存模型\n",
    "\n",
    "model_structure = model.to_json()\n",
    "with open(r'D:\\深度学习模型\\nlp_8.5_rnn_model.json','w')as f:\n",
    "    f.write(model_structure)\n",
    "model.save_weights(r'D:\\深度学习模型\\nlp_8.5_rnn_weight.h5')"
   ]
  },
  {
   "cell_type": "code",
   "execution_count": 7,
   "metadata": {},
   "outputs": [],
   "source": [
    "#加载模型\n",
    "\n",
    "from keras.models import model_from_json\n",
    "\n",
    "with open(r'D:\\深度学习模型\\nlp_7.4_cnn_model.json','r')as f:\n",
    "    json_string = f.read()\n",
    "model = model_from_json(json_string)\n",
    "model.load_weights(r'D:\\深度学习模型\\nlp_7.4_cnn_weight.h5')"
   ]
  },
  {
   "cell_type": "code",
   "execution_count": 9,
   "metadata": {},
   "outputs": [
    {
     "data": {
      "text/plain": [
       "array([[1]])"
      ]
     },
     "execution_count": 9,
     "metadata": {},
     "output_type": "execute_result"
    }
   ],
   "source": [
    "#测试\n",
    "from nltk.tokenize import TreebankWordTokenizer\n",
    "import numpy as np\n",
    "tokenizer = TreebankWordTokenizer()\n",
    "file1 = r'D:\\迅雷下载\\nlpia-master-源代码及下载资源\\dataset\\7.4.1- IMDB电影评论数据集\\aclImdb\\test\\pos\\5_7.txt'\n",
    "vec_list = token_and_vectorize(file1,tokenizer)\n",
    "\n",
    "def reshape_400(list):\n",
    "    zero_list = [0.0 for i in range(len(list[0]))]\n",
    "    if len(list)>400:\n",
    "        temp = list[:400]\n",
    "    elif len(list)<400:\n",
    "        temp = list\n",
    "        for i in range(400-len(list)):\n",
    "            temp.append(zero_list)\n",
    "    else:\n",
    "        temp = list\n",
    "    return temp\n",
    "test_vec_list = reshape_400(vec_list)\n",
    "\n",
    "test_vec = np.reshape(test_vec_list,(1,400,300))\n",
    "\n",
    "model.predict(test_vec)\n",
    "model.predict_classes(test_vec)    #     pos_label = 1 ,neg_label = 0"
   ]
  },
  {
   "cell_type": "markdown",
   "metadata": {},
   "source": [
    "# 双向RNN"
   ]
  },
  {
   "cell_type": "code",
   "execution_count": 6,
   "metadata": {},
   "outputs": [
    {
     "name": "stdout",
     "output_type": "stream",
     "text": [
      "Epoch 1/3\n",
      "625/625 [==============================] - 104s 166ms/step - loss: 0.5459 - accuracy: 0.7137 - val_loss: 0.4989 - val_accuracy: 0.7618\n",
      "Epoch 2/3\n",
      "625/625 [==============================] - 55s 88ms/step - loss: 0.4613 - accuracy: 0.7844 - val_loss: 0.4844 - val_accuracy: 0.7682\n",
      "Epoch 3/3\n",
      "625/625 [==============================] - 55s 88ms/step - loss: 0.4393 - accuracy: 0.7976 - val_loss: 0.4829 - val_accuracy: 0.7740\n"
     ]
    }
   ],
   "source": [
    "from keras.models import Sequential\n",
    "from keras.layers import Dense,Dropout,Flatten,SimpleRNN\n",
    "from keras.layers.wrappers import Bidirectional\n",
    "import math\n",
    "\n",
    "\n",
    "#设置CNN参数\n",
    "num_netrons = 10\n",
    "maxlen = 100\n",
    "batch_size = 32 \n",
    "embedding_dim = 300    #词向量长度\n",
    "filters = 250\n",
    "kernel_size = 3\n",
    "hidden_dim = 250\n",
    "epochs = 2\n",
    "\n",
    "model = Sequential()\n",
    "model.add(Bidirectional(SimpleRNN(num_netrons,return_sequences=True,input_shape=(maxlen,embedding_dim))))\n",
    "model.add(Dropout(0.2))\n",
    "model.add(Flatten())\n",
    "model.add(Dense(1,activation='sigmoid'))\n",
    "model.compile(loss='binary_crossentropy',optimizer='adam',metrics=['accuracy'])\n",
    "# model.summary()\n",
    "\n",
    "X_test=data_generator(testData,tokenizer,batchsize=batch_size,maxlen=maxlen)\n",
    "\n",
    "trainlen = len(trainData)\n",
    "testlen = len(testData)\n",
    "\n",
    "history=model.fit(data_generator(trainData,tokenizer,batchsize=batch_size,maxlen=maxlen),steps_per_epoch=math.ceil(trainlen/batch_size),epochs=3,validation_data=X_test,validation_steps=math.ceil(testlen/batch_size))"
   ]
  },
  {
   "cell_type": "code",
   "execution_count": 7,
   "metadata": {},
   "outputs": [
    {
     "data": {
      "text/plain": [
       "<AxesSubplot:>"
      ]
     },
     "execution_count": 7,
     "metadata": {},
     "output_type": "execute_result"
    },
    {
     "data": {
      "text/plain": [
       "(0.0, 1.0)"
      ]
     },
     "execution_count": 7,
     "metadata": {},
     "output_type": "execute_result"
    },
    {
     "data": {
      "image/png": "[encoded data removed]",
      "text/plain": [
       "<Figure size 576x360 with 1 Axes>"
      ]
     },
     "metadata": {
      "needs_background": "light"
     },
     "output_type": "display_data"
    }
   ],
   "source": [
    "import pandas as pd\n",
    "import matplotlib.pyplot as plt\n",
    "pd.DataFrame(history.history).plot(figsize=(8,5))\n",
    "plt.grid(True)\n",
    "plt.gca().set_ylim(0,1)\n",
    "plt.show()"
   ]
  },
  {
   "cell_type": "code",
   "execution_count": 10,
   "metadata": {},
   "outputs": [
    {
     "data": {
      "text/plain": [
       "array([[0.7520733]], dtype=float32)"
      ]
     },
     "execution_count": 10,
     "metadata": {},
     "output_type": "execute_result"
    },
    {
     "name": "stdout",
     "output_type": "stream",
     "text": [
      "WARNING:tensorflow:From <ipython-input-10-ec6347fad20e>:24: Sequential.predict_classes (from tensorflow.python.keras.engine.sequential) is deprecated and will be removed after 2021-01-01.\n",
      "Instructions for updating:\n",
      "Please use instead:* `np.argmax(model.predict(x), axis=-1)`,   if your model does multi-class classification   (e.g. if it uses a `softmax` last-layer activation).* `(model.predict(x) > 0.5).astype(\"int32\")`,   if your model does binary classification   (e.g. if it uses a `sigmoid` last-layer activation).\n"
     ]
    },
    {
     "name": "stderr",
     "output_type": "stream",
     "text": [
      "WARNING:tensorflow:From <ipython-input-10-ec6347fad20e>:24: Sequential.predict_classes (from tensorflow.python.keras.engine.sequential) is deprecated and will be removed after 2021-01-01.\n",
      "Instructions for updating:\n",
      "Please use instead:* `np.argmax(model.predict(x), axis=-1)`,   if your model does multi-class classification   (e.g. if it uses a `softmax` last-layer activation).* `(model.predict(x) > 0.5).astype(\"int32\")`,   if your model does binary classification   (e.g. if it uses a `sigmoid` last-layer activation).\n"
     ]
    },
    {
     "data": {
      "text/plain": [
       "array([[1]])"
      ]
     },
     "execution_count": 10,
     "metadata": {},
     "output_type": "execute_result"
    }
   ],
   "source": [
    "#测试\n",
    "from nltk.tokenize import TreebankWordTokenizer\n",
    "import numpy as np\n",
    "tokenizer = TreebankWordTokenizer()\n",
    "file1 = r'D:\\迅雷下载\\nlpia-master-源代码及下载资源\\dataset\\7.4.1- IMDB电影评论数据集\\aclImdb\\test\\pos\\5_7.txt'\n",
    "vec_list = token_and_vectorize(file1,tokenizer)\n",
    "\n",
    "def reshape_100(list):\n",
    "    zero_list = [0.0 for i in range(len(list[0]))]\n",
    "    if len(list)>100:\n",
    "        temp = list[:100]\n",
    "    elif len(list)<100:\n",
    "        temp = list\n",
    "        for i in range(100-len(list)):\n",
    "            temp.append(zero_list)\n",
    "    else:\n",
    "        temp = list\n",
    "    return temp\n",
    "test_vec_list = reshape_100(vec_list)\n",
    "\n",
    "test_vec = np.reshape(test_vec_list,(1,100,300))\n",
    "\n",
    "model.predict(test_vec)\n",
    "model.predict_classes(test_vec)    #     pos_label = 1 ,neg_label = 0"
   ]
  },
  {
   "cell_type": "code",
   "execution_count": null,
   "metadata": {},
   "outputs": [],
   "source": []
  }
 ],
 "metadata": {
  "kernelspec": {
   "display_name": "Python 3",
   "language": "python",
   "name": "python3"
  },
  "language_info": {
   "codemirror_mode": {
    "name": "ipython",
    "version": 3
   },
   "file_extension": ".py",
   "mimetype": "text/x-python",
   "name": "python",
   "nbconvert_exporter": "python",
   "pygments_lexer": "ipython3",
   "version": "3.8.5"
  }
 },
 "nbformat": 4,
 "nbformat_minor": 4
}

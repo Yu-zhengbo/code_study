{
 "cells": [
  {
   "cell_type": "code",
   "execution_count": 1,
   "metadata": {},
   "outputs": [],
   "source": [
    "from IPython.core.interactiveshell import InteractiveShell\n",
    "\n",
    "InteractiveShell.ast_node_interactivity = 'all'"
   ]
  },
  {
   "cell_type": "code",
   "execution_count": 2,
   "metadata": {},
   "outputs": [
    {
     "name": "stderr",
     "output_type": "stream",
     "text": [
      "C:\\Users\\24132\\AppData\\Roaming\\Python\\Python38\\site-packages\\pugnlp\\constants.py:136: FutureWarning: The pandas.datetime class is deprecated and will be removed from pandas in a future version. Import from datetime module instead.\n",
      "  [datetime.datetime, pd.datetime, pd.Timestamp])\n",
      "C:\\Users\\24132\\AppData\\Roaming\\Python\\Python38\\site-packages\\pugnlp\\constants.py:158: FutureWarning: The pandas.datetime class is deprecated and will be removed from pandas in a future version. Import from datetime module instead.\n",
      "  MIN_TIMESTAMP = pd.Timestamp(pd.datetime(1677, 9, 22, 0, 12, 44), tz='utc')\n",
      "C:\\Users\\24132\\AppData\\Roaming\\Python\\Python38\\site-packages\\pugnlp\\tutil.py:100: FutureWarning: The pandas.np module is deprecated and will be removed from pandas in a future version. Import numpy directly instead\n",
      "  np = pd.np\n",
      "C:\\Users\\24132\\AppData\\Roaming\\Python\\Python38\\site-packages\\pugnlp\\util.py:80: FutureWarning: The pandas.np module is deprecated and will be removed from pandas in a future version. Import numpy directly instead\n",
      "  np = pd.np\n",
      "INFO:nlpia.constants:Starting logger in nlpia.constants...\n",
      "C:\\Users\\24132\\AppData\\Roaming\\Python\\Python38\\site-packages\\nlpia\\futil.py:30: FutureWarning: The pandas.np module is deprecated and will be removed from pandas in a future version. Import numpy directly instead\n",
      "  np = pd.np\n",
      "C:\\Users\\24132\\AppData\\Roaming\\Python\\Python38\\site-packages\\nlpia\\loaders.py:78: FutureWarning: The pandas.np module is deprecated and will be removed from pandas in a future version. Import numpy directly instead\n",
      "  np = pd.np\n",
      "INFO:nlpia.loaders:No BIGDATA index found in C:\\Users\\24132\\AppData\\Roaming\\Python\\Python38\\site-packages\\nlpia\\data\\bigdata_info.csv so copy C:\\Users\\24132\\AppData\\Roaming\\Python\\Python38\\site-packages\\nlpia\\data\\bigdata_info.latest.csv to C:\\Users\\24132\\AppData\\Roaming\\Python\\Python38\\site-packages\\nlpia\\data\\bigdata_info.csv if you want to \"freeze\" it.\n",
      "INFO:nlpia.futil:Reading CSV with `read_csv(*('C:\\\\Users\\\\24132\\\\AppData\\\\Roaming\\\\Python\\\\Python38\\\\site-packages\\\\nlpia\\\\data\\\\mavis-batey-greetings.csv',), **{'low_memory': False})`...\n",
      "INFO:nlpia.futil:Reading CSV with `read_csv(*('C:\\\\Users\\\\24132\\\\AppData\\\\Roaming\\\\Python\\\\Python38\\\\site-packages\\\\nlpia\\\\data\\\\sms-spam.csv',), **{'low_memory': False})`...\n"
     ]
    },
    {
     "data": {
      "text/plain": [
       "[(0,\n",
       "  'D:\\\\迅雷下载\\\\nlpia-master-源代码及下载资源\\\\dataset\\\\7.4.1- IMDB电影评论数据集\\\\aclImdb\\\\train\\\\neg\\\\6390_2.txt'),\n",
       " (1,\n",
       "  'D:\\\\迅雷下载\\\\nlpia-master-源代码及下载资源\\\\dataset\\\\7.4.1- IMDB电影评论数据集\\\\aclImdb\\\\train\\\\pos\\\\1833_10.txt'),\n",
       " (0,\n",
       "  'D:\\\\迅雷下载\\\\nlpia-master-源代码及下载资源\\\\dataset\\\\7.4.1- IMDB电影评论数据集\\\\aclImdb\\\\train\\\\neg\\\\731_3.txt'),\n",
       " (1,\n",
       "  'D:\\\\迅雷下载\\\\nlpia-master-源代码及下载资源\\\\dataset\\\\7.4.1- IMDB电影评论数据集\\\\aclImdb\\\\train\\\\pos\\\\11781_8.txt'),\n",
       " (0,\n",
       "  'D:\\\\迅雷下载\\\\nlpia-master-源代码及下载资源\\\\dataset\\\\7.4.1- IMDB电影评论数据集\\\\aclImdb\\\\train\\\\neg\\\\8140_2.txt')]"
      ]
     },
     "execution_count": 2,
     "metadata": {},
     "output_type": "execute_result"
    }
   ],
   "source": [
    " import glob\n",
    "import os \n",
    "from random import shuffle\n",
    "from nlpia.loaders import get_data\n",
    "\n",
    "def pre_process_data(filepath):\n",
    "    positive_path = os.path.join(filepath,'pos')\n",
    "    negative_path = os.path.join(filepath,'neg')\n",
    "    pos_label = 1\n",
    "    neg_label = 0\n",
    "    dataset = []\n",
    "    for filename in glob.glob(os.path.join(positive_path,'*.txt')):\n",
    "        dataset.append((pos_label,filename))\n",
    "    for filename in glob.glob(os.path.join(negative_path,'*.txt')):\n",
    "        dataset.append((neg_label,filename))\n",
    "    shuffle(dataset)\n",
    "    return dataset\n",
    "dataset = pre_process_data(r'D:\\迅雷下载\\nlpia-master-源代码及下载资源\\dataset\\7.4.1- IMDB电影评论数据集\\aclImdb\\train')\n",
    "dataset[0:5]"
   ]
  },
  {
   "cell_type": "code",
   "execution_count": 3,
   "metadata": {},
   "outputs": [
    {
     "name": "stderr",
     "output_type": "stream",
     "text": [
      "INFO:gensim.models.utils_any2vec:loading projection weights from D:\\迅雷下载\\GoogleNews-vectors-negative300.bin.gz\n",
      "INFO:gensim.models.utils_any2vec:loaded (3000000, 300) matrix from D:\\迅雷下载\\GoogleNews-vectors-negative300.bin.gz\n"
     ]
    }
   ],
   "source": [
    "#加载谷歌预训练词向量\n",
    "from gensim.models.keyedvectors import KeyedVectors\n",
    "from nltk.tokenize import TreebankWordTokenizer\n",
    "word_vector=KeyedVectors.load_word2vec_format(r'D:\\迅雷下载\\GoogleNews-vectors-negative300.bin.gz',binary=True)\n",
    "tokenizer=TreebankWordTokenizer()"
   ]
  },
  {
   "cell_type": "code",
   "execution_count": 4,
   "metadata": {},
   "outputs": [],
   "source": [
    "#划分数据集\n",
    "import numpy as np\n",
    "\n",
    "split_point=int(len(dataset)*0.8)\n",
    "trainData=dataset[:split_point]\n",
    "testData=dataset[split_point:]\n",
    "\n",
    "\n",
    "\n",
    "def token_and_vectorize(filename,tokenizers):       #将句子转换为词向量\n",
    "    sample_vec=[]\n",
    "    with open(filename,'r',encoding='utf-8') as f:\n",
    "        tokens=tokenizer.tokenize(f.read())\n",
    "        for token in tokens:\n",
    "            try:\n",
    "                sample_vec.append(word_vector[token])\n",
    "            except:\n",
    "                pass\n",
    "    return sample_vec\n",
    "\n",
    "\n",
    "def collect_expected(dataset):       #得到标签\n",
    "    expected = []\n",
    "    for sample in dataset:\n",
    "        expected.append(sample[0])\n",
    "    return expected\n",
    "\n",
    "def pad_trunc(data,maxlen=400):      #将每个句子的词向量长度规范到400\n",
    "    zero_vector=[]\n",
    "    for _ in range(len(data[0])):\n",
    "        zero_vector.append(0.0)\n",
    "    if len(data)>maxlen:\n",
    "        temp=data[:maxlen]\n",
    "    elif len(data)<maxlen:\n",
    "        temp=data\n",
    "        additional_elems=maxlen-len(data)\n",
    "        for _ in range(additional_elems):\n",
    "            temp.append(zero_vector)\n",
    "    else:\n",
    "        temp=data\n",
    "    return temp\n",
    "\n",
    "\n",
    "\n",
    "def data_generator(data_store,tokenizers,batchsize=32,maxlen=400,embedding_dims=300):\n",
    "    X,Y=[],[]\n",
    "    while True:\n",
    "        for i in range(len(data_store)):\n",
    "            if (i % batchsize==0 and X and Y) or (i==len(data_store)):\n",
    "                X=np.reshape(X,(len(X),maxlen,embedding_dims))\n",
    "                Y=np.array(Y)\n",
    "                yield X,Y\n",
    "                X,Y=[],[]\n",
    "            x,y=data_store[i][1],data_store[i][0]\n",
    "            x=pad_trunc(token_and_vectorize(x,tokenizers),maxlen=maxlen)    \n",
    "            X.append(x)\n",
    "            Y.append(y)"
   ]
  },
  {
   "cell_type": "code",
   "execution_count": 5,
   "metadata": {},
   "outputs": [
    {
     "name": "stdout",
     "output_type": "stream",
     "text": [
      "Model: \"sequential\"\n",
      "_________________________________________________________________\n",
      "Layer (type)                 Output Shape              Param #   \n",
      "=================================================================\n",
      "lstm (LSTM)                  (None, 400, 50)           70200     \n",
      "_________________________________________________________________\n",
      "dropout (Dropout)            (None, 400, 50)           0         \n",
      "_________________________________________________________________\n",
      "flatten (Flatten)            (None, 20000)             0         \n",
      "_________________________________________________________________\n",
      "dense (Dense)                (None, 1)                 20001     \n",
      "=================================================================\n",
      "Total params: 90,201\n",
      "Trainable params: 90,201\n",
      "Non-trainable params: 0\n",
      "_________________________________________________________________\n",
      "Epoch 1/3\n",
      "625/625 [==============================] - 181s 290ms/step - loss: 0.4324 - accuracy: 0.8034 - val_loss: 0.3548 - val_accuracy: 0.8446\n",
      "Epoch 2/3\n",
      "625/625 [==============================] - 73s 116ms/step - loss: 0.3222 - accuracy: 0.8662 - val_loss: 0.3201 - val_accuracy: 0.8636\n",
      "Epoch 3/3\n",
      "625/625 [==============================] - 73s 117ms/step - loss: 0.2756 - accuracy: 0.8864 - val_loss: 0.3349 - val_accuracy: 0.8608\n"
     ]
    }
   ],
   "source": [
    "from keras.models import Sequential\n",
    "from keras.layers import Dense,Dropout,Flatten,LSTM\n",
    "import math\n",
    "\n",
    "\n",
    "\n",
    "import math\n",
    "\n",
    "#设置CNN参数\n",
    "num_netrons = 50\n",
    "maxlen = 400\n",
    "batch_size = 32 \n",
    "embedding_dim = 300    #词向量长度\n",
    "filters = 250\n",
    "kernel_size = 3\n",
    "hidden_dim = 250\n",
    "epochs = 2\n",
    "\n",
    "model = Sequential()\n",
    "model.add(LSTM(num_netrons,return_sequences=True,input_shape=(maxlen,embedding_dim)))\n",
    "model.add(Dropout(0.2))\n",
    "model.add(Flatten())\n",
    "model.add(Dense(1,activation='sigmoid'))\n",
    "model.compile(loss='binary_crossentropy',optimizer='adam',metrics=['accuracy'])\n",
    "model.summary()\n",
    "\n",
    "X_test=data_generator(testData,tokenizer,batchsize=batch_size,maxlen=maxlen)\n",
    "\n",
    "trainlen = len(trainData)\n",
    "testlen = len(testData)\n",
    "\n",
    "history=model.fit(data_generator(trainData,tokenizer,batchsize=batch_size,maxlen=maxlen),steps_per_epoch=math.ceil(trainlen/batch_size),epochs=3,validation_data=X_test,validation_steps=math.ceil(testlen/batch_size))"
   ]
  },
  {
   "cell_type": "code",
   "execution_count": 6,
   "metadata": {},
   "outputs": [
    {
     "data": {
      "text/plain": [
       "<AxesSubplot:>"
      ]
     },
     "execution_count": 6,
     "metadata": {},
     "output_type": "execute_result"
    },
    {
     "data": {
      "text/plain": [
       "(0.0, 1.0)"
      ]
     },
     "execution_count": 6,
     "metadata": {},
     "output_type": "execute_result"
    },
    {
     "data": {
      "image/png": "[encoded data removed]",
      "text/plain": [
       "<Figure size 576x360 with 1 Axes>"
      ]
     },
     "metadata": {
      "needs_background": "light"
     },
     "output_type": "display_data"
    }
   ],
   "source": [
    "import pandas as pd\n",
    "import matplotlib.pyplot as plt\n",
    "pd.DataFrame(history.history).plot(figsize=(8,5))\n",
    "plt.grid(True)\n",
    "plt.gca().set_ylim(0,1)\n",
    "plt.show()"
   ]
  },
  {
   "cell_type": "code",
   "execution_count": 7,
   "metadata": {},
   "outputs": [
    {
     "data": {
      "text/plain": [
       "1847"
      ]
     },
     "execution_count": 7,
     "metadata": {},
     "output_type": "execute_result"
    }
   ],
   "source": [
    "#保存模型\n",
    "\n",
    "model_structure = model.to_json()\n",
    "with open(r'D:\\深度学习模型\\nlp_9.1_lstm_model.json','w')as f:\n",
    "    f.write(model_structure)\n",
    "model.save_weights(r'D:\\深度学习模型\\nlp_9.1_lstm_weight.h5')"
   ]
  },
  {
   "cell_type": "code",
   "execution_count": 8,
   "metadata": {},
   "outputs": [],
   "source": [
    "#加载模型\n",
    "\n",
    "from keras.models import model_from_json\n",
    "\n",
    "with open(r'D:\\深度学习模型\\nlp_9.1_lstm_model.json','r')as f:\n",
    "    json_string = f.read()\n",
    "model = model_from_json(json_string)\n",
    "model.load_weights(r'D:\\深度学习模型\\nlp_9.1_lstm_weight.h5')"
   ]
  },
  {
   "cell_type": "code",
   "execution_count": 9,
   "metadata": {},
   "outputs": [
    {
     "data": {
      "text/plain": [
       "array([[0.6674501]], dtype=float32)"
      ]
     },
     "execution_count": 9,
     "metadata": {},
     "output_type": "execute_result"
    },
    {
     "name": "stdout",
     "output_type": "stream",
     "text": [
      "WARNING:tensorflow:From <ipython-input-9-2144528d6e27>:24: Sequential.predict_classes (from tensorflow.python.keras.engine.sequential) is deprecated and will be removed after 2021-01-01.\n",
      "Instructions for updating:\n",
      "Please use instead:* `np.argmax(model.predict(x), axis=-1)`,   if your model does multi-class classification   (e.g. if it uses a `softmax` last-layer activation).* `(model.predict(x) > 0.5).astype(\"int32\")`,   if your model does binary classification   (e.g. if it uses a `sigmoid` last-layer activation).\n"
     ]
    },
    {
     "name": "stderr",
     "output_type": "stream",
     "text": [
      "WARNING:tensorflow:From <ipython-input-9-2144528d6e27>:24: Sequential.predict_classes (from tensorflow.python.keras.engine.sequential) is deprecated and will be removed after 2021-01-01.\n",
      "Instructions for updating:\n",
      "Please use instead:* `np.argmax(model.predict(x), axis=-1)`,   if your model does multi-class classification   (e.g. if it uses a `softmax` last-layer activation).* `(model.predict(x) > 0.5).astype(\"int32\")`,   if your model does binary classification   (e.g. if it uses a `sigmoid` last-layer activation).\n"
     ]
    },
    {
     "data": {
      "text/plain": [
       "array([[1]])"
      ]
     },
     "execution_count": 9,
     "metadata": {},
     "output_type": "execute_result"
    }
   ],
   "source": [
    "#测试\n",
    "from nltk.tokenize import TreebankWordTokenizer\n",
    "import numpy as np\n",
    "tokenizer = TreebankWordTokenizer()\n",
    "file1 = r'D:\\迅雷下载\\nlpia-master-源代码及下载资源\\dataset\\7.4.1- IMDB电影评论数据集\\aclImdb\\test\\pos\\5_7.txt'\n",
    "vec_list = token_and_vectorize(file1,tokenizer)\n",
    "\n",
    "def reshape_400(list):\n",
    "    zero_list = [0.0 for i in range(len(list[0]))]\n",
    "    if len(list)>400:\n",
    "        temp = list[:400]\n",
    "    elif len(list)<400:\n",
    "        temp = list\n",
    "        for i in range(400-len(list)):\n",
    "            temp.append(zero_list)\n",
    "    else:\n",
    "        temp = list\n",
    "    return temp\n",
    "test_vec_list = reshape_400(vec_list)\n",
    "\n",
    "test_vec = np.reshape(test_vec_list,(1,400,300))\n",
    "\n",
    "model.predict(test_vec)\n",
    "model.predict_classes(test_vec)    #     pos_label = 1 ,neg_label = 0"
   ]
  },
  {
   "cell_type": "markdown",
   "metadata": {},
   "source": [
    "# 字符级建模\n"
   ]
  },
  {
   "cell_type": "code",
   "execution_count": 2,
   "metadata": {
    "scrolled": false
   },
   "outputs": [],
   "source": [
    "import os\n",
    "import glob\n",
    "from random import shuffle\n",
    "import numpy as np\n",
    "\n",
    "def pre_process_data(filepath):\n",
    "    positive_path = os.path.join(filepath,'pos')\n",
    "    negative_path = os.path.join(filepath,'neg')\n",
    "    pos_label = 1\n",
    "    neg_label = 0\n",
    "    dataset = []\n",
    "    for filename in glob.glob(os.path.join(positive_path,'*.txt')):\n",
    "        with open(filename,'r',encoding='utf-8') as f:\n",
    "            dataset.append((pos_label,f.read()))\n",
    "    for filename in glob.glob(os.path.join(negative_path,'*.txt')):\n",
    "        with open(filename,'r',encoding='utf-8') as f:\n",
    "            dataset.append((neg_label,f.read()))\n",
    "    shuffle(dataset)\n",
    "    return dataset[:10000]\n",
    "\n",
    "def collect_expected(dataset):       #得到标签\n",
    "    expected = []\n",
    "    for sample in dataset:\n",
    "        expected.append(sample[0])\n",
    "    return np.array(expected)\n",
    "\n",
    "\n",
    "def avg_len(data):\n",
    "    len_ = 0\n",
    "    for i in data:\n",
    "        len_ += len(i[1])\n",
    "    return len_/len(data)\n",
    "# avg_len(dataset)    #1325.06964\n",
    "\n",
    "def clean_data(data):\n",
    "    new_data = []\n",
    "    valid_char = 'abcdefghijklmnopqrsduvwxyz012345678\"\\'?!/,:; '\n",
    "    for sample in data:\n",
    "        new_sample = []\n",
    "        for i in sample[1].lower():\n",
    "            if i in valid_char:\n",
    "                new_sample.append(i)\n",
    "            else:\n",
    "                new_sample.append('UNK')\n",
    "        new_data.append(new_sample)\n",
    "    return new_data\n",
    "\n",
    "\n",
    "def char_pad_trunc(data,maxlen=1500):\n",
    "    newdataset = []\n",
    "    for sample in data:\n",
    "        if len(sample)>maxlen:\n",
    "            temp = sample[:maxlen]\n",
    "        elif len(sample)<maxlen:\n",
    "            add_ = maxlen-len(sample)\n",
    "            for i in range(add_):\n",
    "                sample.append('PAD')\n",
    "            temp = sample\n",
    "        else:\n",
    "            temp = sample\n",
    "        newdataset.append(temp)\n",
    "    return newdataset\n",
    "\n",
    "def create_dicts(data):\n",
    "    chars = set()\n",
    "    for sample in data:\n",
    "        chars.update(set(sample))\n",
    "    char_indices = dict((c,i)for c,i in enumerate(chars))\n",
    "    indices_char = dict((i,c)for c,i in enumerate(chars))\n",
    "    return char_indices,indices_char\n",
    "\n",
    "def onehot_encode(dataset,char_indices,maxlen=1500):\n",
    "    x = np.zeros((len(dataset),maxlen,len(char_indices.keys())))\n",
    "    for i ,sentence in enumerate(dataset):\n",
    "        for t,char in enumerate(sentence):\n",
    "            x[i,t,indices_char[char]] = 1\n",
    "    return np.array(x)\n",
    "\n",
    "dataset = pre_process_data(r'D:\\迅雷下载\\nlpia-master-源代码及下载资源\\dataset\\7.4.1- IMDB电影评论数据集\\aclImdb\\test')\n",
    "expected = collect_expected(dataset)\n",
    "# listified_data = clean_data(dataset)\n",
    "\n",
    "common_length_data = char_pad_trunc(clean_data(dataset),maxlen=1500)\n",
    "\n",
    "char_indices,indices_char = create_dicts(common_length_data)\n",
    "# char_indices,indices_char\n",
    "common_length_data = onehot_encode(common_length_data,char_indices,1500)\n",
    "\n",
    "split = int(len(common_length_data)*0.8)\n",
    "x_train = common_length_data[:split]\n",
    "y_train = expected[:split]\n",
    "x_test = common_length_data[split:]\n",
    "y_test = expected[split:]\n"
   ]
  },
  {
   "cell_type": "code",
   "execution_count": 3,
   "metadata": {},
   "outputs": [
    {
     "name": "stdout",
     "output_type": "stream",
     "text": [
      "(8000, 1500, 45) (8000,)\n",
      "(2000, 1500, 45) (2000,)\n"
     ]
    }
   ],
   "source": [
    "print(x_train.shape,y_train.shape)\n",
    "print(x_test.shape,y_test.shape)"
   ]
  },
  {
   "cell_type": "code",
   "execution_count": 4,
   "metadata": {},
   "outputs": [
    {
     "name": "stdout",
     "output_type": "stream",
     "text": [
      "Model: \"sequential\"\n",
      "_________________________________________________________________\n",
      "Layer (type)                 Output Shape              Param #   \n",
      "=================================================================\n",
      "lstm (LSTM)                  (None, 1500, 40)          13760     \n",
      "_________________________________________________________________\n",
      "dropout (Dropout)            (None, 1500, 40)          0         \n",
      "_________________________________________________________________\n",
      "flatten (Flatten)            (None, 60000)             0         \n",
      "_________________________________________________________________\n",
      "dense (Dense)                (None, 1)                 60001     \n",
      "=================================================================\n",
      "Total params: 73,761\n",
      "Trainable params: 73,761\n",
      "Non-trainable params: 0\n",
      "_________________________________________________________________\n",
      "Epoch 1/10\n",
      "160/160 [==============================] - 8s 48ms/step - loss: 0.7381 - accuracy: 0.5121 - val_loss: 0.6928 - val_accuracy: 0.5240\n",
      "Epoch 2/10\n",
      "160/160 [==============================] - 7s 45ms/step - loss: 0.6343 - accuracy: 0.6529 - val_loss: 0.7317 - val_accuracy: 0.5240\n",
      "Epoch 3/10\n",
      "160/160 [==============================] - 7s 45ms/step - loss: 0.5533 - accuracy: 0.7406 - val_loss: 0.7187 - val_accuracy: 0.5455\n",
      "Epoch 4/10\n",
      "160/160 [==============================] - 7s 45ms/step - loss: 0.4776 - accuracy: 0.7865 - val_loss: 0.7756 - val_accuracy: 0.5470\n",
      "Epoch 5/10\n",
      "160/160 [==============================] - 7s 45ms/step - loss: 0.4103 - accuracy: 0.8300 - val_loss: 0.8121 - val_accuracy: 0.5480\n",
      "Epoch 6/10\n",
      "160/160 [==============================] - 7s 45ms/step - loss: 0.3514 - accuracy: 0.8614 - val_loss: 0.8645 - val_accuracy: 0.5500\n",
      "Epoch 7/10\n",
      "160/160 [==============================] - 7s 45ms/step - loss: 0.2934 - accuracy: 0.8928 - val_loss: 0.9427 - val_accuracy: 0.5420\n",
      "Epoch 8/10\n",
      "160/160 [==============================] - 7s 45ms/step - loss: 0.2465 - accuracy: 0.9181 - val_loss: 1.0243 - val_accuracy: 0.5375\n",
      "Epoch 9/10\n",
      "160/160 [==============================] - 7s 45ms/step - loss: 0.2041 - accuracy: 0.9351 - val_loss: 1.1313 - val_accuracy: 0.5465\n",
      "Epoch 10/10\n",
      "160/160 [==============================] - 7s 45ms/step - loss: 0.1669 - accuracy: 0.9511 - val_loss: 1.2188 - val_accuracy: 0.5385\n"
     ]
    }
   ],
   "source": [
    "from keras.models import Sequential\n",
    "from keras.layers import Dense,Dropout,Embedding,Flatten,LSTM\n",
    "import math\n",
    "\n",
    "batch_size = 50\n",
    "num_neurons = 40\n",
    "maxlen = 1500\n",
    "model = Sequential()\n",
    "model.add(LSTM(num_neurons,return_sequences=True,input_shape=(maxlen,len(char_indices.keys()))))\n",
    "model.add(Dropout(0.2))\n",
    "model.add(Flatten())\n",
    "model.add(Dense(1,activation='sigmoid'))\n",
    "model.compile('rmsprop','binary_crossentropy',metrics=['accuracy'])\n",
    "model.summary()\n",
    "\n",
    "history=model.fit(x_train,y_train,batch_size=batch_size,epochs=10,validation_data=(x_test,y_test))\n"
   ]
  },
  {
   "cell_type": "markdown",
   "metadata": {},
   "source": [
    "# 生成文本_莎士比亚"
   ]
  },
  {
   "cell_type": "code",
   "execution_count": 3,
   "metadata": {},
   "outputs": [
    {
     "data": {
      "text/plain": [
       "['austen-emma.txt',\n",
       " 'austen-persuasion.txt',\n",
       " 'austen-sense.txt',\n",
       " 'bible-kjv.txt',\n",
       " 'blake-poems.txt',\n",
       " 'bryant-stories.txt',\n",
       " 'burgess-busterbrown.txt',\n",
       " 'carroll-alice.txt',\n",
       " 'chesterton-ball.txt',\n",
       " 'chesterton-brown.txt',\n",
       " 'chesterton-thursday.txt',\n",
       " 'edgeworth-parents.txt',\n",
       " 'melville-moby_dick.txt',\n",
       " 'milton-paradise.txt',\n",
       " 'shakespeare-caesar.txt',\n",
       " 'shakespeare-hamlet.txt',\n",
       " 'shakespeare-macbeth.txt',\n",
       " 'whitman-leaves.txt']"
      ]
     },
     "execution_count": 3,
     "metadata": {},
     "output_type": "execute_result"
    }
   ],
   "source": [
    "from nltk.corpus import gutenberg\n",
    "\n",
    "gutenberg.fileids()"
   ]
  },
  {
   "cell_type": "code",
   "execution_count": 16,
   "metadata": {},
   "outputs": [
    {
     "name": "stdout",
     "output_type": "stream",
     "text": [
      "文章总字符数为： 375542    set之后的字符数： 50\n",
      "sequence长度为： 125168\n",
      "next长度为： 125168\n"
     ]
    }
   ],
   "source": [
    "#预处理莎士比亚的戏剧\n",
    "text = ''\n",
    "for txt in gutenberg.fileids():\n",
    "    if 'shakespeare' in txt:\n",
    "        text += gutenberg.raw(txt).lower()\n",
    "chars = sorted(list(set(text)))\n",
    "char_indices = dict((c,i) for i,c in enumerate(chars))\n",
    "indices_char = dict((i,c) for i,c in enumerate(chars))\n",
    "print('文章总字符数为：',len(text),'   set之后的字符数：',len(chars))\n",
    "\n",
    "#数据细分为半冗余块\n",
    "maxlen = 40\n",
    "step = 3\n",
    "sentence = []\n",
    "next_char = []\n",
    "for i in range(0,len(text)-maxlen,step):\n",
    "    sentence.append(text[i:i+maxlen])\n",
    "    next_char.append(text[i+maxlen])\n",
    "print('sequence长度为：',len(sentence))\n",
    "print('next长度为：',len(next_char))"
   ]
  },
  {
   "cell_type": "code",
   "execution_count": 22,
   "metadata": {},
   "outputs": [
    {
     "data": {
      "text/plain": [
       "array([False, False, False, False, False, False, False, False, False,\n",
       "       False, False, False, False, False, False, False, False, False,\n",
       "       False, False, False, False, False, False, False, False, False,\n",
       "       False, False, False, False, False, False, False, False,  True,\n",
       "       False, False, False, False, False, False, False, False, False,\n",
       "       False, False, False, False, False])"
      ]
     },
     "execution_count": 22,
     "metadata": {},
     "output_type": "execute_result"
    }
   ],
   "source": [
    "#将训练样本转化为独热编码\n",
    "import numpy as np\n",
    "x = np.zeros((len(sentence),maxlen,len(chars)),dtype=np.bool)\n",
    "y = np.zeros((len(sentence),len(chars)),dtype=np.bool)\n",
    "for i,sent in enumerate(sentence):\n",
    "    for t,char in enumerate(sent):\n",
    "        x[i,t,char_indices[char]] = 1\n",
    "    y[i,char_indices[next_char[i]]] = 1\n",
    "y[0]"
   ]
  },
  {
   "cell_type": "code",
   "execution_count": 28,
   "metadata": {},
   "outputs": [
    {
     "name": "stdout",
     "output_type": "stream",
     "text": [
      "Model: \"sequential_1\"\n",
      "_________________________________________________________________\n",
      "Layer (type)                 Output Shape              Param #   \n",
      "=================================================================\n",
      "lstm (LSTM)                  (None, 128)               91648     \n",
      "_________________________________________________________________\n",
      "dense (Dense)                (None, 50)                6450      \n",
      "_________________________________________________________________\n",
      "activation (Activation)      (None, 50)                0         \n",
      "=================================================================\n",
      "Total params: 98,098\n",
      "Trainable params: 98,098\n",
      "Non-trainable params: 0\n",
      "_________________________________________________________________\n"
     ]
    }
   ],
   "source": [
    "#组装一个LSTM模型来生成文本\n",
    "from keras.models import Sequential\n",
    "from keras.layers import Dense,Activation\n",
    "from keras.layers import LSTM\n",
    "from keras.optimizers import RMSprop\n",
    "\n",
    "model = Sequential()\n",
    "model.add(LSTM(128,input_shape=(maxlen,len(chars))))\n",
    "model.add(Dense(len(chars)))\n",
    "model.add(Activation('softmax'))\n",
    "\n",
    "optimizer = RMSprop(lr=0.01)\n",
    "model.compile(loss='categorical_crossentropy',optimizer=optimizer)\n",
    "model.summary()\n"
   ]
  },
  {
   "cell_type": "code",
   "execution_count": 30,
   "metadata": {
    "scrolled": true
   },
   "outputs": [
    {
     "data": {
      "text/plain": [
       "1701"
      ]
     },
     "execution_count": 30,
     "metadata": {},
     "output_type": "execute_result"
    },
    {
     "name": "stdout",
     "output_type": "stream",
     "text": [
      "Epoch 1/6\n",
      "978/978 [==============================] - 4s 4ms/step - loss: 2.0379\n",
      "Epoch 2/6\n",
      "978/978 [==============================] - 4s 4ms/step - loss: 1.6842\n",
      "Epoch 3/6\n",
      "978/978 [==============================] - 4s 4ms/step - loss: 1.5806\n",
      "Epoch 4/6\n",
      "978/978 [==============================] - 4s 4ms/step - loss: 1.5188\n",
      "Epoch 5/6\n",
      "978/978 [==============================] - 4s 4ms/step - loss: 1.4774\n",
      "Epoch 6/6\n",
      "978/978 [==============================] - 4s 4ms/step - loss: 1.4456\n"
     ]
    },
    {
     "data": {
      "text/plain": [
       "<tensorflow.python.keras.callbacks.History at 0x21d85c91ac0>"
      ]
     },
     "execution_count": 30,
     "metadata": {},
     "output_type": "execute_result"
    },
    {
     "name": "stdout",
     "output_type": "stream",
     "text": [
      "Epoch 1/6\n",
      "978/978 [==============================] - 4s 4ms/step - loss: 1.4208\n",
      "Epoch 2/6\n",
      "978/978 [==============================] - 4s 4ms/step - loss: 1.3997\n",
      "Epoch 3/6\n",
      "978/978 [==============================] - 4s 4ms/step - loss: 1.3849\n",
      "Epoch 4/6\n",
      "978/978 [==============================] - 4s 4ms/step - loss: 1.3685\n",
      "Epoch 5/6\n",
      "978/978 [==============================] - 4s 4ms/step - loss: 1.3595\n",
      "Epoch 6/6\n",
      "978/978 [==============================] - 4s 4ms/step - loss: 1.3484\n"
     ]
    },
    {
     "data": {
      "text/plain": [
       "<tensorflow.python.keras.callbacks.History at 0x21d65e6f250>"
      ]
     },
     "execution_count": 30,
     "metadata": {},
     "output_type": "execute_result"
    },
    {
     "name": "stdout",
     "output_type": "stream",
     "text": [
      "Epoch 1/6\n",
      "978/978 [==============================] - 4s 4ms/step - loss: 1.3391\n",
      "Epoch 2/6\n",
      "978/978 [==============================] - 4s 4ms/step - loss: 1.3296\n",
      "Epoch 3/6\n",
      "978/978 [==============================] - 4s 4ms/step - loss: 1.3245\n",
      "Epoch 4/6\n",
      "978/978 [==============================] - 4s 4ms/step - loss: 1.3158\n",
      "Epoch 5/6\n",
      "978/978 [==============================] - 4s 4ms/step - loss: 1.3078\n",
      "Epoch 6/6\n",
      "978/978 [==============================] - 4s 4ms/step - loss: 1.3017\n"
     ]
    },
    {
     "data": {
      "text/plain": [
       "<tensorflow.python.keras.callbacks.History at 0x21d65ebb6d0>"
      ]
     },
     "execution_count": 30,
     "metadata": {},
     "output_type": "execute_result"
    },
    {
     "name": "stdout",
     "output_type": "stream",
     "text": [
      "Epoch 1/6\n",
      "978/978 [==============================] - 4s 4ms/step - loss: 1.2939\n",
      "Epoch 2/6\n",
      "978/978 [==============================] - 4s 4ms/step - loss: 1.2900\n",
      "Epoch 3/6\n",
      "978/978 [==============================] - 4s 4ms/step - loss: 1.2873\n",
      "Epoch 4/6\n",
      "978/978 [==============================] - 4s 4ms/step - loss: 1.2821\n",
      "Epoch 5/6\n",
      "978/978 [==============================] - 4s 4ms/step - loss: 1.2764\n",
      "Epoch 6/6\n",
      "978/978 [==============================] - 4s 4ms/step - loss: 1.2730\n"
     ]
    },
    {
     "data": {
      "text/plain": [
       "<tensorflow.python.keras.callbacks.History at 0x21d65f0aca0>"
      ]
     },
     "execution_count": 30,
     "metadata": {},
     "output_type": "execute_result"
    },
    {
     "name": "stdout",
     "output_type": "stream",
     "text": [
      "Epoch 1/6\n",
      "978/978 [==============================] - 4s 4ms/step - loss: 1.2708\n",
      "Epoch 2/6\n",
      "978/978 [==============================] - 4s 4ms/step - loss: 1.2634\n",
      "Epoch 3/6\n",
      "978/978 [==============================] - 4s 4ms/step - loss: 1.2600\n",
      "Epoch 4/6\n",
      "978/978 [==============================] - 4s 4ms/step - loss: 1.2586\n",
      "Epoch 5/6\n",
      "978/978 [==============================] - 4s 4ms/step - loss: 1.2525\n",
      "Epoch 6/6\n",
      "978/978 [==============================] - 5s 5ms/step - loss: 1.2504\n"
     ]
    },
    {
     "data": {
      "text/plain": [
       "<tensorflow.python.keras.callbacks.History at 0x21ebcee6d90>"
      ]
     },
     "execution_count": 30,
     "metadata": {},
     "output_type": "execute_result"
    }
   ],
   "source": [
    "epoch = 6\n",
    "batch_size = 128\n",
    "model_structures = model.to_json()\n",
    "with open(r'D:\\深度学习模型\\shakes_lstm_model.json','w') as f:\n",
    "    f.write(model_structures)\n",
    "for i in range(5):\n",
    "    model.fit(x,y,batch_size=batch_size,epochs=epoch)\n",
    "    model.save_weights(r'D:\\深度学习模型\\shakes_lstm_model.json')"
   ]
  },
  {
   "cell_type": "code",
   "execution_count": 32,
   "metadata": {},
   "outputs": [
    {
     "name": "stdout",
     "output_type": "stream",
     "text": [
      "---------diversity: 0.2\n",
      "generating with seed: \" ing; and when\n",
      "you are ask't this questio \"\n",
      "ing; and when\n",
      "you are ask't this question to day of the secesse,\n",
      "and the spend a bong, and the call the sword\n",
      "\n",
      "   cassi. i will not see the sword to the thing: you are the thing:\n",
      "there is not the soule be a followes to thee\n",
      "interpresent the stormes, and can be showes?\n",
      "that the strike to the stormes, and stay the chance\n",
      "to the stormes against the countrius, and then\n",
      "\n",
      "   cassi. there's me be so much will forgles of the selfe,\n",
      "and the call---------diversity: 0.5\n",
      "generating with seed: \" ing; and when\n",
      "you are ask't this questio \"\n",
      "ing; and when\n",
      "you are ask't this question make all,\n",
      "and then caesars breath against the fire,\n",
      "and his stome death, and the clouds of there.\n",
      "but was to the charme, and play you booke me\n",
      "with more the be commonstance of the countens,\n",
      "and hee in the cause of thine, for the scele patt and by men\n",
      "\n",
      "   ham. no my lord\n",
      "\n",
      "   ham. i thanke you make against the mother to such a forme.\n",
      "\n",
      "exeunt.\n",
      "\n",
      "enter caesar shall thing, he will be actantle\n",
      "\n",
      "   ham.---------diversity: 1.0\n",
      "generating with seed: \" ing; and when\n",
      "you are ask't this questio \"\n",
      "ing; and when\n",
      "you are ask't this question as away, i haue aratur\n",
      "tquaters, thou did been too theny selfe,\n",
      "you shars'd guilty, for it grobtes, thepes, for pretted pllast king'd\n",
      "hath of a nothing for my encorne, i do fellow,\n",
      "that take a fifirallow leape;\n",
      "gather chilsmion's cormingesse hath caesar.\n",
      "i haue knowe his nature, it naugtyr goue with\n",
      "the keepe, and their comminder blow'd thy generate,\n",
      "and dey not manue right you vp: and treached,"
     ]
    }
   ],
   "source": [
    "import random \n",
    "def sample(preds,temperature=1.0):\n",
    "    preds = np.asarray(preds).astype('float64')\n",
    "    preds = np.log(preds)/temperature\n",
    "    exp_preds = np.exp(preds)\n",
    "    preds = exp_preds/np.sum(exp_preds)\n",
    "    probas = np.random.multinomial(1,preds,1)    #可以模拟随机实验\n",
    "    return np.argmax(probas)\n",
    "\n",
    "import sys \n",
    "start_index = random.randint(0,len(text)-maxlen-1)\n",
    "for diversity in [0.2,0.5,1.0]:\n",
    "    print('---------diversity:',diversity)\n",
    "    generated = ''\n",
    "    sentence = text[start_index:start_index+maxlen]\n",
    "    generated += sentence\n",
    "    print('generating with seed:','\"',generated,'\"')\n",
    "    sys.stdout.write(generated)\n",
    "    for i in range(400):\n",
    "        x = np.zeros((1,maxlen,len(chars)))\n",
    "        for t,char in enumerate(sentence):\n",
    "            x[0,t,char_indices[char]] = 1.\n",
    "        preds = model.predict(x,verbose=0)[0]\n",
    "        next_index = sample(preds,diversity)\n",
    "        next_char = indices_char[next_index]\n",
    "        generated += next_char\n",
    "        sentence = sentence[1:]+next_char\n",
    "        sys.stdout.write(next_char)\n",
    "        sys.stdout.flush()\n",
    "        "
   ]
  },
  {
   "cell_type": "code",
   "execution_count": null,
   "metadata": {},
   "outputs": [],
   "source": []
  },
  {
   "cell_type": "code",
   "execution_count": null,
   "metadata": {},
   "outputs": [],
   "source": []
  },
  {
   "cell_type": "code",
   "execution_count": null,
   "metadata": {},
   "outputs": [],
   "source": []
  },
  {
   "cell_type": "markdown",
   "metadata": {},
   "source": [
    "# 想写迭代器来训练神经网络"
   ]
  },
  {
   "cell_type": "code",
   "execution_count": null,
   "metadata": {},
   "outputs": [],
   "source": [
    "from keras.models import Sequential\n",
    "from keras.layers import Dense,Dropout,Embedding,Flatten,LSTM\n",
    "import math\n",
    "\n",
    "batch_size = 50\n",
    "num_neurons = 40\n",
    "maxlen = 1500\n",
    "model = Sequential()\n",
    "model.add(LSTM(num_neurons,return_sequences=True,input_shape=(maxlen,len(char_indices.keys()))))\n",
    "model.add(Dropout(0.2))\n",
    "model.add(Flatten())\n",
    "model.add(Dense(1,activation='sigmoid'))\n",
    "model.compile('rmsprop','binary_crossentropy',metrics=['accuracy'])\n",
    "model.summary()\n",
    "\n",
    "X_test=generate_onehot(testData,char_indices,maxlen=maxlen)\n",
    "\n",
    "trainlen = len(trainData)\n",
    "testlen = len(testData)\n",
    "\n",
    "history=model.fit(generate_onehot(trainData,char_indices,maxlen=maxlen),steps_per_epoch=math.ceil(trainlen/batch_size),epochs=3,validation_data=X_test,validation_steps=math.ceil(testlen/batch_size))\n"
   ]
  },
  {
   "cell_type": "code",
   "execution_count": 57,
   "metadata": {},
   "outputs": [],
   "source": [
    "# char_indices\n",
    "# for i in common_length_data:\n",
    "#     print(len(i))\n",
    "trainData = common_length_data[:int(len(common_length_data)*0.8)]\n",
    "testData = common_length_data[int(len(common_length_data)*0.8):]\n",
    "def generate_onehot(dataset,char_indices,maxlen=1500,batch=50):\n",
    "    x = np.zeros((batch,maxlen,len(char_indices.keys())))\n",
    "    step = int(len(dataset)/batch)\n",
    "    while True:\n",
    "        for j in range(step):\n",
    "            for i,sentence in enumerate(dataset[j*batch:(j+1)*batch]):\n",
    "#             print(i,sentence)\n",
    "                 for t,char in enumerate(sentence):\n",
    "#                 print(len(sentence))\n",
    "                      x[i,t,indices_char[char]] = 1\n",
    "        yield x\n",
    "\n",
    "encoded_data = generate_onehot(common_length_data,char_indices,maxlen=1500)"
   ]
  },
  {
   "cell_type": "code",
   "execution_count": null,
   "metadata": {},
   "outputs": [],
   "source": []
  },
  {
   "cell_type": "code",
   "execution_count": 56,
   "metadata": {
    "scrolled": true
   },
   "outputs": [
    {
     "data": {
      "text/plain": [
       "(50, 1500, 45)"
      ]
     },
     "execution_count": 56,
     "metadata": {},
     "output_type": "execute_result"
    }
   ],
   "source": [
    "# char_indices\n",
    "a = np.array(next(encoded_data))\n",
    "a.shape"
   ]
  },
  {
   "cell_type": "code",
   "execution_count": 60,
   "metadata": {},
   "outputs": [
    {
     "name": "stdout",
     "output_type": "stream",
     "text": [
      "Model: \"sequential_4\"\n",
      "_________________________________________________________________\n",
      "Layer (type)                 Output Shape              Param #   \n",
      "=================================================================\n",
      "lstm_4 (LSTM)                (None, 1500, 40)          13760     \n",
      "_________________________________________________________________\n",
      "dropout_4 (Dropout)          (None, 1500, 40)          0         \n",
      "_________________________________________________________________\n",
      "flatten_4 (Flatten)          (None, 60000)             0         \n",
      "_________________________________________________________________\n",
      "dense_4 (Dense)              (None, 1)                 60001     \n",
      "=================================================================\n",
      "Total params: 73,761\n",
      "Trainable params: 73,761\n",
      "Non-trainable params: 0\n",
      "_________________________________________________________________\n",
      "Epoch 1/3\n"
     ]
    },
    {
     "ename": "ValueError",
     "evalue": "in user code:\n\n    C:\\Users\\24132\\AppData\\Roaming\\Python\\Python38\\site-packages\\tensorflow\\python\\keras\\engine\\training.py:806 train_function  *\n        return step_function(self, iterator)\n    C:\\Users\\24132\\AppData\\Roaming\\Python\\Python38\\site-packages\\tensorflow\\python\\keras\\engine\\training.py:796 step_function  **\n        outputs = model.distribute_strategy.run(run_step, args=(data,))\n    C:\\Users\\24132\\AppData\\Roaming\\Python\\Python38\\site-packages\\tensorflow\\python\\distribute\\distribute_lib.py:1211 run\n        return self._extended.call_for_each_replica(fn, args=args, kwargs=kwargs)\n    C:\\Users\\24132\\AppData\\Roaming\\Python\\Python38\\site-packages\\tensorflow\\python\\distribute\\distribute_lib.py:2585 call_for_each_replica\n        return self._call_for_each_replica(fn, args, kwargs)\n    C:\\Users\\24132\\AppData\\Roaming\\Python\\Python38\\site-packages\\tensorflow\\python\\distribute\\distribute_lib.py:2945 _call_for_each_replica\n        return fn(*args, **kwargs)\n    C:\\Users\\24132\\AppData\\Roaming\\Python\\Python38\\site-packages\\tensorflow\\python\\keras\\engine\\training.py:789 run_step  **\n        outputs = model.train_step(data)\n    C:\\Users\\24132\\AppData\\Roaming\\Python\\Python38\\site-packages\\tensorflow\\python\\keras\\engine\\training.py:756 train_step\n        _minimize(self.distribute_strategy, tape, self.optimizer, loss,\n    C:\\Users\\24132\\AppData\\Roaming\\Python\\Python38\\site-packages\\tensorflow\\python\\keras\\engine\\training.py:2736 _minimize\n        gradients = optimizer._aggregate_gradients(zip(gradients,  # pylint: disable=protected-access\n    C:\\Users\\24132\\AppData\\Roaming\\Python\\Python38\\site-packages\\tensorflow\\python\\keras\\optimizer_v2\\optimizer_v2.py:562 _aggregate_gradients\n        filtered_grads_and_vars = _filter_grads(grads_and_vars)\n    C:\\Users\\24132\\AppData\\Roaming\\Python\\Python38\\site-packages\\tensorflow\\python\\keras\\optimizer_v2\\optimizer_v2.py:1270 _filter_grads\n        raise ValueError(\"No gradients provided for any variable: %s.\" %\n\n    ValueError: No gradients provided for any variable: ['lstm_4/lstm_cell_4/kernel:0', 'lstm_4/lstm_cell_4/recurrent_kernel:0', 'lstm_4/lstm_cell_4/bias:0', 'dense_4/kernel:0', 'dense_4/bias:0'].\n",
     "output_type": "error",
     "traceback": [
      "\u001b[1;31m---------------------------------------------------------------------------\u001b[0m",
      "\u001b[1;31mValueError\u001b[0m                                Traceback (most recent call last)",
      "\u001b[1;32m<ipython-input-60-55f8b7899d47>\u001b[0m in \u001b[0;36m<module>\u001b[1;34m\u001b[0m\n\u001b[0;32m     19\u001b[0m \u001b[0mtestlen\u001b[0m \u001b[1;33m=\u001b[0m \u001b[0mlen\u001b[0m\u001b[1;33m(\u001b[0m\u001b[0mtestData\u001b[0m\u001b[1;33m)\u001b[0m\u001b[1;33m\u001b[0m\u001b[1;33m\u001b[0m\u001b[0m\n\u001b[0;32m     20\u001b[0m \u001b[1;33m\u001b[0m\u001b[0m\n\u001b[1;32m---> 21\u001b[1;33m \u001b[0mhistory\u001b[0m\u001b[1;33m=\u001b[0m\u001b[0mmodel\u001b[0m\u001b[1;33m.\u001b[0m\u001b[0mfit\u001b[0m\u001b[1;33m(\u001b[0m\u001b[0mgenerate_onehot\u001b[0m\u001b[1;33m(\u001b[0m\u001b[0mtrainData\u001b[0m\u001b[1;33m,\u001b[0m\u001b[0mchar_indices\u001b[0m\u001b[1;33m,\u001b[0m\u001b[0mmaxlen\u001b[0m\u001b[1;33m=\u001b[0m\u001b[0mmaxlen\u001b[0m\u001b[1;33m)\u001b[0m\u001b[1;33m,\u001b[0m\u001b[0msteps_per_epoch\u001b[0m\u001b[1;33m=\u001b[0m\u001b[0mmath\u001b[0m\u001b[1;33m.\u001b[0m\u001b[0mceil\u001b[0m\u001b[1;33m(\u001b[0m\u001b[0mtrainlen\u001b[0m\u001b[1;33m/\u001b[0m\u001b[0mbatch_size\u001b[0m\u001b[1;33m)\u001b[0m\u001b[1;33m,\u001b[0m\u001b[0mepochs\u001b[0m\u001b[1;33m=\u001b[0m\u001b[1;36m3\u001b[0m\u001b[1;33m,\u001b[0m\u001b[0mvalidation_data\u001b[0m\u001b[1;33m=\u001b[0m\u001b[0mX_test\u001b[0m\u001b[1;33m,\u001b[0m\u001b[0mvalidation_steps\u001b[0m\u001b[1;33m=\u001b[0m\u001b[0mmath\u001b[0m\u001b[1;33m.\u001b[0m\u001b[0mceil\u001b[0m\u001b[1;33m(\u001b[0m\u001b[0mtestlen\u001b[0m\u001b[1;33m/\u001b[0m\u001b[0mbatch_size\u001b[0m\u001b[1;33m)\u001b[0m\u001b[1;33m)\u001b[0m\u001b[1;33m\u001b[0m\u001b[1;33m\u001b[0m\u001b[0m\n\u001b[0m",
      "\u001b[1;32m~\\AppData\\Roaming\\Python\\Python38\\site-packages\\tensorflow\\python\\keras\\engine\\training.py\u001b[0m in \u001b[0;36m_method_wrapper\u001b[1;34m(self, *args, **kwargs)\u001b[0m\n\u001b[0;32m    106\u001b[0m   \u001b[1;32mdef\u001b[0m \u001b[0m_method_wrapper\u001b[0m\u001b[1;33m(\u001b[0m\u001b[0mself\u001b[0m\u001b[1;33m,\u001b[0m \u001b[1;33m*\u001b[0m\u001b[0margs\u001b[0m\u001b[1;33m,\u001b[0m \u001b[1;33m**\u001b[0m\u001b[0mkwargs\u001b[0m\u001b[1;33m)\u001b[0m\u001b[1;33m:\u001b[0m\u001b[1;33m\u001b[0m\u001b[1;33m\u001b[0m\u001b[0m\n\u001b[0;32m    107\u001b[0m     \u001b[1;32mif\u001b[0m \u001b[1;32mnot\u001b[0m \u001b[0mself\u001b[0m\u001b[1;33m.\u001b[0m\u001b[0m_in_multi_worker_mode\u001b[0m\u001b[1;33m(\u001b[0m\u001b[1;33m)\u001b[0m\u001b[1;33m:\u001b[0m  \u001b[1;31m# pylint: disable=protected-access\u001b[0m\u001b[1;33m\u001b[0m\u001b[1;33m\u001b[0m\u001b[0m\n\u001b[1;32m--> 108\u001b[1;33m       \u001b[1;32mreturn\u001b[0m \u001b[0mmethod\u001b[0m\u001b[1;33m(\u001b[0m\u001b[0mself\u001b[0m\u001b[1;33m,\u001b[0m \u001b[1;33m*\u001b[0m\u001b[0margs\u001b[0m\u001b[1;33m,\u001b[0m \u001b[1;33m**\u001b[0m\u001b[0mkwargs\u001b[0m\u001b[1;33m)\u001b[0m\u001b[1;33m\u001b[0m\u001b[1;33m\u001b[0m\u001b[0m\n\u001b[0m\u001b[0;32m    109\u001b[0m \u001b[1;33m\u001b[0m\u001b[0m\n\u001b[0;32m    110\u001b[0m     \u001b[1;31m# Running inside `run_distribute_coordinator` already.\u001b[0m\u001b[1;33m\u001b[0m\u001b[1;33m\u001b[0m\u001b[1;33m\u001b[0m\u001b[0m\n",
      "\u001b[1;32m~\\AppData\\Roaming\\Python\\Python38\\site-packages\\tensorflow\\python\\keras\\engine\\training.py\u001b[0m in \u001b[0;36mfit\u001b[1;34m(self, x, y, batch_size, epochs, verbose, callbacks, validation_split, validation_data, shuffle, class_weight, sample_weight, initial_epoch, steps_per_epoch, validation_steps, validation_batch_size, validation_freq, max_queue_size, workers, use_multiprocessing)\u001b[0m\n\u001b[0;32m   1096\u001b[0m                 batch_size=batch_size):\n\u001b[0;32m   1097\u001b[0m               \u001b[0mcallbacks\u001b[0m\u001b[1;33m.\u001b[0m\u001b[0mon_train_batch_begin\u001b[0m\u001b[1;33m(\u001b[0m\u001b[0mstep\u001b[0m\u001b[1;33m)\u001b[0m\u001b[1;33m\u001b[0m\u001b[1;33m\u001b[0m\u001b[0m\n\u001b[1;32m-> 1098\u001b[1;33m               \u001b[0mtmp_logs\u001b[0m \u001b[1;33m=\u001b[0m \u001b[0mtrain_function\u001b[0m\u001b[1;33m(\u001b[0m\u001b[0miterator\u001b[0m\u001b[1;33m)\u001b[0m\u001b[1;33m\u001b[0m\u001b[1;33m\u001b[0m\u001b[0m\n\u001b[0m\u001b[0;32m   1099\u001b[0m               \u001b[1;32mif\u001b[0m \u001b[0mdata_handler\u001b[0m\u001b[1;33m.\u001b[0m\u001b[0mshould_sync\u001b[0m\u001b[1;33m:\u001b[0m\u001b[1;33m\u001b[0m\u001b[1;33m\u001b[0m\u001b[0m\n\u001b[0;32m   1100\u001b[0m                 \u001b[0mcontext\u001b[0m\u001b[1;33m.\u001b[0m\u001b[0masync_wait\u001b[0m\u001b[1;33m(\u001b[0m\u001b[1;33m)\u001b[0m\u001b[1;33m\u001b[0m\u001b[1;33m\u001b[0m\u001b[0m\n",
      "\u001b[1;32m~\\AppData\\Roaming\\Python\\Python38\\site-packages\\tensorflow\\python\\eager\\def_function.py\u001b[0m in \u001b[0;36m__call__\u001b[1;34m(self, *args, **kwds)\u001b[0m\n\u001b[0;32m    778\u001b[0m       \u001b[1;32melse\u001b[0m\u001b[1;33m:\u001b[0m\u001b[1;33m\u001b[0m\u001b[1;33m\u001b[0m\u001b[0m\n\u001b[0;32m    779\u001b[0m         \u001b[0mcompiler\u001b[0m \u001b[1;33m=\u001b[0m \u001b[1;34m\"nonXla\"\u001b[0m\u001b[1;33m\u001b[0m\u001b[1;33m\u001b[0m\u001b[0m\n\u001b[1;32m--> 780\u001b[1;33m         \u001b[0mresult\u001b[0m \u001b[1;33m=\u001b[0m \u001b[0mself\u001b[0m\u001b[1;33m.\u001b[0m\u001b[0m_call\u001b[0m\u001b[1;33m(\u001b[0m\u001b[1;33m*\u001b[0m\u001b[0margs\u001b[0m\u001b[1;33m,\u001b[0m \u001b[1;33m**\u001b[0m\u001b[0mkwds\u001b[0m\u001b[1;33m)\u001b[0m\u001b[1;33m\u001b[0m\u001b[1;33m\u001b[0m\u001b[0m\n\u001b[0m\u001b[0;32m    781\u001b[0m \u001b[1;33m\u001b[0m\u001b[0m\n\u001b[0;32m    782\u001b[0m       \u001b[0mnew_tracing_count\u001b[0m \u001b[1;33m=\u001b[0m \u001b[0mself\u001b[0m\u001b[1;33m.\u001b[0m\u001b[0m_get_tracing_count\u001b[0m\u001b[1;33m(\u001b[0m\u001b[1;33m)\u001b[0m\u001b[1;33m\u001b[0m\u001b[1;33m\u001b[0m\u001b[0m\n",
      "\u001b[1;32m~\\AppData\\Roaming\\Python\\Python38\\site-packages\\tensorflow\\python\\eager\\def_function.py\u001b[0m in \u001b[0;36m_call\u001b[1;34m(self, *args, **kwds)\u001b[0m\n\u001b[0;32m    821\u001b[0m       \u001b[1;31m# This is the first call of __call__, so we have to initialize.\u001b[0m\u001b[1;33m\u001b[0m\u001b[1;33m\u001b[0m\u001b[1;33m\u001b[0m\u001b[0m\n\u001b[0;32m    822\u001b[0m       \u001b[0minitializers\u001b[0m \u001b[1;33m=\u001b[0m \u001b[1;33m[\u001b[0m\u001b[1;33m]\u001b[0m\u001b[1;33m\u001b[0m\u001b[1;33m\u001b[0m\u001b[0m\n\u001b[1;32m--> 823\u001b[1;33m       \u001b[0mself\u001b[0m\u001b[1;33m.\u001b[0m\u001b[0m_initialize\u001b[0m\u001b[1;33m(\u001b[0m\u001b[0margs\u001b[0m\u001b[1;33m,\u001b[0m \u001b[0mkwds\u001b[0m\u001b[1;33m,\u001b[0m \u001b[0madd_initializers_to\u001b[0m\u001b[1;33m=\u001b[0m\u001b[0minitializers\u001b[0m\u001b[1;33m)\u001b[0m\u001b[1;33m\u001b[0m\u001b[1;33m\u001b[0m\u001b[0m\n\u001b[0m\u001b[0;32m    824\u001b[0m     \u001b[1;32mfinally\u001b[0m\u001b[1;33m:\u001b[0m\u001b[1;33m\u001b[0m\u001b[1;33m\u001b[0m\u001b[0m\n\u001b[0;32m    825\u001b[0m       \u001b[1;31m# At this point we know that the initialization is complete (or less\u001b[0m\u001b[1;33m\u001b[0m\u001b[1;33m\u001b[0m\u001b[1;33m\u001b[0m\u001b[0m\n",
      "\u001b[1;32m~\\AppData\\Roaming\\Python\\Python38\\site-packages\\tensorflow\\python\\eager\\def_function.py\u001b[0m in \u001b[0;36m_initialize\u001b[1;34m(self, args, kwds, add_initializers_to)\u001b[0m\n\u001b[0;32m    694\u001b[0m     \u001b[0mself\u001b[0m\u001b[1;33m.\u001b[0m\u001b[0m_graph_deleter\u001b[0m \u001b[1;33m=\u001b[0m \u001b[0mFunctionDeleter\u001b[0m\u001b[1;33m(\u001b[0m\u001b[0mself\u001b[0m\u001b[1;33m.\u001b[0m\u001b[0m_lifted_initializer_graph\u001b[0m\u001b[1;33m)\u001b[0m\u001b[1;33m\u001b[0m\u001b[1;33m\u001b[0m\u001b[0m\n\u001b[0;32m    695\u001b[0m     self._concrete_stateful_fn = (\n\u001b[1;32m--> 696\u001b[1;33m         self._stateful_fn._get_concrete_function_internal_garbage_collected(  # pylint: disable=protected-access\n\u001b[0m\u001b[0;32m    697\u001b[0m             *args, **kwds))\n\u001b[0;32m    698\u001b[0m \u001b[1;33m\u001b[0m\u001b[0m\n",
      "\u001b[1;32m~\\AppData\\Roaming\\Python\\Python38\\site-packages\\tensorflow\\python\\eager\\function.py\u001b[0m in \u001b[0;36m_get_concrete_function_internal_garbage_collected\u001b[1;34m(self, *args, **kwargs)\u001b[0m\n\u001b[0;32m   2853\u001b[0m       \u001b[0margs\u001b[0m\u001b[1;33m,\u001b[0m \u001b[0mkwargs\u001b[0m \u001b[1;33m=\u001b[0m \u001b[1;32mNone\u001b[0m\u001b[1;33m,\u001b[0m \u001b[1;32mNone\u001b[0m\u001b[1;33m\u001b[0m\u001b[1;33m\u001b[0m\u001b[0m\n\u001b[0;32m   2854\u001b[0m     \u001b[1;32mwith\u001b[0m \u001b[0mself\u001b[0m\u001b[1;33m.\u001b[0m\u001b[0m_lock\u001b[0m\u001b[1;33m:\u001b[0m\u001b[1;33m\u001b[0m\u001b[1;33m\u001b[0m\u001b[0m\n\u001b[1;32m-> 2855\u001b[1;33m       \u001b[0mgraph_function\u001b[0m\u001b[1;33m,\u001b[0m \u001b[0m_\u001b[0m\u001b[1;33m,\u001b[0m \u001b[0m_\u001b[0m \u001b[1;33m=\u001b[0m \u001b[0mself\u001b[0m\u001b[1;33m.\u001b[0m\u001b[0m_maybe_define_function\u001b[0m\u001b[1;33m(\u001b[0m\u001b[0margs\u001b[0m\u001b[1;33m,\u001b[0m \u001b[0mkwargs\u001b[0m\u001b[1;33m)\u001b[0m\u001b[1;33m\u001b[0m\u001b[1;33m\u001b[0m\u001b[0m\n\u001b[0m\u001b[0;32m   2856\u001b[0m     \u001b[1;32mreturn\u001b[0m \u001b[0mgraph_function\u001b[0m\u001b[1;33m\u001b[0m\u001b[1;33m\u001b[0m\u001b[0m\n\u001b[0;32m   2857\u001b[0m \u001b[1;33m\u001b[0m\u001b[0m\n",
      "\u001b[1;32m~\\AppData\\Roaming\\Python\\Python38\\site-packages\\tensorflow\\python\\eager\\function.py\u001b[0m in \u001b[0;36m_maybe_define_function\u001b[1;34m(self, args, kwargs)\u001b[0m\n\u001b[0;32m   3211\u001b[0m \u001b[1;33m\u001b[0m\u001b[0m\n\u001b[0;32m   3212\u001b[0m       \u001b[0mself\u001b[0m\u001b[1;33m.\u001b[0m\u001b[0m_function_cache\u001b[0m\u001b[1;33m.\u001b[0m\u001b[0mmissed\u001b[0m\u001b[1;33m.\u001b[0m\u001b[0madd\u001b[0m\u001b[1;33m(\u001b[0m\u001b[0mcall_context_key\u001b[0m\u001b[1;33m)\u001b[0m\u001b[1;33m\u001b[0m\u001b[1;33m\u001b[0m\u001b[0m\n\u001b[1;32m-> 3213\u001b[1;33m       \u001b[0mgraph_function\u001b[0m \u001b[1;33m=\u001b[0m \u001b[0mself\u001b[0m\u001b[1;33m.\u001b[0m\u001b[0m_create_graph_function\u001b[0m\u001b[1;33m(\u001b[0m\u001b[0margs\u001b[0m\u001b[1;33m,\u001b[0m \u001b[0mkwargs\u001b[0m\u001b[1;33m)\u001b[0m\u001b[1;33m\u001b[0m\u001b[1;33m\u001b[0m\u001b[0m\n\u001b[0m\u001b[0;32m   3214\u001b[0m       \u001b[0mself\u001b[0m\u001b[1;33m.\u001b[0m\u001b[0m_function_cache\u001b[0m\u001b[1;33m.\u001b[0m\u001b[0mprimary\u001b[0m\u001b[1;33m[\u001b[0m\u001b[0mcache_key\u001b[0m\u001b[1;33m]\u001b[0m \u001b[1;33m=\u001b[0m \u001b[0mgraph_function\u001b[0m\u001b[1;33m\u001b[0m\u001b[1;33m\u001b[0m\u001b[0m\n\u001b[0;32m   3215\u001b[0m       \u001b[1;32mreturn\u001b[0m \u001b[0mgraph_function\u001b[0m\u001b[1;33m,\u001b[0m \u001b[0margs\u001b[0m\u001b[1;33m,\u001b[0m \u001b[0mkwargs\u001b[0m\u001b[1;33m\u001b[0m\u001b[1;33m\u001b[0m\u001b[0m\n",
      "\u001b[1;32m~\\AppData\\Roaming\\Python\\Python38\\site-packages\\tensorflow\\python\\eager\\function.py\u001b[0m in \u001b[0;36m_create_graph_function\u001b[1;34m(self, args, kwargs, override_flat_arg_shapes)\u001b[0m\n\u001b[0;32m   3063\u001b[0m     \u001b[0marg_names\u001b[0m \u001b[1;33m=\u001b[0m \u001b[0mbase_arg_names\u001b[0m \u001b[1;33m+\u001b[0m \u001b[0mmissing_arg_names\u001b[0m\u001b[1;33m\u001b[0m\u001b[1;33m\u001b[0m\u001b[0m\n\u001b[0;32m   3064\u001b[0m     graph_function = ConcreteFunction(\n\u001b[1;32m-> 3065\u001b[1;33m         func_graph_module.func_graph_from_py_func(\n\u001b[0m\u001b[0;32m   3066\u001b[0m             \u001b[0mself\u001b[0m\u001b[1;33m.\u001b[0m\u001b[0m_name\u001b[0m\u001b[1;33m,\u001b[0m\u001b[1;33m\u001b[0m\u001b[1;33m\u001b[0m\u001b[0m\n\u001b[0;32m   3067\u001b[0m             \u001b[0mself\u001b[0m\u001b[1;33m.\u001b[0m\u001b[0m_python_function\u001b[0m\u001b[1;33m,\u001b[0m\u001b[1;33m\u001b[0m\u001b[1;33m\u001b[0m\u001b[0m\n",
      "\u001b[1;32m~\\AppData\\Roaming\\Python\\Python38\\site-packages\\tensorflow\\python\\framework\\func_graph.py\u001b[0m in \u001b[0;36mfunc_graph_from_py_func\u001b[1;34m(name, python_func, args, kwargs, signature, func_graph, autograph, autograph_options, add_control_dependencies, arg_names, op_return_value, collections, capture_by_value, override_flat_arg_shapes)\u001b[0m\n\u001b[0;32m    984\u001b[0m         \u001b[0m_\u001b[0m\u001b[1;33m,\u001b[0m \u001b[0moriginal_func\u001b[0m \u001b[1;33m=\u001b[0m \u001b[0mtf_decorator\u001b[0m\u001b[1;33m.\u001b[0m\u001b[0munwrap\u001b[0m\u001b[1;33m(\u001b[0m\u001b[0mpython_func\u001b[0m\u001b[1;33m)\u001b[0m\u001b[1;33m\u001b[0m\u001b[1;33m\u001b[0m\u001b[0m\n\u001b[0;32m    985\u001b[0m \u001b[1;33m\u001b[0m\u001b[0m\n\u001b[1;32m--> 986\u001b[1;33m       \u001b[0mfunc_outputs\u001b[0m \u001b[1;33m=\u001b[0m \u001b[0mpython_func\u001b[0m\u001b[1;33m(\u001b[0m\u001b[1;33m*\u001b[0m\u001b[0mfunc_args\u001b[0m\u001b[1;33m,\u001b[0m \u001b[1;33m**\u001b[0m\u001b[0mfunc_kwargs\u001b[0m\u001b[1;33m)\u001b[0m\u001b[1;33m\u001b[0m\u001b[1;33m\u001b[0m\u001b[0m\n\u001b[0m\u001b[0;32m    987\u001b[0m \u001b[1;33m\u001b[0m\u001b[0m\n\u001b[0;32m    988\u001b[0m       \u001b[1;31m# invariant: `func_outputs` contains only Tensors, CompositeTensors,\u001b[0m\u001b[1;33m\u001b[0m\u001b[1;33m\u001b[0m\u001b[1;33m\u001b[0m\u001b[0m\n",
      "\u001b[1;32m~\\AppData\\Roaming\\Python\\Python38\\site-packages\\tensorflow\\python\\eager\\def_function.py\u001b[0m in \u001b[0;36mwrapped_fn\u001b[1;34m(*args, **kwds)\u001b[0m\n\u001b[0;32m    598\u001b[0m         \u001b[1;31m# __wrapped__ allows AutoGraph to swap in a converted function. We give\u001b[0m\u001b[1;33m\u001b[0m\u001b[1;33m\u001b[0m\u001b[1;33m\u001b[0m\u001b[0m\n\u001b[0;32m    599\u001b[0m         \u001b[1;31m# the function a weak reference to itself to avoid a reference cycle.\u001b[0m\u001b[1;33m\u001b[0m\u001b[1;33m\u001b[0m\u001b[1;33m\u001b[0m\u001b[0m\n\u001b[1;32m--> 600\u001b[1;33m         \u001b[1;32mreturn\u001b[0m \u001b[0mweak_wrapped_fn\u001b[0m\u001b[1;33m(\u001b[0m\u001b[1;33m)\u001b[0m\u001b[1;33m.\u001b[0m\u001b[0m__wrapped__\u001b[0m\u001b[1;33m(\u001b[0m\u001b[1;33m*\u001b[0m\u001b[0margs\u001b[0m\u001b[1;33m,\u001b[0m \u001b[1;33m**\u001b[0m\u001b[0mkwds\u001b[0m\u001b[1;33m)\u001b[0m\u001b[1;33m\u001b[0m\u001b[1;33m\u001b[0m\u001b[0m\n\u001b[0m\u001b[0;32m    601\u001b[0m     \u001b[0mweak_wrapped_fn\u001b[0m \u001b[1;33m=\u001b[0m \u001b[0mweakref\u001b[0m\u001b[1;33m.\u001b[0m\u001b[0mref\u001b[0m\u001b[1;33m(\u001b[0m\u001b[0mwrapped_fn\u001b[0m\u001b[1;33m)\u001b[0m\u001b[1;33m\u001b[0m\u001b[1;33m\u001b[0m\u001b[0m\n\u001b[0;32m    602\u001b[0m \u001b[1;33m\u001b[0m\u001b[0m\n",
      "\u001b[1;32m~\\AppData\\Roaming\\Python\\Python38\\site-packages\\tensorflow\\python\\framework\\func_graph.py\u001b[0m in \u001b[0;36mwrapper\u001b[1;34m(*args, **kwargs)\u001b[0m\n\u001b[0;32m    971\u001b[0m           \u001b[1;32mexcept\u001b[0m \u001b[0mException\u001b[0m \u001b[1;32mas\u001b[0m \u001b[0me\u001b[0m\u001b[1;33m:\u001b[0m  \u001b[1;31m# pylint:disable=broad-except\u001b[0m\u001b[1;33m\u001b[0m\u001b[1;33m\u001b[0m\u001b[0m\n\u001b[0;32m    972\u001b[0m             \u001b[1;32mif\u001b[0m \u001b[0mhasattr\u001b[0m\u001b[1;33m(\u001b[0m\u001b[0me\u001b[0m\u001b[1;33m,\u001b[0m \u001b[1;34m\"ag_error_metadata\"\u001b[0m\u001b[1;33m)\u001b[0m\u001b[1;33m:\u001b[0m\u001b[1;33m\u001b[0m\u001b[1;33m\u001b[0m\u001b[0m\n\u001b[1;32m--> 973\u001b[1;33m               \u001b[1;32mraise\u001b[0m \u001b[0me\u001b[0m\u001b[1;33m.\u001b[0m\u001b[0mag_error_metadata\u001b[0m\u001b[1;33m.\u001b[0m\u001b[0mto_exception\u001b[0m\u001b[1;33m(\u001b[0m\u001b[0me\u001b[0m\u001b[1;33m)\u001b[0m\u001b[1;33m\u001b[0m\u001b[1;33m\u001b[0m\u001b[0m\n\u001b[0m\u001b[0;32m    974\u001b[0m             \u001b[1;32melse\u001b[0m\u001b[1;33m:\u001b[0m\u001b[1;33m\u001b[0m\u001b[1;33m\u001b[0m\u001b[0m\n\u001b[0;32m    975\u001b[0m               \u001b[1;32mraise\u001b[0m\u001b[1;33m\u001b[0m\u001b[1;33m\u001b[0m\u001b[0m\n",
      "\u001b[1;31mValueError\u001b[0m: in user code:\n\n    C:\\Users\\24132\\AppData\\Roaming\\Python\\Python38\\site-packages\\tensorflow\\python\\keras\\engine\\training.py:806 train_function  *\n        return step_function(self, iterator)\n    C:\\Users\\24132\\AppData\\Roaming\\Python\\Python38\\site-packages\\tensorflow\\python\\keras\\engine\\training.py:796 step_function  **\n        outputs = model.distribute_strategy.run(run_step, args=(data,))\n    C:\\Users\\24132\\AppData\\Roaming\\Python\\Python38\\site-packages\\tensorflow\\python\\distribute\\distribute_lib.py:1211 run\n        return self._extended.call_for_each_replica(fn, args=args, kwargs=kwargs)\n    C:\\Users\\24132\\AppData\\Roaming\\Python\\Python38\\site-packages\\tensorflow\\python\\distribute\\distribute_lib.py:2585 call_for_each_replica\n        return self._call_for_each_replica(fn, args, kwargs)\n    C:\\Users\\24132\\AppData\\Roaming\\Python\\Python38\\site-packages\\tensorflow\\python\\distribute\\distribute_lib.py:2945 _call_for_each_replica\n        return fn(*args, **kwargs)\n    C:\\Users\\24132\\AppData\\Roaming\\Python\\Python38\\site-packages\\tensorflow\\python\\keras\\engine\\training.py:789 run_step  **\n        outputs = model.train_step(data)\n    C:\\Users\\24132\\AppData\\Roaming\\Python\\Python38\\site-packages\\tensorflow\\python\\keras\\engine\\training.py:756 train_step\n        _minimize(self.distribute_strategy, tape, self.optimizer, loss,\n    C:\\Users\\24132\\AppData\\Roaming\\Python\\Python38\\site-packages\\tensorflow\\python\\keras\\engine\\training.py:2736 _minimize\n        gradients = optimizer._aggregate_gradients(zip(gradients,  # pylint: disable=protected-access\n    C:\\Users\\24132\\AppData\\Roaming\\Python\\Python38\\site-packages\\tensorflow\\python\\keras\\optimizer_v2\\optimizer_v2.py:562 _aggregate_gradients\n        filtered_grads_and_vars = _filter_grads(grads_and_vars)\n    C:\\Users\\24132\\AppData\\Roaming\\Python\\Python38\\site-packages\\tensorflow\\python\\keras\\optimizer_v2\\optimizer_v2.py:1270 _filter_grads\n        raise ValueError(\"No gradients provided for any variable: %s.\" %\n\n    ValueError: No gradients provided for any variable: ['lstm_4/lstm_cell_4/kernel:0', 'lstm_4/lstm_cell_4/recurrent_kernel:0', 'lstm_4/lstm_cell_4/bias:0', 'dense_4/kernel:0', 'dense_4/bias:0'].\n"
     ]
    }
   ],
   "source": [
    "from keras.models import Sequential\n",
    "from keras.layers import Dense,Dropout,Embedding,Flatten,LSTM\n",
    "import math\n",
    "\n",
    "batch_size = 50\n",
    "num_neurons = 40\n",
    "maxlen = 1500\n",
    "model = Sequential()\n",
    "model.add(LSTM(num_neurons,return_sequences=True,input_shape=(maxlen,len(char_indices.keys()))))\n",
    "model.add(Dropout(0.2))\n",
    "model.add(Flatten())\n",
    "model.add(Dense(1,activation='sigmoid'))\n",
    "model.compile('rmsprop','binary_crossentropy',metrics=['accuracy'])\n",
    "model.summary()\n",
    "\n",
    "X_test=generate_onehot(testData,char_indices,maxlen=maxlen)\n",
    "\n",
    "trainlen = len(trainData)\n",
    "testlen = len(testData)\n",
    "\n",
    "history=model.fit(generate_onehot(trainData,char_indices,maxlen=maxlen),steps_per_epoch=math.ceil(trainlen/batch_size),epochs=3,validation_data=X_test,validation_steps=math.ceil(testlen/batch_size))\n"
   ]
  },
  {
   "cell_type": "code",
   "execution_count": null,
   "metadata": {},
   "outputs": [],
   "source": []
  },
  {
   "cell_type": "code",
   "execution_count": null,
   "metadata": {},
   "outputs": [],
   "source": []
  }
 ],
 "metadata": {
  "kernelspec": {
   "display_name": "Python 3",
   "language": "python",
   "name": "python3"
  },
  "language_info": {
   "codemirror_mode": {
    "name": "ipython",
    "version": 3
   },
   "file_extension": ".py",
   "mimetype": "text/x-python",
   "name": "python",
   "nbconvert_exporter": "python",
   "pygments_lexer": "ipython3",
   "version": "3.8.5"
  }
 },
 "nbformat": 4,
 "nbformat_minor": 4
}
